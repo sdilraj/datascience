{
  "nbformat": 4,
  "nbformat_minor": 0,
  "metadata": {
    "colab": {
      "name": "PythonLib.ipynb",
      "provenance": [],
      "authorship_tag": "ABX9TyMev7uQ2mIbMzyEo1haH4wg"
    },
    "kernelspec": {
      "name": "python3",
      "display_name": "Python 3"
    }
  },
  "cells": [
    {
      "cell_type": "code",
      "metadata": {
        "id": "u1-BLG5abeX0",
        "colab_type": "code",
        "outputId": "0770d095-b1c3-4d6e-8d03-e3c9051ac948",
        "colab": {
          "base_uri": "https://localhost:8080/",
          "height": 119
        }
      },
      "source": [
        "# orders of operations\n",
        "print(1+2.3) # add\n",
        "print(1 * 2) # multiplication\n",
        "print(5 / 2) # division\n",
        "print(5 // 2) # no decimal\n",
        "print(2 ** 4) # power\n",
        "print(4 % 2) # remainder"
      ],
      "execution_count": 0,
      "outputs": [
        {
          "output_type": "stream",
          "text": [
            "3.3\n",
            "2\n",
            "2.5\n",
            "2\n",
            "16\n",
            "0\n"
          ],
          "name": "stdout"
        }
      ]
    },
    {
      "cell_type": "code",
      "metadata": {
        "id": "8AdWGEeuhxji",
        "colab_type": "code",
        "outputId": "8238bcd2-2481-457c-b4ca-22a078045b4d",
        "colab": {
          "base_uri": "https://localhost:8080/",
          "height": 51
        }
      },
      "source": [
        "#list inside a list\n",
        "my_list = ['a','b',[4,'d']]\n",
        "print(my_list)\n",
        "my_list[2][0]"
      ],
      "execution_count": 0,
      "outputs": [
        {
          "output_type": "stream",
          "text": [
            "['a', 'b', [4, 'd']]\n"
          ],
          "name": "stdout"
        },
        {
          "output_type": "execute_result",
          "data": {
            "text/plain": [
              "4"
            ]
          },
          "metadata": {
            "tags": []
          },
          "execution_count": 16
        }
      ]
    },
    {
      "cell_type": "code",
      "metadata": {
        "id": "_fPoQNAqiJOo",
        "colab_type": "code",
        "outputId": "9be06874-f986-4f04-a45b-95dc09a1e0ab",
        "colab": {
          "base_uri": "https://localhost:8080/",
          "height": 34
        }
      },
      "source": [
        "#dict -> key value pair like hash tables\n",
        "d = {'key1': 'value1', 'key2': 'value2'}\n",
        "d['key2']"
      ],
      "execution_count": 0,
      "outputs": [
        {
          "output_type": "execute_result",
          "data": {
            "text/plain": [
              "'value2'"
            ]
          },
          "metadata": {
            "tags": []
          },
          "execution_count": 18
        }
      ]
    },
    {
      "cell_type": "code",
      "metadata": {
        "id": "KpBVVQlLh0ph",
        "colab_type": "code",
        "colab": {}
      },
      "source": [
        "#other DS\n",
        "\n",
        "#set {} unique\n",
        "# tuples () immutable"
      ],
      "execution_count": 0,
      "outputs": []
    },
    {
      "cell_type": "code",
      "metadata": {
        "id": "2LFGyKhj5RIC",
        "colab_type": "code",
        "outputId": "266a44c9-9eb4-4346-9a61-eccb5483b80d",
        "colab": {
          "base_uri": "https://localhost:8080/",
          "height": 34
        }
      },
      "source": [
        "#if else\n",
        "\n",
        "if (1 < 2):\n",
        "  print('1 is less than 2')\n",
        "else:\n",
        "  print('1 is greater than 2')"
      ],
      "execution_count": 0,
      "outputs": [
        {
          "output_type": "stream",
          "text": [
            "1 is less than 2\n"
          ],
          "name": "stdout"
        }
      ]
    },
    {
      "cell_type": "code",
      "metadata": {
        "id": "PD5x5otg5dz4",
        "colab_type": "code",
        "outputId": "ffcdfa7a-829f-4c21-ce2d-a3115dac2079",
        "colab": {
          "base_uri": "https://localhost:8080/",
          "height": 102
        }
      },
      "source": [
        "#for loop\n",
        "item = [1,2,3,4,5]\n",
        "for i in item:\n",
        "  print(i)"
      ],
      "execution_count": 0,
      "outputs": [
        {
          "output_type": "stream",
          "text": [
            "1\n",
            "2\n",
            "3\n",
            "4\n",
            "5\n"
          ],
          "name": "stdout"
        }
      ]
    },
    {
      "cell_type": "code",
      "metadata": {
        "id": "krjspUyC71z4",
        "colab_type": "code",
        "outputId": "59f759e6-317b-47c0-9b1e-36ad2bf9b318",
        "colab": {
          "base_uri": "https://localhost:8080/",
          "height": 119
        }
      },
      "source": [
        "#while loop\n",
        "i = 1 \n",
        "while i < 7:\n",
        "  print('i is {}'.format(i))\n",
        "  i = i +1"
      ],
      "execution_count": 0,
      "outputs": [
        {
          "output_type": "stream",
          "text": [
            "i is 1\n",
            "i is 2\n",
            "i is 3\n",
            "i is 4\n",
            "i is 5\n",
            "i is 6\n"
          ],
          "name": "stdout"
        }
      ]
    },
    {
      "cell_type": "code",
      "metadata": {
        "id": "y3eBLNIl8wlw",
        "colab_type": "code",
        "outputId": "46ec8218-76dd-4ad8-aef6-bc3254586cf6",
        "colab": {
          "base_uri": "https://localhost:8080/",
          "height": 102
        }
      },
      "source": [
        "#range\n",
        "for i in range(0,5):\n",
        "  print(i)"
      ],
      "execution_count": 0,
      "outputs": [
        {
          "output_type": "stream",
          "text": [
            "0\n",
            "1\n",
            "2\n",
            "3\n",
            "4\n"
          ],
          "name": "stdout"
        }
      ]
    },
    {
      "cell_type": "code",
      "metadata": {
        "id": "NgArdo5O9fHV",
        "colab_type": "code",
        "colab": {
          "base_uri": "https://localhost:8080/",
          "height": 153
        },
        "outputId": "bbfe75a9-e44b-410f-c8eb-3d7c0d9aa8d4"
      },
      "source": [
        "#list comprehension\n",
        "x = [1,2,3,4,5,6]\n",
        "result = []\n",
        "for i in x:\n",
        "  result.append(i**2)\n",
        "  print(result)\n",
        "print('-----------------')\n",
        "\n",
        "result = [i**2 for i in x] # list comprehension\n",
        "print(result)"
      ],
      "execution_count": 34,
      "outputs": [
        {
          "output_type": "stream",
          "text": [
            "[1]\n",
            "[1, 4]\n",
            "[1, 4, 9]\n",
            "[1, 4, 9, 16]\n",
            "[1, 4, 9, 16, 25]\n",
            "[1, 4, 9, 16, 25, 36]\n",
            "-----------------\n",
            "[1, 4, 9, 16, 25, 36]\n"
          ],
          "name": "stdout"
        }
      ]
    },
    {
      "cell_type": "code",
      "metadata": {
        "id": "cUZdOrMA_4D8",
        "colab_type": "code",
        "colab": {
          "base_uri": "https://localhost:8080/",
          "height": 34
        },
        "outputId": "5abf9ed3-e30b-4703-de62-b84c79731dd0"
      },
      "source": [
        "#function\n",
        "def my_func(name, number):\n",
        "  print('Hello ' + name + ' ' + number)\n",
        "my_func('User', '30')"
      ],
      "execution_count": 41,
      "outputs": [
        {
          "output_type": "stream",
          "text": [
            "Hello User 30\n"
          ],
          "name": "stdout"
        }
      ]
    },
    {
      "cell_type": "code",
      "metadata": {
        "id": "d_dWEtGZA9WW",
        "colab_type": "code",
        "colab": {
          "base_uri": "https://localhost:8080/",
          "height": 34
        },
        "outputId": "3b4a5026-6ee1-4c2e-830f-0cbce374891a"
      },
      "source": [
        "#map\n",
        "#lambda\n",
        "seq = [1,2,3,4]\n",
        "list(map(lambda num: num* 2, seq))"
      ],
      "execution_count": 45,
      "outputs": [
        {
          "output_type": "execute_result",
          "data": {
            "text/plain": [
              "[2, 4, 6, 8]"
            ]
          },
          "metadata": {
            "tags": []
          },
          "execution_count": 45
        }
      ]
    },
    {
      "cell_type": "code",
      "metadata": {
        "id": "0YbdKaffDiSe",
        "colab_type": "code",
        "colab": {
          "base_uri": "https://localhost:8080/",
          "height": 34
        },
        "outputId": "38f39a32-a4d3-4337-ef15-12ae6297e1c6"
      },
      "source": [
        "#filter\n",
        "list(filter(lambda num: num %2 == 0, seq))"
      ],
      "execution_count": 46,
      "outputs": [
        {
          "output_type": "execute_result",
          "data": {
            "text/plain": [
              "[2, 4]"
            ]
          },
          "metadata": {
            "tags": []
          },
          "execution_count": 46
        }
      ]
    },
    {
      "cell_type": "code",
      "metadata": {
        "id": "m0iTuLXrGYao",
        "colab_type": "code",
        "colab": {
          "base_uri": "https://localhost:8080/",
          "height": 34
        },
        "outputId": "10f8b54b-d00f-4648-bc26-2502aa4900be"
      },
      "source": [
        "#methods\n",
        "#split\n",
        "inp = 'Hello User, Welcome'\n",
        "inp.split()[2]"
      ],
      "execution_count": 48,
      "outputs": [
        {
          "output_type": "execute_result",
          "data": {
            "text/plain": [
              "'Welcome'"
            ]
          },
          "metadata": {
            "tags": []
          },
          "execution_count": 48
        }
      ]
    },
    {
      "cell_type": "code",
      "metadata": {
        "id": "IXdr3_EuG_DJ",
        "colab_type": "code",
        "colab": {
          "base_uri": "https://localhost:8080/",
          "height": 68
        },
        "outputId": "1c0a5307-dac3-4dfb-b4da-11cba36d8a2c"
      },
      "source": [
        "#tuples unpacking\n",
        "x = [(1,2), (3,4), (5,6)]\n",
        "for a,b in x:\n",
        "  print(b)"
      ],
      "execution_count": 49,
      "outputs": [
        {
          "output_type": "stream",
          "text": [
            "2\n",
            "4\n",
            "6\n"
          ],
          "name": "stdout"
        }
      ]
    },
    {
      "cell_type": "code",
      "metadata": {
        "id": "cpUxqj-QIlCb",
        "colab_type": "code",
        "colab": {}
      },
      "source": [
        ""
      ],
      "execution_count": 0,
      "outputs": []
    }
  ]
}