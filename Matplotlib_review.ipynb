{
  "nbformat": 4,
  "nbformat_minor": 0,
  "metadata": {
    "kernelspec": {
      "display_name": "Python 3",
      "language": "python",
      "name": "python3"
    },
    "language_info": {
      "codemirror_mode": {
        "name": "ipython",
        "version": 3
      },
      "file_extension": ".py",
      "mimetype": "text/x-python",
      "name": "python",
      "nbconvert_exporter": "python",
      "pygments_lexer": "ipython3",
      "version": "3.5.1"
    },
    "colab": {
      "name": "Matplotlib review.ipynb",
      "provenance": []
    }
  },
  "cells": [
    {
      "cell_type": "markdown",
      "metadata": {
        "id": "cjGWjx-y4KX7",
        "colab_type": "text"
      },
      "source": [
        "___\n",
        "\n",
        "<a href='http://www.pieriandata.com'> <img src='../Pierian_Data_Logo.png' /></a>\n",
        "___\n",
        "# Matplotlib Exercises \n",
        "\n",
        "Welcome to the exercises for reviewing matplotlib! Take your time with these, Matplotlib can be tricky to understand at first. These are relatively simple plots, but they can be hard if this is your first time with matplotlib, feel free to reference the solutions as you go along.\n",
        "\n",
        "Also don't worry if you find the matplotlib syntax frustrating, we actually won't be using it that often throughout the course, we will switch to using seaborn and pandas built-in visualization capabilities. But, those are built-off of matplotlib, which is why it is still important to get exposure to it!\n",
        "\n",
        "** * NOTE: ALL THE COMMANDS FOR PLOTTING A FIGURE SHOULD ALL GO IN THE SAME CELL. SEPARATING THEM OUT INTO MULTIPLE CELLS MAY CAUSE NOTHING TO SHOW UP. * **\n",
        "\n",
        "# Exercises\n",
        "\n",
        "Follow the instructions to recreate the plots using this data:\n",
        "\n",
        "## Data"
      ]
    },
    {
      "cell_type": "code",
      "metadata": {
        "id": "t4VIJnFC4KX9",
        "colab_type": "code",
        "colab": {}
      },
      "source": [
        "import numpy as np\n",
        "x = np.arange(0,100)\n",
        "y = x*2\n",
        "z = x**2\n"
      ],
      "execution_count": 0,
      "outputs": []
    },
    {
      "cell_type": "markdown",
      "metadata": {
        "id": "nmFc4HHd4KYC",
        "colab_type": "text"
      },
      "source": [
        "** Import matplotlib.pyplot as plt and set %matplotlib inline if you are using the jupyter notebook. What command do you use if you aren't using the jupyter notebook?**"
      ]
    },
    {
      "cell_type": "code",
      "metadata": {
        "id": "NlykzM3_4KYD",
        "colab_type": "code",
        "colab": {}
      },
      "source": [
        "import matplotlib.pyplot as plt\n"
      ],
      "execution_count": 0,
      "outputs": []
    },
    {
      "cell_type": "markdown",
      "metadata": {
        "id": "gqIC5vtc4KYH",
        "colab_type": "text"
      },
      "source": [
        "## Exercise 1\n",
        "\n",
        "** Follow along with these steps: **\n",
        "* ** Create a figure object called fig using plt.figure() **\n",
        "* ** Use add_axes to add an axis to the figure canvas at [0,0,1,1]. Call this new axis ax. **\n",
        "* ** Plot (x,y) on that axes and set the labels and titles to match the plot below:**"
      ]
    },
    {
      "cell_type": "code",
      "metadata": {
        "id": "OzdmHRPL4KYI",
        "colab_type": "code",
        "colab": {
          "base_uri": "https://localhost:8080/",
          "height": 383
        },
        "outputId": "30693f17-284e-415c-f326-3b263832a36e"
      },
      "source": [
        "fig = plt.figure()\n",
        "\n",
        "axes = fig.add_axes([0,0,1,1])\n",
        "\n",
        "axes.plot(x,y)\n",
        "\n",
        "axes.set_xlabel('X label')\n",
        "axes.set_ylabel('Y label')\n",
        "axes.set_title('title')"
      ],
      "execution_count": 11,
      "outputs": [
        {
          "output_type": "execute_result",
          "data": {
            "text/plain": [
              "Text(0.5, 1.0, 'title')"
            ]
          },
          "metadata": {
            "tags": []
          },
          "execution_count": 11
        },
        {
          "output_type": "display_data",
          "data": {
            "image/png": "[encoded data removed]",
            "text/plain": [
              "<Figure size 432x288 with 1 Axes>"
            ]
          },
          "metadata": {
            "tags": [],
            "needs_background": "light"
          }
        }
      ]
    },
    {
      "cell_type": "markdown",
      "metadata": {
        "id": "b3xrS7bH4KYN",
        "colab_type": "text"
      },
      "source": [
        "## Exercise 2\n",
        "** Create a figure object and put two axes on it, ax1 and ax2. Located at [0,0,1,1] and [0.2,0.5,.2,.2] respectively.**"
      ]
    },
    {
      "cell_type": "code",
      "metadata": {
        "id": "hwU9Bxaw4KYO",
        "colab_type": "code",
        "colab": {
          "base_uri": "https://localhost:8080/",
          "height": 340
        },
        "outputId": "85f5dde9-e4d8-45d3-98c5-8c92ce425784"
      },
      "source": [
        "fig = plt.figure()\n",
        "\n",
        "axes1 = fig.add_axes([0,0,1,1])\n",
        "axes2 = fig.add_axes([0.2,0.5,.2,.2])\n"
      ],
      "execution_count": 14,
      "outputs": [
        {
          "output_type": "display_data",
          "data": {
            "image/png": "[encoded data removed]",
            "text/plain": [
              "<Figure size 432x288 with 2 Axes>"
            ]
          },
          "metadata": {
            "tags": [],
            "needs_background": "light"
          }
        }
      ]
    },
    {
      "cell_type": "markdown",
      "metadata": {
        "id": "dNWCxKGZ4KYS",
        "colab_type": "text"
      },
      "source": [
        "** Now plot (x,y) on both axes. And call your figure object to show it.**"
      ]
    },
    {
      "cell_type": "code",
      "metadata": {
        "id": "uTZ4T4tf4KYT",
        "colab_type": "code",
        "colab": {
          "base_uri": "https://localhost:8080/",
          "height": 34
        },
        "outputId": "1e4b20af-7235-45f9-c490-b652438b33ce"
      },
      "source": [
        "axes1.plot(x,y)\n",
        "axes2.plot(x,y)"
      ],
      "execution_count": 16,
      "outputs": [
        {
          "output_type": "execute_result",
          "data": {
            "text/plain": [
              "[<matplotlib.lines.Line2D at 0x7f0e14f2a160>]"
            ]
          },
          "metadata": {
            "tags": []
          },
          "execution_count": 16
        }
      ]
    },
    {
      "cell_type": "markdown",
      "metadata": {
        "id": "hx1ygz2H4KYX",
        "colab_type": "text"
      },
      "source": [
        "## Exercise 3\n",
        "\n",
        "** Create the plot below by adding two axes to a figure object at [0,0,1,1] and [0.2,0.5,.4,.4]**"
      ]
    },
    {
      "cell_type": "code",
      "metadata": {
        "id": "bliVQAV14KYY",
        "colab_type": "code",
        "colab": {
          "base_uri": "https://localhost:8080/",
          "height": 340
        },
        "outputId": "5daa1c0b-1dd8-4a5f-8b84-7b1b4d64729d"
      },
      "source": [
        "fig = plt.figure()\n",
        "\n",
        "axes1 = fig.add_axes([0,0,1,1])\n",
        "axes2 = fig.add_axes([0.2,0.5,.4,.4])\n"
      ],
      "execution_count": 18,
      "outputs": [
        {
          "output_type": "display_data",
          "data": {
            "image/png": "[encoded data removed]",
            "text/plain": [
              "<Figure size 432x288 with 2 Axes>"
            ]
          },
          "metadata": {
            "tags": [],
            "needs_background": "light"
          }
        }
      ]
    },
    {
      "cell_type": "markdown",
      "metadata": {
        "id": "JO2YX_o64KYd",
        "colab_type": "text"
      },
      "source": [
        "** Now use x,y, and z arrays to recreate the plot below. Notice the xlimits and y limits on the inserted plot:**"
      ]
    },
    {
      "cell_type": "code",
      "metadata": {
        "id": "cTPnxt7e4KYe",
        "colab_type": "code",
        "colab": {
          "base_uri": "https://localhost:8080/",
          "height": 353
        },
        "outputId": "a78ce146-0bd0-4dbb-c299-79a89809fa3f"
      },
      "source": [
        "fig = plt.figure()\n",
        "\n",
        "axes1 = fig.add_axes([0,0,1,1])\n",
        "axes2 = fig.add_axes([0.2,0.5,.4,.4])\n",
        "\n",
        "axes1.plot(x,z)\n",
        "axes2.plot(x,y)\n",
        "\n",
        "axes.set_xlabel('x')\n",
        "\n",
        "axes2.set_xlim([20,22]) #setting limits by using lim\n",
        "axes2.set_ylim([30,50])"
      ],
      "execution_count": 23,
      "outputs": [
        {
          "output_type": "execute_result",
          "data": {
            "text/plain": [
              "(30.0, 50.0)"
            ]
          },
          "metadata": {
            "tags": []
          },
          "execution_count": 23
        },
        {
          "output_type": "display_data",
          "data": {
            "image/png": "[encoded data removed]",
            "text/plain": [
              "<Figure size 432x288 with 2 Axes>"
            ]
          },
          "metadata": {
            "tags": [],
            "needs_background": "light"
          }
        }
      ]
    },
    {
      "cell_type": "markdown",
      "metadata": {
        "id": "b_uY5z8U4KYi",
        "colab_type": "text"
      },
      "source": [
        "## Exercise 4\n",
        "\n",
        "** Use plt.subplots(nrows=1, ncols=2) to create the plot below.**"
      ]
    },
    {
      "cell_type": "code",
      "metadata": {
        "id": "ERA-eZL94KYi",
        "colab_type": "code",
        "colab": {
          "base_uri": "https://localhost:8080/",
          "height": 269
        },
        "outputId": "fe7048ee-be82-4327-f996-13257f4cbe41"
      },
      "source": [
        "fig,axes = plt.subplots(1,2)\n"
      ],
      "execution_count": 24,
      "outputs": [
        {
          "output_type": "display_data",
          "data": {
            "image/png": "[encoded data removed]",
            "text/plain": [
              "<Figure size 432x288 with 2 Axes>"
            ]
          },
          "metadata": {
            "tags": [],
            "needs_background": "light"
          }
        }
      ]
    },
    {
      "cell_type": "markdown",
      "metadata": {
        "id": "FRJvDibn4KYm",
        "colab_type": "text"
      },
      "source": [
        "** Now plot (x,y) and (x,z) on the axes. Play around with the linewidth and style**"
      ]
    },
    {
      "cell_type": "code",
      "metadata": {
        "id": "muhKDtab4KYn",
        "colab_type": "code",
        "colab": {
          "base_uri": "https://localhost:8080/",
          "height": 282
        },
        "outputId": "ae452fb0-a70d-45f4-83fe-8ba3c12a97a3"
      },
      "source": [
        "fig, axes = plt.subplots(1,2)\n",
        "\n",
        "axes[0].plot(x,y, color = 'blue')\n",
        "axes[1].plot(x,z, color = 'red')"
      ],
      "execution_count": 25,
      "outputs": [
        {
          "output_type": "execute_result",
          "data": {
            "text/plain": [
              "[<matplotlib.lines.Line2D at 0x7f0e14cac128>]"
            ]
          },
          "metadata": {
            "tags": []
          },
          "execution_count": 25
        },
        {
          "output_type": "display_data",
          "data": {
            "image/png": "[encoded data removed]",
            "text/plain": [
              "<Figure size 432x288 with 2 Axes>"
            ]
          },
          "metadata": {
            "tags": [],
            "needs_background": "light"
          }
        }
      ]
    },
    {
      "cell_type": "markdown",
      "metadata": {
        "id": "Dzpv1j9h4KYq",
        "colab_type": "text"
      },
      "source": [
        "** See if you can resize the plot by adding the figsize() argument in plt.subplots() are copying and pasting your previous code.**"
      ]
    },
    {
      "cell_type": "code",
      "metadata": {
        "id": "qspq_n-64KYr",
        "colab_type": "code",
        "colab": {
          "base_uri": "https://localhost:8080/",
          "height": 175
        },
        "outputId": "62b0e578-0b21-427c-b1b7-4005499c8342"
      },
      "source": [
        "fig, axes = plt.subplots(1,2,figsize = (12,2))\n",
        "\n",
        "axes[0].plot(x,y, color = 'blue')\n",
        "axes[1].plot(x,z, color = 'red')"
      ],
      "execution_count": 27,
      "outputs": [
        {
          "output_type": "execute_result",
          "data": {
            "text/plain": [
              "[<matplotlib.lines.Line2D at 0x7f0e14fa6710>]"
            ]
          },
          "metadata": {
            "tags": []
          },
          "execution_count": 27
        },
        {
          "output_type": "display_data",
          "data": {
            "image/png": "[encoded data removed]",
            "text/plain": [
              "<Figure size 864x144 with 2 Axes>"
            ]
          },
          "metadata": {
            "tags": [],
            "needs_background": "light"
          }
        }
      ]
    },
    {
      "cell_type": "markdown",
      "metadata": {
        "id": "SVA7JAAZ4KYv",
        "colab_type": "text"
      },
      "source": [
        "# Great Job!"
      ]
    }
  ]
}