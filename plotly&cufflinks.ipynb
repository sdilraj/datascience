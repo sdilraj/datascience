{
  "nbformat": 4,
  "nbformat_minor": 0,
  "metadata": {
    "colab": {
      "name": "plotly&cufflinks.ipynb",
      "provenance": [],
      "authorship_tag": "ABX9TyMTnZQA9wjYdt3g8cG+CEJ/"
    },
    "kernelspec": {
      "name": "python3",
      "display_name": "Python 3"
    }
  },
  "cells": [
    {
      "cell_type": "code",
      "metadata": {
        "id": "F6qftW_dXj1H",
        "colab_type": "code",
        "colab": {}
      },
      "source": [
        "import pandas as pd\n",
        "import numpy as np"
      ],
      "execution_count": 0,
      "outputs": []
    },
    {
      "cell_type": "code",
      "metadata": {
        "id": "v1-4AzsfXwHi",
        "colab_type": "code",
        "colab": {}
      },
      "source": [
        "from plotly import __version__"
      ],
      "execution_count": 0,
      "outputs": []
    },
    {
      "cell_type": "code",
      "metadata": {
        "id": "gyXQiUlohWCG",
        "colab_type": "code",
        "colab": {}
      },
      "source": [
        "import cufflinks as cf\n",
        "%matplotlib inline"
      ],
      "execution_count": 0,
      "outputs": []
    },
    {
      "cell_type": "code",
      "metadata": {
        "id": "0-APYyBphdZ-",
        "colab_type": "code",
        "colab": {}
      },
      "source": [
        "from plotly.offline import download_plotlyjs, init_notebook_mode,plot,iplot #plotly connects pandas, numpy to interactive javascript"
      ],
      "execution_count": 0,
      "outputs": []
    },
    {
      "cell_type": "code",
      "metadata": {
        "id": "k1Ycy8_0RFct",
        "colab_type": "code",
        "colab": {
          "base_uri": "https://localhost:8080/",
          "height": 17
        },
        "outputId": "2ed47128-a48b-40ca-c5e9-70f9613b6f90"
      },
      "source": [
        "init_notebook_mode(connected = True) # connecting javascript to the notebook"
      ],
      "execution_count": 7,
      "outputs": [
        {
          "output_type": "display_data",
          "data": {
            "text/html": [
              "        <script type=\"text/javascript\">\n",
              "        window.PlotlyConfig = {MathJaxConfig: 'local'};\n",
              "        if (window.MathJax) {MathJax.Hub.Config({SVG: {font: \"STIX-Web\"}});}\n",
              "        if (typeof require !== 'undefined') {\n",
              "        require.undef(\"plotly\");\n",
              "        requirejs.config({\n",
              "            paths: {\n",
              "                'plotly': ['https://cdn.plot.ly/plotly-latest.min']\n",
              "            }\n",
              "        });\n",
              "        require(['plotly'], function(Plotly) {\n",
              "            window._Plotly = Plotly;\n",
              "        });\n",
              "        }\n",
              "        </script>\n",
              "        "
            ]
          },
          "metadata": {
            "tags": []
          }
        }
      ]
    },
    {
      "cell_type": "code",
      "metadata": {
        "id": "mgA0DhMjRWwZ",
        "colab_type": "code",
        "colab": {
          "base_uri": "https://localhost:8080/",
          "height": 17
        },
        "outputId": "beab6966-5f68-45c6-b3b1-f7357dd82735"
      },
      "source": [
        "cf.go_offline()"
      ],
      "execution_count": 8,
      "outputs": [
        {
          "output_type": "display_data",
          "data": {
            "text/html": [
              "        <script type=\"text/javascript\">\n",
              "        window.PlotlyConfig = {MathJaxConfig: 'local'};\n",
              "        if (window.MathJax) {MathJax.Hub.Config({SVG: {font: \"STIX-Web\"}});}\n",
              "        if (typeof require !== 'undefined') {\n",
              "        require.undef(\"plotly\");\n",
              "        requirejs.config({\n",
              "            paths: {\n",
              "                'plotly': ['https://cdn.plot.ly/plotly-latest.min']\n",
              "            }\n",
              "        });\n",
              "        require(['plotly'], function(Plotly) {\n",
              "            window._Plotly = Plotly;\n",
              "        });\n",
              "        }\n",
              "        </script>\n",
              "        "
            ]
          },
          "metadata": {
            "tags": []
          }
        }
      ]
    },
    {
      "cell_type": "code",
      "metadata": {
        "id": "67IfMpknRxp_",
        "colab_type": "code",
        "colab": {
          "base_uri": "https://localhost:8080/",
          "height": 204
        },
        "outputId": "c6684699-8de8-40f1-d26f-dd3046a47c31"
      },
      "source": [
        "df = pd.DataFrame(np.random.randn(100,4), columns = 'A B C D'.split())\n",
        "df.head()"
      ],
      "execution_count": 36,
      "outputs": [
        {
          "output_type": "execute_result",
          "data": {
            "text/html": [
              "<div>\n",
              "<style scoped>\n",
              "    .dataframe tbody tr th:only-of-type {\n",
              "        vertical-align: middle;\n",
              "    }\n",
              "\n",
              "    .dataframe tbody tr th {\n",
              "        vertical-align: top;\n",
              "    }\n",
              "\n",
              "    .dataframe thead th {\n",
              "        text-align: right;\n",
              "    }\n",
              "</style>\n",
              "<table border=\"1\" class=\"dataframe\">\n",
              "  <thead>\n",
              "    <tr style=\"text-align: right;\">\n",
              "      <th></th>\n",
              "      <th>A</th>\n",
              "      <th>B</th>\n",
              "      <th>C</th>\n",
              "      <th>D</th>\n",
              "    </tr>\n",
              "  </thead>\n",
              "  <tbody>\n",
              "    <tr>\n",
              "      <th>0</th>\n",
              "      <td>0.480970</td>\n",
              "      <td>1.001631</td>\n",
              "      <td>0.807379</td>\n",
              "      <td>0.490435</td>\n",
              "    </tr>\n",
              "    <tr>\n",
              "      <th>1</th>\n",
              "      <td>0.411673</td>\n",
              "      <td>-1.127886</td>\n",
              "      <td>-1.697375</td>\n",
              "      <td>-0.160209</td>\n",
              "    </tr>\n",
              "    <tr>\n",
              "      <th>2</th>\n",
              "      <td>1.161231</td>\n",
              "      <td>0.192074</td>\n",
              "      <td>0.409966</td>\n",
              "      <td>0.560022</td>\n",
              "    </tr>\n",
              "    <tr>\n",
              "      <th>3</th>\n",
              "      <td>-0.184681</td>\n",
              "      <td>-0.744223</td>\n",
              "      <td>1.285469</td>\n",
              "      <td>-1.645774</td>\n",
              "    </tr>\n",
              "    <tr>\n",
              "      <th>4</th>\n",
              "      <td>0.909077</td>\n",
              "      <td>-0.374276</td>\n",
              "      <td>0.636150</td>\n",
              "      <td>0.496306</td>\n",
              "    </tr>\n",
              "  </tbody>\n",
              "</table>\n",
              "</div>"
            ],
            "text/plain": [
              "          A         B         C         D\n",
              "0  0.480970  1.001631  0.807379  0.490435\n",
              "1  0.411673 -1.127886 -1.697375 -0.160209\n",
              "2  1.161231  0.192074  0.409966  0.560022\n",
              "3 -0.184681 -0.744223  1.285469 -1.645774\n",
              "4  0.909077 -0.374276  0.636150  0.496306"
            ]
          },
          "metadata": {
            "tags": []
          },
          "execution_count": 36
        }
      ]
    },
    {
      "cell_type": "code",
      "metadata": {
        "id": "KGfY31UWR9T-",
        "colab_type": "code",
        "colab": {
          "base_uri": "https://localhost:8080/",
          "height": 142
        },
        "outputId": "7ec6b6ba-2a16-42e2-ec68-7ea494cf7a26"
      },
      "source": [
        "df2 = pd.DataFrame({'Category': ['A', 'B', 'C'], 'Values': [32,43,50]})\n",
        "df2"
      ],
      "execution_count": 13,
      "outputs": [
        {
          "output_type": "execute_result",
          "data": {
            "text/html": [
              "<div>\n",
              "<style scoped>\n",
              "    .dataframe tbody tr th:only-of-type {\n",
              "        vertical-align: middle;\n",
              "    }\n",
              "\n",
              "    .dataframe tbody tr th {\n",
              "        vertical-align: top;\n",
              "    }\n",
              "\n",
              "    .dataframe thead th {\n",
              "        text-align: right;\n",
              "    }\n",
              "</style>\n",
              "<table border=\"1\" class=\"dataframe\">\n",
              "  <thead>\n",
              "    <tr style=\"text-align: right;\">\n",
              "      <th></th>\n",
              "      <th>Category</th>\n",
              "      <th>Values</th>\n",
              "    </tr>\n",
              "  </thead>\n",
              "  <tbody>\n",
              "    <tr>\n",
              "      <th>0</th>\n",
              "      <td>A</td>\n",
              "      <td>32</td>\n",
              "    </tr>\n",
              "    <tr>\n",
              "      <th>1</th>\n",
              "      <td>B</td>\n",
              "      <td>43</td>\n",
              "    </tr>\n",
              "    <tr>\n",
              "      <th>2</th>\n",
              "      <td>C</td>\n",
              "      <td>50</td>\n",
              "    </tr>\n",
              "  </tbody>\n",
              "</table>\n",
              "</div>"
            ],
            "text/plain": [
              "  Category  Values\n",
              "0        A      32\n",
              "1        B      43\n",
              "2        C      50"
            ]
          },
          "metadata": {
            "tags": []
          },
          "execution_count": 13
        }
      ]
    },
    {
      "cell_type": "code",
      "metadata": {
        "id": "HISa5kquSby2",
        "colab_type": "code",
        "colab": {
          "base_uri": "https://localhost:8080/",
          "height": 282
        },
        "outputId": "d3f97247-5766-4451-e8ba-66344e3c5a42"
      },
      "source": [
        "df.plot()\n",
        "#iplot -> #iplot makes it interactive"
      ],
      "execution_count": 22,
      "outputs": [
        {
          "output_type": "execute_result",
          "data": {
            "text/plain": [
              "<matplotlib.axes._subplots.AxesSubplot at 0x7fdb4ff0b7f0>"
            ]
          },
          "metadata": {
            "tags": []
          },
          "execution_count": 22
        },
        {
          "output_type": "display_data",
          "data": {
            "image/png": "[encoded data removed]",
            "text/plain": [
              "<Figure size 432x288 with 1 Axes>"
            ]
          },
          "metadata": {
            "tags": [],
            "needs_background": "light"
          }
        }
      ]
    },
    {
      "cell_type": "code",
      "metadata": {
        "id": "DXEGIFxTShVE",
        "colab_type": "code",
        "colab": {
          "base_uri": "https://localhost:8080/",
          "height": 296
        },
        "outputId": "d3f26c19-dfb9-4269-b60e-14006d55ddf8"
      },
      "source": [
        "df.plot(kind = 'scatter' , x = 'A', y ='B')"
      ],
      "execution_count": 24,
      "outputs": [
        {
          "output_type": "execute_result",
          "data": {
            "text/plain": [
              "<matplotlib.axes._subplots.AxesSubplot at 0x7fdb501b7630>"
            ]
          },
          "metadata": {
            "tags": []
          },
          "execution_count": 24
        },
        {
          "output_type": "display_data",
          "data": {
            "image/png": "[encoded data removed]",
            "text/plain": [
              "<Figure size 432x288 with 1 Axes>"
            ]
          },
          "metadata": {
            "tags": [],
            "needs_background": "light"
          }
        }
      ]
    },
    {
      "cell_type": "code",
      "metadata": {
        "id": "wXcKLhLZTV7t",
        "colab_type": "code",
        "colab": {
          "base_uri": "https://localhost:8080/",
          "height": 293
        },
        "outputId": "40a62c58-0623-4f4f-cc77-4c0a31985dc9"
      },
      "source": [
        "df2.plot(kind = 'bar', x = 'Category', y = 'Values')"
      ],
      "execution_count": 30,
      "outputs": [
        {
          "output_type": "execute_result",
          "data": {
            "text/plain": [
              "<matplotlib.axes._subplots.AxesSubplot at 0x7fdb4fb0ce48>"
            ]
          },
          "metadata": {
            "tags": []
          },
          "execution_count": 30
        },
        {
          "output_type": "display_data",
          "data": {
            "image/png": "[encoded data removed]",
            "text/plain": [
              "<Figure size 432x288 with 1 Axes>"
            ]
          },
          "metadata": {
            "tags": [],
            "needs_background": "light"
          }
        }
      ]
    },
    {
      "cell_type": "code",
      "metadata": {
        "id": "yI6oS4h3TnVd",
        "colab_type": "code",
        "colab": {
          "base_uri": "https://localhost:8080/",
          "height": 542
        },
        "outputId": "64607f8e-35bf-4f7a-cd18-4ee2dcf277cc"
      },
      "source": [
        "df.scatter_matrix()"
      ],
      "execution_count": 37,
      "outputs": [
        {
          "output_type": "display_data",
          "data": {
            "text/html": [
              "<div>\n",
              "        \n",
              "        \n",
              "            <div id=\"d84ef71e-7652-4b35-aa49-8c99ba5e2dd3\" class=\"plotly-graph-div\" style=\"height:525px; width:100%;\"></div>\n",
              "            <script type=\"text/javascript\">\n",
              "                require([\"plotly\"], function(Plotly) {\n",
              "                    window.PLOTLYENV=window.PLOTLYENV || {};\n",
              "                    window.PLOTLYENV.BASE_URL='https://plot.ly';\n",
              "                    \n",
              "                if (document.getElementById(\"d84ef71e-7652-4b35-aa49-8c99ba5e2dd3\")) {\n",
              "                    Plotly.newPlot(\n",
              "                        'd84ef71e-7652-4b35-aa49-8c99ba5e2dd3',\n",
              "                        [{\"histfunc\": \"count\", \"histnorm\": \"\", \"marker\": {\"color\": \"rgba(255, 153, 51, 1.0)\", \"line\": {\"color\": \"#4D5663\", \"width\": 1.3}}, \"name\": \"A\", \"nbinsx\": 10, \"opacity\": 0.8, \"orientation\": \"v\", \"type\": \"histogram\", \"x\": [0.4809701935493859, 0.4116729178913381, 1.1612311441707954, -0.18468056275121433, 0.9090774237963971, 0.7155295610600954, 2.4143993611926065, 0.9505246940290157, 1.2862829720564983, 0.38739916681965425, -0.5559949574997097, -0.2876571146729969, 0.04332105658260201, -0.10684403020173029, -0.08101579381912599, -0.2588657600236738, 0.44471314686174085, 0.5262278446570668, 0.359504689528226, 0.9644749580926572, 0.14378697938205376, 0.7174810745195355, -0.0572119658591329, -0.34103249862246, -1.6468537107942458, -1.7536239389417574, 0.3107494541276593, 0.5835751556771911, -1.3882153946847293, -0.6617819945671465, -0.902168515610066, -0.037499797228010785, -1.9859908587287407, 1.2773232639897405, -1.823464500848794, 0.08856079093540273, -0.1160386988766657, 0.9263865981369626, 1.0334844463462762, -0.6485879509576661, -0.5307861884940688, 0.26851076831149745, 0.4880342471227147, -0.4132485713637769, -0.175550779002986, -0.19668134024524547, -1.5742598158923207, -0.43051290133408665, 0.3551540809716284, -1.0468982923676715, -1.2097455022569614, -1.0830892264441045, -0.4240727587348824, -0.36101820172921684, -0.7086916007987767, 1.20564716373758, 0.08388583507857213, -0.23395520296966282, 0.5882395481234644, 1.3914716517764198, -0.5526623411968891, 1.3476293420232048, 0.371648247401281, -1.542663112097233, 0.041684369817531534, -0.7562874622330439, 0.09139101578253948, 0.14198606005505496, -0.7291167788372935, -1.489501802966314, 1.0756534984369919, 0.10822597747743917, -2.5681607273177205, -0.11854957165422264, -0.581799169673086, 0.02952004053330378, 0.5844068227097681, -0.28003674200521805, -1.1217434500123566, 0.22208325880794239, -0.5521828335280894, -0.6658728645678693, 0.08364797509809636, 0.06101846085596903, 0.20960137239211812, -0.2511550690415435, 0.7228562083392375, -0.7426073165522215, 0.06535789463341556, -1.619965420257936, 2.3383350837584116, -1.0380395675707528, 0.6961674198490935, -0.4907707081292996, 0.08365687141110476, -0.9805769203128746, 0.17087766541919566, 0.13527837766073814, -0.04432882931625158, 0.09112912055088439], \"xaxis\": \"x\", \"yaxis\": \"y\"}, {\"line\": {\"color\": \"rgba(128, 128, 128, 1.0)\", \"dash\": \"solid\", \"shape\": \"linear\", \"width\": 1.3}, \"marker\": {\"size\": 2, \"symbol\": \"circle\"}, \"mode\": \"markers\", \"name\": \"A\", \"text\": \"\", \"type\": \"scatter\", \"x\": [1.0016309158276646, -1.1278855713690346, 0.19207394848142736, -0.7442232312188846, -0.3742764242164646, -0.47282061256527685, 0.11511345730273821, -0.3815946864419323, 0.5661663153310913, 0.19115973899268535, 1.2418448462453666, -0.35835072871695345, 0.3167032594362774, 0.38432359307617747, 0.01132332790171385, -1.076664389090397, -0.030603696939953372, -0.7770874095887204, -1.563276537560789, 0.6116446805882689, 0.37325647099378134, 0.4795233338711024, 0.06758880431969937, 1.7494909081092405, 1.7003949052998308, 0.6877995493896727, -1.1884553476341009, -1.3969761827594405, -0.060535085503600906, 0.01786420971760971, 0.7792913673413099, -0.4748578274004933, -1.3468996690651613, -0.6418794944529772, -0.09325718202909286, -0.35495483692145224, 0.8214407620191938, -0.16269000997772126, 0.15122057259594643, -0.2775199283409806, 0.014948573313217004, -0.7917027395596026, -0.8314568248169648, 1.00319788469958, -0.33783718400004126, 0.482752528125746, -1.5591328575945262, -0.461799723189396, 0.6232788182806367, 0.05928565973909051, 1.0044780211427415, 0.45697312549222147, -1.6799120696389576, -2.199526704123433, -2.5754961060069945, 0.6953688285174284, -0.29865186057138543, -0.1923240104371137, -1.853173120835297, 0.005325829895539349, 0.5926150187685867, 0.9120917700251885, 0.9607773064740242, -0.40019151179669626, -0.8229732516990017, -0.39022846338665457, 0.6989226767757823, -0.08659649448579616, 0.37707493645619083, -1.1387478065480252, -1.3275268809931826, -0.6910617644680611, -0.07867004321818699, -1.0657472824545973, -0.6924256053219089, 2.3909257521521696, -1.0379677745820457, -0.18461723650493886, -0.4308585551359617, 0.24653998365093582, -0.4641880980512829, 0.008065996986652533, -0.8718769871859442, -0.48444125332822063, -0.08264764842014195, 0.1003981086187131, 0.5571639958209236, 0.20741869530613466, -0.3054431848198178, -1.0694746154308614, -0.1921234292756839, -0.06409085922362544, 1.6178691190507066, -1.7000970387894139, 0.7330671644205731, 0.08580212494029932, -1.5354138884235813, 0.09822973927892187, 0.06104733618356545, 2.165567992092975], \"xaxis\": \"x2\", \"y\": [0.4809701935493859, 0.4116729178913381, 1.1612311441707954, -0.18468056275121433, 0.9090774237963971, 0.7155295610600954, 2.4143993611926065, 0.9505246940290157, 1.2862829720564983, 0.38739916681965425, -0.5559949574997097, -0.2876571146729969, 0.04332105658260201, -0.10684403020173029, -0.08101579381912599, -0.2588657600236738, 0.44471314686174085, 0.5262278446570668, 0.359504689528226, 0.9644749580926572, 0.14378697938205376, 0.7174810745195355, -0.0572119658591329, -0.34103249862246, -1.6468537107942458, -1.7536239389417574, 0.3107494541276593, 0.5835751556771911, -1.3882153946847293, -0.6617819945671465, -0.902168515610066, -0.037499797228010785, -1.9859908587287407, 1.2773232639897405, -1.823464500848794, 0.08856079093540273, -0.1160386988766657, 0.9263865981369626, 1.0334844463462762, -0.6485879509576661, -0.5307861884940688, 0.26851076831149745, 0.4880342471227147, -0.4132485713637769, -0.175550779002986, -0.19668134024524547, -1.5742598158923207, -0.43051290133408665, 0.3551540809716284, -1.0468982923676715, -1.2097455022569614, -1.0830892264441045, -0.4240727587348824, -0.36101820172921684, -0.7086916007987767, 1.20564716373758, 0.08388583507857213, -0.23395520296966282, 0.5882395481234644, 1.3914716517764198, -0.5526623411968891, 1.3476293420232048, 0.371648247401281, -1.542663112097233, 0.041684369817531534, -0.7562874622330439, 0.09139101578253948, 0.14198606005505496, -0.7291167788372935, -1.489501802966314, 1.0756534984369919, 0.10822597747743917, -2.5681607273177205, -0.11854957165422264, -0.581799169673086, 0.02952004053330378, 0.5844068227097681, -0.28003674200521805, -1.1217434500123566, 0.22208325880794239, -0.5521828335280894, -0.6658728645678693, 0.08364797509809636, 0.06101846085596903, 0.20960137239211812, -0.2511550690415435, 0.7228562083392375, -0.7426073165522215, 0.06535789463341556, -1.619965420257936, 2.3383350837584116, -1.0380395675707528, 0.6961674198490935, -0.4907707081292996, 0.08365687141110476, -0.9805769203128746, 0.17087766541919566, 0.13527837766073814, -0.04432882931625158, 0.09112912055088439], \"yaxis\": \"y2\"}, {\"line\": {\"color\": \"rgba(128, 128, 128, 1.0)\", \"dash\": \"solid\", \"shape\": \"linear\", \"width\": 1.3}, \"marker\": {\"size\": 2, \"symbol\": \"circle\"}, \"mode\": \"markers\", \"name\": \"A\", \"text\": \"\", \"type\": \"scatter\", \"x\": [0.8073790894073575, -1.6973745783272012, 0.40996595680297215, 1.2854685768379357, 0.6361501047598149, 0.13207783078145027, -0.0020709143364442727, 0.4451459796608686, 0.8251129522487409, 0.006522721413051997, 0.5744547415306136, -0.23390836845042268, 0.35092461072975084, -1.8502004940584358, -1.0898345711235922, -0.6733032733746575, -0.30508348400321167, 0.982080041824776, 0.39522895584606593, -0.4626664306644632, -0.4251881901075147, 0.08488056327679125, -1.5709458521178379, 0.4354237254452735, 1.5206781309223758, 0.5385367855642316, 1.361857432131466, 1.243104183872984, -0.030195583818084702, -0.025455490295685803, 1.943802014130842, 0.6691248496463296, -1.1260875280022447, -0.12959143232017442, 1.1883168229750316, 0.5452414012110727, 1.3978891578398336, 3.880222355020218, -0.026660127563018998, 0.5155711606491945, -0.6987898508432406, 0.6854494348600327, 1.3866063406954972, -1.0683739464629358, 1.5251299341728148, -0.9755714647210725, -1.166071211048564, 0.9934447154667686, -0.00580782010240316, -1.4134579244884833, -0.3327859792240411, 0.7262893226528573, 1.4417195815865718, 0.8033789870440091, 0.04298416560588819, -1.5232256206732064, -2.0564434177013857, -1.3700390416646673, 0.10784665230132051, -0.45659657865967124, 1.0211162252720785, -0.44406295667247747, -0.4498387849327105, -1.266759646209519, -1.0557878475953553, -1.4908227215844774, 0.7187802887621351, 0.5134492477902115, 1.232530069805916, 0.14658470541515586, 0.2845252974811109, -0.03085846786930771, 0.26099220484364655, -1.1620164489458757, -0.48952010017451403, 0.2144407294609408, -0.6563376779371715, 1.3488104267604788, 2.178668867660278, -0.42308493083280807, 0.5625882679846936, 1.0060349799862895, -1.6591320629590325, 0.5214272616516344, 0.3285369223086435, -0.13366691432202746, 1.2685035737492887, -0.9555401141886736, -0.785189731858127, 1.163860152188834, 0.9441623706006071, 0.4295636322755884, -1.2129064702146728, 1.261787760948596, -0.8407234928184393, -0.10489098021002438, -1.0786867129279152, 0.36090066239956864, 0.2428837984572731, -0.3455822271375725], \"xaxis\": \"x3\", \"y\": [0.4809701935493859, 0.4116729178913381, 1.1612311441707954, -0.18468056275121433, 0.9090774237963971, 0.7155295610600954, 2.4143993611926065, 0.9505246940290157, 1.2862829720564983, 0.38739916681965425, -0.5559949574997097, -0.2876571146729969, 0.04332105658260201, -0.10684403020173029, -0.08101579381912599, -0.2588657600236738, 0.44471314686174085, 0.5262278446570668, 0.359504689528226, 0.9644749580926572, 0.14378697938205376, 0.7174810745195355, -0.0572119658591329, -0.34103249862246, -1.6468537107942458, -1.7536239389417574, 0.3107494541276593, 0.5835751556771911, -1.3882153946847293, -0.6617819945671465, -0.902168515610066, -0.037499797228010785, -1.9859908587287407, 1.2773232639897405, -1.823464500848794, 0.08856079093540273, -0.1160386988766657, 0.9263865981369626, 1.0334844463462762, -0.6485879509576661, -0.5307861884940688, 0.26851076831149745, 0.4880342471227147, -0.4132485713637769, -0.175550779002986, -0.19668134024524547, -1.5742598158923207, -0.43051290133408665, 0.3551540809716284, -1.0468982923676715, -1.2097455022569614, -1.0830892264441045, -0.4240727587348824, -0.36101820172921684, -0.7086916007987767, 1.20564716373758, 0.08388583507857213, -0.23395520296966282, 0.5882395481234644, 1.3914716517764198, -0.5526623411968891, 1.3476293420232048, 0.371648247401281, -1.542663112097233, 0.041684369817531534, -0.7562874622330439, 0.09139101578253948, 0.14198606005505496, -0.7291167788372935, -1.489501802966314, 1.0756534984369919, 0.10822597747743917, -2.5681607273177205, -0.11854957165422264, -0.581799169673086, 0.02952004053330378, 0.5844068227097681, -0.28003674200521805, -1.1217434500123566, 0.22208325880794239, -0.5521828335280894, -0.6658728645678693, 0.08364797509809636, 0.06101846085596903, 0.20960137239211812, -0.2511550690415435, 0.7228562083392375, -0.7426073165522215, 0.06535789463341556, -1.619965420257936, 2.3383350837584116, -1.0380395675707528, 0.6961674198490935, -0.4907707081292996, 0.08365687141110476, -0.9805769203128746, 0.17087766541919566, 0.13527837766073814, -0.04432882931625158, 0.09112912055088439], \"yaxis\": \"y3\"}, {\"line\": {\"color\": \"rgba(128, 128, 128, 1.0)\", \"dash\": \"solid\", \"shape\": \"linear\", \"width\": 1.3}, \"marker\": {\"size\": 2, \"symbol\": \"circle\"}, \"mode\": \"markers\", \"name\": \"A\", \"text\": \"\", \"type\": \"scatter\", \"x\": [0.49043496267422065, -0.16020921175057304, 0.5600223844660832, -1.6457740265135181, 0.4963057508329218, 0.7113347687697275, 0.6207571227104429, -0.4802989504272413, -0.9169943731946518, -0.5399619902807821, 0.25173279018907857, 1.736098597955177, -0.5216083631800642, 1.1601150050333258, 0.06354010557184407, 0.13568600125567723, 0.4720520030531927, 1.762677213689081, -2.7172780203829925, 0.651345001424072, 0.8210729776516448, -1.7796776837975599, -1.4278461252975478, 0.2880833849979308, 0.11467586164572477, -1.461987434305653, 2.1564421937560203, -0.5827887727082924, 0.5248738036943954, 0.3954397310087084, 2.031970115169177, -0.6582012871278141, -0.4433818797837318, 0.3860631304779137, 1.544433750193125, -0.09213284490442124, 0.7108078408272241, -0.30176764260776073, -0.36847269469679667, -1.4188301927110463, -0.3221256569142103, 1.0367364922416362, -0.009353263347798041, -0.05443211157828485, -0.11893288118924607, 1.8796350349498958, 0.11014794610153036, 0.889472124374632, 0.27267097046214994, -1.0981785042841463, 0.9997723744067619, -0.4738638780925631, -0.2557443956657543, 0.48975280862243953, 0.3639552791805878, -0.7923190119911142, 0.06611370838280393, -0.8900010948159683, 0.8297172777486412, 1.3854313901521784, 2.7293284352632896, -0.7300632422534966, -0.6164948006487315, -0.9980511217793661, 0.6133896983942836, -0.39706173921478877, 0.3298000089747955, -0.2555913053069534, 0.7587563531931069, 0.6610231298035647, -0.32700532650427927, 0.6858829048770517, -0.24162613930041255, -0.2871143325239671, -0.9147726883519713, 0.3840404048386791, 0.8109418489749756, -0.056249138180367836, -1.1184405027580853, -0.15825630783310934, 0.05673112277765671, 0.07147419010243035, -0.3644628486419135, 0.17448285284941129, -0.9934845464165444, -0.2934489953134275, -1.1511959051855722, -0.5732909667244408, -1.5136918861385404, -0.8323430613111166, 0.7116469195796357, 1.5490775535806802, 0.889546463321769, -0.5477416593484461, 0.41519085386565613, 0.5337401277761412, 0.3246920175018314, 0.3534489617977568, -0.3135375640624861, 0.6586296615099057], \"xaxis\": \"x4\", \"y\": [0.4809701935493859, 0.4116729178913381, 1.1612311441707954, -0.18468056275121433, 0.9090774237963971, 0.7155295610600954, 2.4143993611926065, 0.9505246940290157, 1.2862829720564983, 0.38739916681965425, -0.5559949574997097, -0.2876571146729969, 0.04332105658260201, -0.10684403020173029, -0.08101579381912599, -0.2588657600236738, 0.44471314686174085, 0.5262278446570668, 0.359504689528226, 0.9644749580926572, 0.14378697938205376, 0.7174810745195355, -0.0572119658591329, -0.34103249862246, -1.6468537107942458, -1.7536239389417574, 0.3107494541276593, 0.5835751556771911, -1.3882153946847293, -0.6617819945671465, -0.902168515610066, -0.037499797228010785, -1.9859908587287407, 1.2773232639897405, -1.823464500848794, 0.08856079093540273, -0.1160386988766657, 0.9263865981369626, 1.0334844463462762, -0.6485879509576661, -0.5307861884940688, 0.26851076831149745, 0.4880342471227147, -0.4132485713637769, -0.175550779002986, -0.19668134024524547, -1.5742598158923207, -0.43051290133408665, 0.3551540809716284, -1.0468982923676715, -1.2097455022569614, -1.0830892264441045, -0.4240727587348824, -0.36101820172921684, -0.7086916007987767, 1.20564716373758, 0.08388583507857213, -0.23395520296966282, 0.5882395481234644, 1.3914716517764198, -0.5526623411968891, 1.3476293420232048, 0.371648247401281, -1.542663112097233, 0.041684369817531534, -0.7562874622330439, 0.09139101578253948, 0.14198606005505496, -0.7291167788372935, -1.489501802966314, 1.0756534984369919, 0.10822597747743917, -2.5681607273177205, -0.11854957165422264, -0.581799169673086, 0.02952004053330378, 0.5844068227097681, -0.28003674200521805, -1.1217434500123566, 0.22208325880794239, -0.5521828335280894, -0.6658728645678693, 0.08364797509809636, 0.06101846085596903, 0.20960137239211812, -0.2511550690415435, 0.7228562083392375, -0.7426073165522215, 0.06535789463341556, -1.619965420257936, 2.3383350837584116, -1.0380395675707528, 0.6961674198490935, -0.4907707081292996, 0.08365687141110476, -0.9805769203128746, 0.17087766541919566, 0.13527837766073814, -0.04432882931625158, 0.09112912055088439], \"yaxis\": \"y4\"}, {\"line\": {\"color\": \"rgba(128, 128, 128, 1.0)\", \"dash\": \"solid\", \"shape\": \"linear\", \"width\": 1.3}, \"marker\": {\"size\": 2, \"symbol\": \"circle\"}, \"mode\": \"markers\", \"name\": \"B\", \"text\": \"\", \"type\": \"scatter\", \"x\": [0.4809701935493859, 0.4116729178913381, 1.1612311441707954, -0.18468056275121433, 0.9090774237963971, 0.7155295610600954, 2.4143993611926065, 0.9505246940290157, 1.2862829720564983, 0.38739916681965425, -0.5559949574997097, -0.2876571146729969, 0.04332105658260201, -0.10684403020173029, -0.08101579381912599, -0.2588657600236738, 0.44471314686174085, 0.5262278446570668, 0.359504689528226, 0.9644749580926572, 0.14378697938205376, 0.7174810745195355, -0.0572119658591329, -0.34103249862246, -1.6468537107942458, -1.7536239389417574, 0.3107494541276593, 0.5835751556771911, -1.3882153946847293, -0.6617819945671465, -0.902168515610066, -0.037499797228010785, -1.9859908587287407, 1.2773232639897405, -1.823464500848794, 0.08856079093540273, -0.1160386988766657, 0.9263865981369626, 1.0334844463462762, -0.6485879509576661, -0.5307861884940688, 0.26851076831149745, 0.4880342471227147, -0.4132485713637769, -0.175550779002986, -0.19668134024524547, -1.5742598158923207, -0.43051290133408665, 0.3551540809716284, -1.0468982923676715, -1.2097455022569614, -1.0830892264441045, -0.4240727587348824, -0.36101820172921684, -0.7086916007987767, 1.20564716373758, 0.08388583507857213, -0.23395520296966282, 0.5882395481234644, 1.3914716517764198, -0.5526623411968891, 1.3476293420232048, 0.371648247401281, -1.542663112097233, 0.041684369817531534, -0.7562874622330439, 0.09139101578253948, 0.14198606005505496, -0.7291167788372935, -1.489501802966314, 1.0756534984369919, 0.10822597747743917, -2.5681607273177205, -0.11854957165422264, -0.581799169673086, 0.02952004053330378, 0.5844068227097681, -0.28003674200521805, -1.1217434500123566, 0.22208325880794239, -0.5521828335280894, -0.6658728645678693, 0.08364797509809636, 0.06101846085596903, 0.20960137239211812, -0.2511550690415435, 0.7228562083392375, -0.7426073165522215, 0.06535789463341556, -1.619965420257936, 2.3383350837584116, -1.0380395675707528, 0.6961674198490935, -0.4907707081292996, 0.08365687141110476, -0.9805769203128746, 0.17087766541919566, 0.13527837766073814, -0.04432882931625158, 0.09112912055088439], \"xaxis\": \"x5\", \"y\": [1.0016309158276646, -1.1278855713690346, 0.19207394848142736, -0.7442232312188846, -0.3742764242164646, -0.47282061256527685, 0.11511345730273821, -0.3815946864419323, 0.5661663153310913, 0.19115973899268535, 1.2418448462453666, -0.35835072871695345, 0.3167032594362774, 0.38432359307617747, 0.01132332790171385, -1.076664389090397, -0.030603696939953372, -0.7770874095887204, -1.563276537560789, 0.6116446805882689, 0.37325647099378134, 0.4795233338711024, 0.06758880431969937, 1.7494909081092405, 1.7003949052998308, 0.6877995493896727, -1.1884553476341009, -1.3969761827594405, -0.060535085503600906, 0.01786420971760971, 0.7792913673413099, -0.4748578274004933, -1.3468996690651613, -0.6418794944529772, -0.09325718202909286, -0.35495483692145224, 0.8214407620191938, -0.16269000997772126, 0.15122057259594643, -0.2775199283409806, 0.014948573313217004, -0.7917027395596026, -0.8314568248169648, 1.00319788469958, -0.33783718400004126, 0.482752528125746, -1.5591328575945262, -0.461799723189396, 0.6232788182806367, 0.05928565973909051, 1.0044780211427415, 0.45697312549222147, -1.6799120696389576, -2.199526704123433, -2.5754961060069945, 0.6953688285174284, -0.29865186057138543, -0.1923240104371137, -1.853173120835297, 0.005325829895539349, 0.5926150187685867, 0.9120917700251885, 0.9607773064740242, -0.40019151179669626, -0.8229732516990017, -0.39022846338665457, 0.6989226767757823, -0.08659649448579616, 0.37707493645619083, -1.1387478065480252, -1.3275268809931826, -0.6910617644680611, -0.07867004321818699, -1.0657472824545973, -0.6924256053219089, 2.3909257521521696, -1.0379677745820457, -0.18461723650493886, -0.4308585551359617, 0.24653998365093582, -0.4641880980512829, 0.008065996986652533, -0.8718769871859442, -0.48444125332822063, -0.08264764842014195, 0.1003981086187131, 0.5571639958209236, 0.20741869530613466, -0.3054431848198178, -1.0694746154308614, -0.1921234292756839, -0.06409085922362544, 1.6178691190507066, -1.7000970387894139, 0.7330671644205731, 0.08580212494029932, -1.5354138884235813, 0.09822973927892187, 0.06104733618356545, 2.165567992092975], \"yaxis\": \"y5\"}, {\"histfunc\": \"count\", \"histnorm\": \"\", \"marker\": {\"color\": \"rgba(55, 128, 191, 1.0)\", \"line\": {\"color\": \"#4D5663\", \"width\": 1.3}}, \"name\": \"B\", \"nbinsx\": 10, \"opacity\": 0.8, \"orientation\": \"v\", \"type\": \"histogram\", \"x\": [1.0016309158276646, -1.1278855713690346, 0.19207394848142736, -0.7442232312188846, -0.3742764242164646, -0.47282061256527685, 0.11511345730273821, -0.3815946864419323, 0.5661663153310913, 0.19115973899268535, 1.2418448462453666, -0.35835072871695345, 0.3167032594362774, 0.38432359307617747, 0.01132332790171385, -1.076664389090397, -0.030603696939953372, -0.7770874095887204, -1.563276537560789, 0.6116446805882689, 0.37325647099378134, 0.4795233338711024, 0.06758880431969937, 1.7494909081092405, 1.7003949052998308, 0.6877995493896727, -1.1884553476341009, -1.3969761827594405, -0.060535085503600906, 0.01786420971760971, 0.7792913673413099, -0.4748578274004933, -1.3468996690651613, -0.6418794944529772, -0.09325718202909286, -0.35495483692145224, 0.8214407620191938, -0.16269000997772126, 0.15122057259594643, -0.2775199283409806, 0.014948573313217004, -0.7917027395596026, -0.8314568248169648, 1.00319788469958, -0.33783718400004126, 0.482752528125746, -1.5591328575945262, -0.461799723189396, 0.6232788182806367, 0.05928565973909051, 1.0044780211427415, 0.45697312549222147, -1.6799120696389576, -2.199526704123433, -2.5754961060069945, 0.6953688285174284, -0.29865186057138543, -0.1923240104371137, -1.853173120835297, 0.005325829895539349, 0.5926150187685867, 0.9120917700251885, 0.9607773064740242, -0.40019151179669626, -0.8229732516990017, -0.39022846338665457, 0.6989226767757823, -0.08659649448579616, 0.37707493645619083, -1.1387478065480252, -1.3275268809931826, -0.6910617644680611, -0.07867004321818699, -1.0657472824545973, -0.6924256053219089, 2.3909257521521696, -1.0379677745820457, -0.18461723650493886, -0.4308585551359617, 0.24653998365093582, -0.4641880980512829, 0.008065996986652533, -0.8718769871859442, -0.48444125332822063, -0.08264764842014195, 0.1003981086187131, 0.5571639958209236, 0.20741869530613466, -0.3054431848198178, -1.0694746154308614, -0.1921234292756839, -0.06409085922362544, 1.6178691190507066, -1.7000970387894139, 0.7330671644205731, 0.08580212494029932, -1.5354138884235813, 0.09822973927892187, 0.06104733618356545, 2.165567992092975], \"xaxis\": \"x6\", \"yaxis\": \"y6\"}, {\"line\": {\"color\": \"rgba(128, 128, 128, 1.0)\", \"dash\": \"solid\", \"shape\": \"linear\", \"width\": 1.3}, \"marker\": {\"size\": 2, \"symbol\": \"circle\"}, \"mode\": \"markers\", \"name\": \"B\", \"text\": \"\", \"type\": \"scatter\", \"x\": [0.8073790894073575, -1.6973745783272012, 0.40996595680297215, 1.2854685768379357, 0.6361501047598149, 0.13207783078145027, -0.0020709143364442727, 0.4451459796608686, 0.8251129522487409, 0.006522721413051997, 0.5744547415306136, -0.23390836845042268, 0.35092461072975084, -1.8502004940584358, -1.0898345711235922, -0.6733032733746575, -0.30508348400321167, 0.982080041824776, 0.39522895584606593, -0.4626664306644632, -0.4251881901075147, 0.08488056327679125, -1.5709458521178379, 0.4354237254452735, 1.5206781309223758, 0.5385367855642316, 1.361857432131466, 1.243104183872984, -0.030195583818084702, -0.025455490295685803, 1.943802014130842, 0.6691248496463296, -1.1260875280022447, -0.12959143232017442, 1.1883168229750316, 0.5452414012110727, 1.3978891578398336, 3.880222355020218, -0.026660127563018998, 0.5155711606491945, -0.6987898508432406, 0.6854494348600327, 1.3866063406954972, -1.0683739464629358, 1.5251299341728148, -0.9755714647210725, -1.166071211048564, 0.9934447154667686, -0.00580782010240316, -1.4134579244884833, -0.3327859792240411, 0.7262893226528573, 1.4417195815865718, 0.8033789870440091, 0.04298416560588819, -1.5232256206732064, -2.0564434177013857, -1.3700390416646673, 0.10784665230132051, -0.45659657865967124, 1.0211162252720785, -0.44406295667247747, -0.4498387849327105, -1.266759646209519, -1.0557878475953553, -1.4908227215844774, 0.7187802887621351, 0.5134492477902115, 1.232530069805916, 0.14658470541515586, 0.2845252974811109, -0.03085846786930771, 0.26099220484364655, -1.1620164489458757, -0.48952010017451403, 0.2144407294609408, -0.6563376779371715, 1.3488104267604788, 2.178668867660278, -0.42308493083280807, 0.5625882679846936, 1.0060349799862895, -1.6591320629590325, 0.5214272616516344, 0.3285369223086435, -0.13366691432202746, 1.2685035737492887, -0.9555401141886736, -0.785189731858127, 1.163860152188834, 0.9441623706006071, 0.4295636322755884, -1.2129064702146728, 1.261787760948596, -0.8407234928184393, -0.10489098021002438, -1.0786867129279152, 0.36090066239956864, 0.2428837984572731, -0.3455822271375725], \"xaxis\": \"x7\", \"y\": [1.0016309158276646, -1.1278855713690346, 0.19207394848142736, -0.7442232312188846, -0.3742764242164646, -0.47282061256527685, 0.11511345730273821, -0.3815946864419323, 0.5661663153310913, 0.19115973899268535, 1.2418448462453666, -0.35835072871695345, 0.3167032594362774, 0.38432359307617747, 0.01132332790171385, -1.076664389090397, -0.030603696939953372, -0.7770874095887204, -1.563276537560789, 0.6116446805882689, 0.37325647099378134, 0.4795233338711024, 0.06758880431969937, 1.7494909081092405, 1.7003949052998308, 0.6877995493896727, -1.1884553476341009, -1.3969761827594405, -0.060535085503600906, 0.01786420971760971, 0.7792913673413099, -0.4748578274004933, -1.3468996690651613, -0.6418794944529772, -0.09325718202909286, -0.35495483692145224, 0.8214407620191938, -0.16269000997772126, 0.15122057259594643, -0.2775199283409806, 0.014948573313217004, -0.7917027395596026, -0.8314568248169648, 1.00319788469958, -0.33783718400004126, 0.482752528125746, -1.5591328575945262, -0.461799723189396, 0.6232788182806367, 0.05928565973909051, 1.0044780211427415, 0.45697312549222147, -1.6799120696389576, -2.199526704123433, -2.5754961060069945, 0.6953688285174284, -0.29865186057138543, -0.1923240104371137, -1.853173120835297, 0.005325829895539349, 0.5926150187685867, 0.9120917700251885, 0.9607773064740242, -0.40019151179669626, -0.8229732516990017, -0.39022846338665457, 0.6989226767757823, -0.08659649448579616, 0.37707493645619083, -1.1387478065480252, -1.3275268809931826, -0.6910617644680611, -0.07867004321818699, -1.0657472824545973, -0.6924256053219089, 2.3909257521521696, -1.0379677745820457, -0.18461723650493886, -0.4308585551359617, 0.24653998365093582, -0.4641880980512829, 0.008065996986652533, -0.8718769871859442, -0.48444125332822063, -0.08264764842014195, 0.1003981086187131, 0.5571639958209236, 0.20741869530613466, -0.3054431848198178, -1.0694746154308614, -0.1921234292756839, -0.06409085922362544, 1.6178691190507066, -1.7000970387894139, 0.7330671644205731, 0.08580212494029932, -1.5354138884235813, 0.09822973927892187, 0.06104733618356545, 2.165567992092975], \"yaxis\": \"y7\"}, {\"line\": {\"color\": \"rgba(128, 128, 128, 1.0)\", \"dash\": \"solid\", \"shape\": \"linear\", \"width\": 1.3}, \"marker\": {\"size\": 2, \"symbol\": \"circle\"}, \"mode\": \"markers\", \"name\": \"B\", \"text\": \"\", \"type\": \"scatter\", \"x\": [0.49043496267422065, -0.16020921175057304, 0.5600223844660832, -1.6457740265135181, 0.4963057508329218, 0.7113347687697275, 0.6207571227104429, -0.4802989504272413, -0.9169943731946518, -0.5399619902807821, 0.25173279018907857, 1.736098597955177, -0.5216083631800642, 1.1601150050333258, 0.06354010557184407, 0.13568600125567723, 0.4720520030531927, 1.762677213689081, -2.7172780203829925, 0.651345001424072, 0.8210729776516448, -1.7796776837975599, -1.4278461252975478, 0.2880833849979308, 0.11467586164572477, -1.461987434305653, 2.1564421937560203, -0.5827887727082924, 0.5248738036943954, 0.3954397310087084, 2.031970115169177, -0.6582012871278141, -0.4433818797837318, 0.3860631304779137, 1.544433750193125, -0.09213284490442124, 0.7108078408272241, -0.30176764260776073, -0.36847269469679667, -1.4188301927110463, -0.3221256569142103, 1.0367364922416362, -0.009353263347798041, -0.05443211157828485, -0.11893288118924607, 1.8796350349498958, 0.11014794610153036, 0.889472124374632, 0.27267097046214994, -1.0981785042841463, 0.9997723744067619, -0.4738638780925631, -0.2557443956657543, 0.48975280862243953, 0.3639552791805878, -0.7923190119911142, 0.06611370838280393, -0.8900010948159683, 0.8297172777486412, 1.3854313901521784, 2.7293284352632896, -0.7300632422534966, -0.6164948006487315, -0.9980511217793661, 0.6133896983942836, -0.39706173921478877, 0.3298000089747955, -0.2555913053069534, 0.7587563531931069, 0.6610231298035647, -0.32700532650427927, 0.6858829048770517, -0.24162613930041255, -0.2871143325239671, -0.9147726883519713, 0.3840404048386791, 0.8109418489749756, -0.056249138180367836, -1.1184405027580853, -0.15825630783310934, 0.05673112277765671, 0.07147419010243035, -0.3644628486419135, 0.17448285284941129, -0.9934845464165444, -0.2934489953134275, -1.1511959051855722, -0.5732909667244408, -1.5136918861385404, -0.8323430613111166, 0.7116469195796357, 1.5490775535806802, 0.889546463321769, -0.5477416593484461, 0.41519085386565613, 0.5337401277761412, 0.3246920175018314, 0.3534489617977568, -0.3135375640624861, 0.6586296615099057], \"xaxis\": \"x8\", \"y\": [1.0016309158276646, -1.1278855713690346, 0.19207394848142736, -0.7442232312188846, -0.3742764242164646, -0.47282061256527685, 0.11511345730273821, -0.3815946864419323, 0.5661663153310913, 0.19115973899268535, 1.2418448462453666, -0.35835072871695345, 0.3167032594362774, 0.38432359307617747, 0.01132332790171385, -1.076664389090397, -0.030603696939953372, -0.7770874095887204, -1.563276537560789, 0.6116446805882689, 0.37325647099378134, 0.4795233338711024, 0.06758880431969937, 1.7494909081092405, 1.7003949052998308, 0.6877995493896727, -1.1884553476341009, -1.3969761827594405, -0.060535085503600906, 0.01786420971760971, 0.7792913673413099, -0.4748578274004933, -1.3468996690651613, -0.6418794944529772, -0.09325718202909286, -0.35495483692145224, 0.8214407620191938, -0.16269000997772126, 0.15122057259594643, -0.2775199283409806, 0.014948573313217004, -0.7917027395596026, -0.8314568248169648, 1.00319788469958, -0.33783718400004126, 0.482752528125746, -1.5591328575945262, -0.461799723189396, 0.6232788182806367, 0.05928565973909051, 1.0044780211427415, 0.45697312549222147, -1.6799120696389576, -2.199526704123433, -2.5754961060069945, 0.6953688285174284, -0.29865186057138543, -0.1923240104371137, -1.853173120835297, 0.005325829895539349, 0.5926150187685867, 0.9120917700251885, 0.9607773064740242, -0.40019151179669626, -0.8229732516990017, -0.39022846338665457, 0.6989226767757823, -0.08659649448579616, 0.37707493645619083, -1.1387478065480252, -1.3275268809931826, -0.6910617644680611, -0.07867004321818699, -1.0657472824545973, -0.6924256053219089, 2.3909257521521696, -1.0379677745820457, -0.18461723650493886, -0.4308585551359617, 0.24653998365093582, -0.4641880980512829, 0.008065996986652533, -0.8718769871859442, -0.48444125332822063, -0.08264764842014195, 0.1003981086187131, 0.5571639958209236, 0.20741869530613466, -0.3054431848198178, -1.0694746154308614, -0.1921234292756839, -0.06409085922362544, 1.6178691190507066, -1.7000970387894139, 0.7330671644205731, 0.08580212494029932, -1.5354138884235813, 0.09822973927892187, 0.06104733618356545, 2.165567992092975], \"yaxis\": \"y8\"}, {\"line\": {\"color\": \"rgba(128, 128, 128, 1.0)\", \"dash\": \"solid\", \"shape\": \"linear\", \"width\": 1.3}, \"marker\": {\"size\": 2, \"symbol\": \"circle\"}, \"mode\": \"markers\", \"name\": \"C\", \"text\": \"\", \"type\": \"scatter\", \"x\": [0.4809701935493859, 0.4116729178913381, 1.1612311441707954, -0.18468056275121433, 0.9090774237963971, 0.7155295610600954, 2.4143993611926065, 0.9505246940290157, 1.2862829720564983, 0.38739916681965425, -0.5559949574997097, -0.2876571146729969, 0.04332105658260201, -0.10684403020173029, -0.08101579381912599, -0.2588657600236738, 0.44471314686174085, 0.5262278446570668, 0.359504689528226, 0.9644749580926572, 0.14378697938205376, 0.7174810745195355, -0.0572119658591329, -0.34103249862246, -1.6468537107942458, -1.7536239389417574, 0.3107494541276593, 0.5835751556771911, -1.3882153946847293, -0.6617819945671465, -0.902168515610066, -0.037499797228010785, -1.9859908587287407, 1.2773232639897405, -1.823464500848794, 0.08856079093540273, -0.1160386988766657, 0.9263865981369626, 1.0334844463462762, -0.6485879509576661, -0.5307861884940688, 0.26851076831149745, 0.4880342471227147, -0.4132485713637769, -0.175550779002986, -0.19668134024524547, -1.5742598158923207, -0.43051290133408665, 0.3551540809716284, -1.0468982923676715, -1.2097455022569614, -1.0830892264441045, -0.4240727587348824, -0.36101820172921684, -0.7086916007987767, 1.20564716373758, 0.08388583507857213, -0.23395520296966282, 0.5882395481234644, 1.3914716517764198, -0.5526623411968891, 1.3476293420232048, 0.371648247401281, -1.542663112097233, 0.041684369817531534, -0.7562874622330439, 0.09139101578253948, 0.14198606005505496, -0.7291167788372935, -1.489501802966314, 1.0756534984369919, 0.10822597747743917, -2.5681607273177205, -0.11854957165422264, -0.581799169673086, 0.02952004053330378, 0.5844068227097681, -0.28003674200521805, -1.1217434500123566, 0.22208325880794239, -0.5521828335280894, -0.6658728645678693, 0.08364797509809636, 0.06101846085596903, 0.20960137239211812, -0.2511550690415435, 0.7228562083392375, -0.7426073165522215, 0.06535789463341556, -1.619965420257936, 2.3383350837584116, -1.0380395675707528, 0.6961674198490935, -0.4907707081292996, 0.08365687141110476, -0.9805769203128746, 0.17087766541919566, 0.13527837766073814, -0.04432882931625158, 0.09112912055088439], \"xaxis\": \"x9\", \"y\": [0.8073790894073575, -1.6973745783272012, 0.40996595680297215, 1.2854685768379357, 0.6361501047598149, 0.13207783078145027, -0.0020709143364442727, 0.4451459796608686, 0.8251129522487409, 0.006522721413051997, 0.5744547415306136, -0.23390836845042268, 0.35092461072975084, -1.8502004940584358, -1.0898345711235922, -0.6733032733746575, -0.30508348400321167, 0.982080041824776, 0.39522895584606593, -0.4626664306644632, -0.4251881901075147, 0.08488056327679125, -1.5709458521178379, 0.4354237254452735, 1.5206781309223758, 0.5385367855642316, 1.361857432131466, 1.243104183872984, -0.030195583818084702, -0.025455490295685803, 1.943802014130842, 0.6691248496463296, -1.1260875280022447, -0.12959143232017442, 1.1883168229750316, 0.5452414012110727, 1.3978891578398336, 3.880222355020218, -0.026660127563018998, 0.5155711606491945, -0.6987898508432406, 0.6854494348600327, 1.3866063406954972, -1.0683739464629358, 1.5251299341728148, -0.9755714647210725, -1.166071211048564, 0.9934447154667686, -0.00580782010240316, -1.4134579244884833, -0.3327859792240411, 0.7262893226528573, 1.4417195815865718, 0.8033789870440091, 0.04298416560588819, -1.5232256206732064, -2.0564434177013857, -1.3700390416646673, 0.10784665230132051, -0.45659657865967124, 1.0211162252720785, -0.44406295667247747, -0.4498387849327105, -1.266759646209519, -1.0557878475953553, -1.4908227215844774, 0.7187802887621351, 0.5134492477902115, 1.232530069805916, 0.14658470541515586, 0.2845252974811109, -0.03085846786930771, 0.26099220484364655, -1.1620164489458757, -0.48952010017451403, 0.2144407294609408, -0.6563376779371715, 1.3488104267604788, 2.178668867660278, -0.42308493083280807, 0.5625882679846936, 1.0060349799862895, -1.6591320629590325, 0.5214272616516344, 0.3285369223086435, -0.13366691432202746, 1.2685035737492887, -0.9555401141886736, -0.785189731858127, 1.163860152188834, 0.9441623706006071, 0.4295636322755884, -1.2129064702146728, 1.261787760948596, -0.8407234928184393, -0.10489098021002438, -1.0786867129279152, 0.36090066239956864, 0.2428837984572731, -0.3455822271375725], \"yaxis\": \"y9\"}, {\"line\": {\"color\": \"rgba(128, 128, 128, 1.0)\", \"dash\": \"solid\", \"shape\": \"linear\", \"width\": 1.3}, \"marker\": {\"size\": 2, \"symbol\": \"circle\"}, \"mode\": \"markers\", \"name\": \"C\", \"text\": \"\", \"type\": \"scatter\", \"x\": [1.0016309158276646, -1.1278855713690346, 0.19207394848142736, -0.7442232312188846, -0.3742764242164646, -0.47282061256527685, 0.11511345730273821, -0.3815946864419323, 0.5661663153310913, 0.19115973899268535, 1.2418448462453666, -0.35835072871695345, 0.3167032594362774, 0.38432359307617747, 0.01132332790171385, -1.076664389090397, -0.030603696939953372, -0.7770874095887204, -1.563276537560789, 0.6116446805882689, 0.37325647099378134, 0.4795233338711024, 0.06758880431969937, 1.7494909081092405, 1.7003949052998308, 0.6877995493896727, -1.1884553476341009, -1.3969761827594405, -0.060535085503600906, 0.01786420971760971, 0.7792913673413099, -0.4748578274004933, -1.3468996690651613, -0.6418794944529772, -0.09325718202909286, -0.35495483692145224, 0.8214407620191938, -0.16269000997772126, 0.15122057259594643, -0.2775199283409806, 0.014948573313217004, -0.7917027395596026, -0.8314568248169648, 1.00319788469958, -0.33783718400004126, 0.482752528125746, -1.5591328575945262, -0.461799723189396, 0.6232788182806367, 0.05928565973909051, 1.0044780211427415, 0.45697312549222147, -1.6799120696389576, -2.199526704123433, -2.5754961060069945, 0.6953688285174284, -0.29865186057138543, -0.1923240104371137, -1.853173120835297, 0.005325829895539349, 0.5926150187685867, 0.9120917700251885, 0.9607773064740242, -0.40019151179669626, -0.8229732516990017, -0.39022846338665457, 0.6989226767757823, -0.08659649448579616, 0.37707493645619083, -1.1387478065480252, -1.3275268809931826, -0.6910617644680611, -0.07867004321818699, -1.0657472824545973, -0.6924256053219089, 2.3909257521521696, -1.0379677745820457, -0.18461723650493886, -0.4308585551359617, 0.24653998365093582, -0.4641880980512829, 0.008065996986652533, -0.8718769871859442, -0.48444125332822063, -0.08264764842014195, 0.1003981086187131, 0.5571639958209236, 0.20741869530613466, -0.3054431848198178, -1.0694746154308614, -0.1921234292756839, -0.06409085922362544, 1.6178691190507066, -1.7000970387894139, 0.7330671644205731, 0.08580212494029932, -1.5354138884235813, 0.09822973927892187, 0.06104733618356545, 2.165567992092975], \"xaxis\": \"x10\", \"y\": [0.8073790894073575, -1.6973745783272012, 0.40996595680297215, 1.2854685768379357, 0.6361501047598149, 0.13207783078145027, -0.0020709143364442727, 0.4451459796608686, 0.8251129522487409, 0.006522721413051997, 0.5744547415306136, -0.23390836845042268, 0.35092461072975084, -1.8502004940584358, -1.0898345711235922, -0.6733032733746575, -0.30508348400321167, 0.982080041824776, 0.39522895584606593, -0.4626664306644632, -0.4251881901075147, 0.08488056327679125, -1.5709458521178379, 0.4354237254452735, 1.5206781309223758, 0.5385367855642316, 1.361857432131466, 1.243104183872984, -0.030195583818084702, -0.025455490295685803, 1.943802014130842, 0.6691248496463296, -1.1260875280022447, -0.12959143232017442, 1.1883168229750316, 0.5452414012110727, 1.3978891578398336, 3.880222355020218, -0.026660127563018998, 0.5155711606491945, -0.6987898508432406, 0.6854494348600327, 1.3866063406954972, -1.0683739464629358, 1.5251299341728148, -0.9755714647210725, -1.166071211048564, 0.9934447154667686, -0.00580782010240316, -1.4134579244884833, -0.3327859792240411, 0.7262893226528573, 1.4417195815865718, 0.8033789870440091, 0.04298416560588819, -1.5232256206732064, -2.0564434177013857, -1.3700390416646673, 0.10784665230132051, -0.45659657865967124, 1.0211162252720785, -0.44406295667247747, -0.4498387849327105, -1.266759646209519, -1.0557878475953553, -1.4908227215844774, 0.7187802887621351, 0.5134492477902115, 1.232530069805916, 0.14658470541515586, 0.2845252974811109, -0.03085846786930771, 0.26099220484364655, -1.1620164489458757, -0.48952010017451403, 0.2144407294609408, -0.6563376779371715, 1.3488104267604788, 2.178668867660278, -0.42308493083280807, 0.5625882679846936, 1.0060349799862895, -1.6591320629590325, 0.5214272616516344, 0.3285369223086435, -0.13366691432202746, 1.2685035737492887, -0.9555401141886736, -0.785189731858127, 1.163860152188834, 0.9441623706006071, 0.4295636322755884, -1.2129064702146728, 1.261787760948596, -0.8407234928184393, -0.10489098021002438, -1.0786867129279152, 0.36090066239956864, 0.2428837984572731, -0.3455822271375725], \"yaxis\": \"y10\"}, {\"histfunc\": \"count\", \"histnorm\": \"\", \"marker\": {\"color\": \"rgba(50, 171, 96, 1.0)\", \"line\": {\"color\": \"#4D5663\", \"width\": 1.3}}, \"name\": \"C\", \"nbinsx\": 10, \"opacity\": 0.8, \"orientation\": \"v\", \"type\": \"histogram\", \"x\": [0.8073790894073575, -1.6973745783272012, 0.40996595680297215, 1.2854685768379357, 0.6361501047598149, 0.13207783078145027, -0.0020709143364442727, 0.4451459796608686, 0.8251129522487409, 0.006522721413051997, 0.5744547415306136, -0.23390836845042268, 0.35092461072975084, -1.8502004940584358, -1.0898345711235922, -0.6733032733746575, -0.30508348400321167, 0.982080041824776, 0.39522895584606593, -0.4626664306644632, -0.4251881901075147, 0.08488056327679125, -1.5709458521178379, 0.4354237254452735, 1.5206781309223758, 0.5385367855642316, 1.361857432131466, 1.243104183872984, -0.030195583818084702, -0.025455490295685803, 1.943802014130842, 0.6691248496463296, -1.1260875280022447, -0.12959143232017442, 1.1883168229750316, 0.5452414012110727, 1.3978891578398336, 3.880222355020218, -0.026660127563018998, 0.5155711606491945, -0.6987898508432406, 0.6854494348600327, 1.3866063406954972, -1.0683739464629358, 1.5251299341728148, -0.9755714647210725, -1.166071211048564, 0.9934447154667686, -0.00580782010240316, -1.4134579244884833, -0.3327859792240411, 0.7262893226528573, 1.4417195815865718, 0.8033789870440091, 0.04298416560588819, -1.5232256206732064, -2.0564434177013857, -1.3700390416646673, 0.10784665230132051, -0.45659657865967124, 1.0211162252720785, -0.44406295667247747, -0.4498387849327105, -1.266759646209519, -1.0557878475953553, -1.4908227215844774, 0.7187802887621351, 0.5134492477902115, 1.232530069805916, 0.14658470541515586, 0.2845252974811109, -0.03085846786930771, 0.26099220484364655, -1.1620164489458757, -0.48952010017451403, 0.2144407294609408, -0.6563376779371715, 1.3488104267604788, 2.178668867660278, -0.42308493083280807, 0.5625882679846936, 1.0060349799862895, -1.6591320629590325, 0.5214272616516344, 0.3285369223086435, -0.13366691432202746, 1.2685035737492887, -0.9555401141886736, -0.785189731858127, 1.163860152188834, 0.9441623706006071, 0.4295636322755884, -1.2129064702146728, 1.261787760948596, -0.8407234928184393, -0.10489098021002438, -1.0786867129279152, 0.36090066239956864, 0.2428837984572731, -0.3455822271375725], \"xaxis\": \"x11\", \"yaxis\": \"y11\"}, {\"line\": {\"color\": \"rgba(128, 128, 128, 1.0)\", \"dash\": \"solid\", \"shape\": \"linear\", \"width\": 1.3}, \"marker\": {\"size\": 2, \"symbol\": \"circle\"}, \"mode\": \"markers\", \"name\": \"C\", \"text\": \"\", \"type\": \"scatter\", \"x\": [0.49043496267422065, -0.16020921175057304, 0.5600223844660832, -1.6457740265135181, 0.4963057508329218, 0.7113347687697275, 0.6207571227104429, -0.4802989504272413, -0.9169943731946518, -0.5399619902807821, 0.25173279018907857, 1.736098597955177, -0.5216083631800642, 1.1601150050333258, 0.06354010557184407, 0.13568600125567723, 0.4720520030531927, 1.762677213689081, -2.7172780203829925, 0.651345001424072, 0.8210729776516448, -1.7796776837975599, -1.4278461252975478, 0.2880833849979308, 0.11467586164572477, -1.461987434305653, 2.1564421937560203, -0.5827887727082924, 0.5248738036943954, 0.3954397310087084, 2.031970115169177, -0.6582012871278141, -0.4433818797837318, 0.3860631304779137, 1.544433750193125, -0.09213284490442124, 0.7108078408272241, -0.30176764260776073, -0.36847269469679667, -1.4188301927110463, -0.3221256569142103, 1.0367364922416362, -0.009353263347798041, -0.05443211157828485, -0.11893288118924607, 1.8796350349498958, 0.11014794610153036, 0.889472124374632, 0.27267097046214994, -1.0981785042841463, 0.9997723744067619, -0.4738638780925631, -0.2557443956657543, 0.48975280862243953, 0.3639552791805878, -0.7923190119911142, 0.06611370838280393, -0.8900010948159683, 0.8297172777486412, 1.3854313901521784, 2.7293284352632896, -0.7300632422534966, -0.6164948006487315, -0.9980511217793661, 0.6133896983942836, -0.39706173921478877, 0.3298000089747955, -0.2555913053069534, 0.7587563531931069, 0.6610231298035647, -0.32700532650427927, 0.6858829048770517, -0.24162613930041255, -0.2871143325239671, -0.9147726883519713, 0.3840404048386791, 0.8109418489749756, -0.056249138180367836, -1.1184405027580853, -0.15825630783310934, 0.05673112277765671, 0.07147419010243035, -0.3644628486419135, 0.17448285284941129, -0.9934845464165444, -0.2934489953134275, -1.1511959051855722, -0.5732909667244408, -1.5136918861385404, -0.8323430613111166, 0.7116469195796357, 1.5490775535806802, 0.889546463321769, -0.5477416593484461, 0.41519085386565613, 0.5337401277761412, 0.3246920175018314, 0.3534489617977568, -0.3135375640624861, 0.6586296615099057], \"xaxis\": \"x12\", \"y\": [0.8073790894073575, -1.6973745783272012, 0.40996595680297215, 1.2854685768379357, 0.6361501047598149, 0.13207783078145027, -0.0020709143364442727, 0.4451459796608686, 0.8251129522487409, 0.006522721413051997, 0.5744547415306136, -0.23390836845042268, 0.35092461072975084, -1.8502004940584358, -1.0898345711235922, -0.6733032733746575, -0.30508348400321167, 0.982080041824776, 0.39522895584606593, -0.4626664306644632, -0.4251881901075147, 0.08488056327679125, -1.5709458521178379, 0.4354237254452735, 1.5206781309223758, 0.5385367855642316, 1.361857432131466, 1.243104183872984, -0.030195583818084702, -0.025455490295685803, 1.943802014130842, 0.6691248496463296, -1.1260875280022447, -0.12959143232017442, 1.1883168229750316, 0.5452414012110727, 1.3978891578398336, 3.880222355020218, -0.026660127563018998, 0.5155711606491945, -0.6987898508432406, 0.6854494348600327, 1.3866063406954972, -1.0683739464629358, 1.5251299341728148, -0.9755714647210725, -1.166071211048564, 0.9934447154667686, -0.00580782010240316, -1.4134579244884833, -0.3327859792240411, 0.7262893226528573, 1.4417195815865718, 0.8033789870440091, 0.04298416560588819, -1.5232256206732064, -2.0564434177013857, -1.3700390416646673, 0.10784665230132051, -0.45659657865967124, 1.0211162252720785, -0.44406295667247747, -0.4498387849327105, -1.266759646209519, -1.0557878475953553, -1.4908227215844774, 0.7187802887621351, 0.5134492477902115, 1.232530069805916, 0.14658470541515586, 0.2845252974811109, -0.03085846786930771, 0.26099220484364655, -1.1620164489458757, -0.48952010017451403, 0.2144407294609408, -0.6563376779371715, 1.3488104267604788, 2.178668867660278, -0.42308493083280807, 0.5625882679846936, 1.0060349799862895, -1.6591320629590325, 0.5214272616516344, 0.3285369223086435, -0.13366691432202746, 1.2685035737492887, -0.9555401141886736, -0.785189731858127, 1.163860152188834, 0.9441623706006071, 0.4295636322755884, -1.2129064702146728, 1.261787760948596, -0.8407234928184393, -0.10489098021002438, -1.0786867129279152, 0.36090066239956864, 0.2428837984572731, -0.3455822271375725], \"yaxis\": \"y12\"}, {\"line\": {\"color\": \"rgba(128, 128, 128, 1.0)\", \"dash\": \"solid\", \"shape\": \"linear\", \"width\": 1.3}, \"marker\": {\"size\": 2, \"symbol\": \"circle\"}, \"mode\": \"markers\", \"name\": \"D\", \"text\": \"\", \"type\": \"scatter\", \"x\": [0.4809701935493859, 0.4116729178913381, 1.1612311441707954, -0.18468056275121433, 0.9090774237963971, 0.7155295610600954, 2.4143993611926065, 0.9505246940290157, 1.2862829720564983, 0.38739916681965425, -0.5559949574997097, -0.2876571146729969, 0.04332105658260201, -0.10684403020173029, -0.08101579381912599, -0.2588657600236738, 0.44471314686174085, 0.5262278446570668, 0.359504689528226, 0.9644749580926572, 0.14378697938205376, 0.7174810745195355, -0.0572119658591329, -0.34103249862246, -1.6468537107942458, -1.7536239389417574, 0.3107494541276593, 0.5835751556771911, -1.3882153946847293, -0.6617819945671465, -0.902168515610066, -0.037499797228010785, -1.9859908587287407, 1.2773232639897405, -1.823464500848794, 0.08856079093540273, -0.1160386988766657, 0.9263865981369626, 1.0334844463462762, -0.6485879509576661, -0.5307861884940688, 0.26851076831149745, 0.4880342471227147, -0.4132485713637769, -0.175550779002986, -0.19668134024524547, -1.5742598158923207, -0.43051290133408665, 0.3551540809716284, -1.0468982923676715, -1.2097455022569614, -1.0830892264441045, -0.4240727587348824, -0.36101820172921684, -0.7086916007987767, 1.20564716373758, 0.08388583507857213, -0.23395520296966282, 0.5882395481234644, 1.3914716517764198, -0.5526623411968891, 1.3476293420232048, 0.371648247401281, -1.542663112097233, 0.041684369817531534, -0.7562874622330439, 0.09139101578253948, 0.14198606005505496, -0.7291167788372935, -1.489501802966314, 1.0756534984369919, 0.10822597747743917, -2.5681607273177205, -0.11854957165422264, -0.581799169673086, 0.02952004053330378, 0.5844068227097681, -0.28003674200521805, -1.1217434500123566, 0.22208325880794239, -0.5521828335280894, -0.6658728645678693, 0.08364797509809636, 0.06101846085596903, 0.20960137239211812, -0.2511550690415435, 0.7228562083392375, -0.7426073165522215, 0.06535789463341556, -1.619965420257936, 2.3383350837584116, -1.0380395675707528, 0.6961674198490935, -0.4907707081292996, 0.08365687141110476, -0.9805769203128746, 0.17087766541919566, 0.13527837766073814, -0.04432882931625158, 0.09112912055088439], \"xaxis\": \"x13\", \"y\": [0.49043496267422065, -0.16020921175057304, 0.5600223844660832, -1.6457740265135181, 0.4963057508329218, 0.7113347687697275, 0.6207571227104429, -0.4802989504272413, -0.9169943731946518, -0.5399619902807821, 0.25173279018907857, 1.736098597955177, -0.5216083631800642, 1.1601150050333258, 0.06354010557184407, 0.13568600125567723, 0.4720520030531927, 1.762677213689081, -2.7172780203829925, 0.651345001424072, 0.8210729776516448, -1.7796776837975599, -1.4278461252975478, 0.2880833849979308, 0.11467586164572477, -1.461987434305653, 2.1564421937560203, -0.5827887727082924, 0.5248738036943954, 0.3954397310087084, 2.031970115169177, -0.6582012871278141, -0.4433818797837318, 0.3860631304779137, 1.544433750193125, -0.09213284490442124, 0.7108078408272241, -0.30176764260776073, -0.36847269469679667, -1.4188301927110463, -0.3221256569142103, 1.0367364922416362, -0.009353263347798041, -0.05443211157828485, -0.11893288118924607, 1.8796350349498958, 0.11014794610153036, 0.889472124374632, 0.27267097046214994, -1.0981785042841463, 0.9997723744067619, -0.4738638780925631, -0.2557443956657543, 0.48975280862243953, 0.3639552791805878, -0.7923190119911142, 0.06611370838280393, -0.8900010948159683, 0.8297172777486412, 1.3854313901521784, 2.7293284352632896, -0.7300632422534966, -0.6164948006487315, -0.9980511217793661, 0.6133896983942836, -0.39706173921478877, 0.3298000089747955, -0.2555913053069534, 0.7587563531931069, 0.6610231298035647, -0.32700532650427927, 0.6858829048770517, -0.24162613930041255, -0.2871143325239671, -0.9147726883519713, 0.3840404048386791, 0.8109418489749756, -0.056249138180367836, -1.1184405027580853, -0.15825630783310934, 0.05673112277765671, 0.07147419010243035, -0.3644628486419135, 0.17448285284941129, -0.9934845464165444, -0.2934489953134275, -1.1511959051855722, -0.5732909667244408, -1.5136918861385404, -0.8323430613111166, 0.7116469195796357, 1.5490775535806802, 0.889546463321769, -0.5477416593484461, 0.41519085386565613, 0.5337401277761412, 0.3246920175018314, 0.3534489617977568, -0.3135375640624861, 0.6586296615099057], \"yaxis\": \"y13\"}, {\"line\": {\"color\": \"rgba(128, 128, 128, 1.0)\", \"dash\": \"solid\", \"shape\": \"linear\", \"width\": 1.3}, \"marker\": {\"size\": 2, \"symbol\": \"circle\"}, \"mode\": \"markers\", \"name\": \"D\", \"text\": \"\", \"type\": \"scatter\", \"x\": [1.0016309158276646, -1.1278855713690346, 0.19207394848142736, -0.7442232312188846, -0.3742764242164646, -0.47282061256527685, 0.11511345730273821, -0.3815946864419323, 0.5661663153310913, 0.19115973899268535, 1.2418448462453666, -0.35835072871695345, 0.3167032594362774, 0.38432359307617747, 0.01132332790171385, -1.076664389090397, -0.030603696939953372, -0.7770874095887204, -1.563276537560789, 0.6116446805882689, 0.37325647099378134, 0.4795233338711024, 0.06758880431969937, 1.7494909081092405, 1.7003949052998308, 0.6877995493896727, -1.1884553476341009, -1.3969761827594405, -0.060535085503600906, 0.01786420971760971, 0.7792913673413099, -0.4748578274004933, -1.3468996690651613, -0.6418794944529772, -0.09325718202909286, -0.35495483692145224, 0.8214407620191938, -0.16269000997772126, 0.15122057259594643, -0.2775199283409806, 0.014948573313217004, -0.7917027395596026, -0.8314568248169648, 1.00319788469958, -0.33783718400004126, 0.482752528125746, -1.5591328575945262, -0.461799723189396, 0.6232788182806367, 0.05928565973909051, 1.0044780211427415, 0.45697312549222147, -1.6799120696389576, -2.199526704123433, -2.5754961060069945, 0.6953688285174284, -0.29865186057138543, -0.1923240104371137, -1.853173120835297, 0.005325829895539349, 0.5926150187685867, 0.9120917700251885, 0.9607773064740242, -0.40019151179669626, -0.8229732516990017, -0.39022846338665457, 0.6989226767757823, -0.08659649448579616, 0.37707493645619083, -1.1387478065480252, -1.3275268809931826, -0.6910617644680611, -0.07867004321818699, -1.0657472824545973, -0.6924256053219089, 2.3909257521521696, -1.0379677745820457, -0.18461723650493886, -0.4308585551359617, 0.24653998365093582, -0.4641880980512829, 0.008065996986652533, -0.8718769871859442, -0.48444125332822063, -0.08264764842014195, 0.1003981086187131, 0.5571639958209236, 0.20741869530613466, -0.3054431848198178, -1.0694746154308614, -0.1921234292756839, -0.06409085922362544, 1.6178691190507066, -1.7000970387894139, 0.7330671644205731, 0.08580212494029932, -1.5354138884235813, 0.09822973927892187, 0.06104733618356545, 2.165567992092975], \"xaxis\": \"x14\", \"y\": [0.49043496267422065, -0.16020921175057304, 0.5600223844660832, -1.6457740265135181, 0.4963057508329218, 0.7113347687697275, 0.6207571227104429, -0.4802989504272413, -0.9169943731946518, -0.5399619902807821, 0.25173279018907857, 1.736098597955177, -0.5216083631800642, 1.1601150050333258, 0.06354010557184407, 0.13568600125567723, 0.4720520030531927, 1.762677213689081, -2.7172780203829925, 0.651345001424072, 0.8210729776516448, -1.7796776837975599, -1.4278461252975478, 0.2880833849979308, 0.11467586164572477, -1.461987434305653, 2.1564421937560203, -0.5827887727082924, 0.5248738036943954, 0.3954397310087084, 2.031970115169177, -0.6582012871278141, -0.4433818797837318, 0.3860631304779137, 1.544433750193125, -0.09213284490442124, 0.7108078408272241, -0.30176764260776073, -0.36847269469679667, -1.4188301927110463, -0.3221256569142103, 1.0367364922416362, -0.009353263347798041, -0.05443211157828485, -0.11893288118924607, 1.8796350349498958, 0.11014794610153036, 0.889472124374632, 0.27267097046214994, -1.0981785042841463, 0.9997723744067619, -0.4738638780925631, -0.2557443956657543, 0.48975280862243953, 0.3639552791805878, -0.7923190119911142, 0.06611370838280393, -0.8900010948159683, 0.8297172777486412, 1.3854313901521784, 2.7293284352632896, -0.7300632422534966, -0.6164948006487315, -0.9980511217793661, 0.6133896983942836, -0.39706173921478877, 0.3298000089747955, -0.2555913053069534, 0.7587563531931069, 0.6610231298035647, -0.32700532650427927, 0.6858829048770517, -0.24162613930041255, -0.2871143325239671, -0.9147726883519713, 0.3840404048386791, 0.8109418489749756, -0.056249138180367836, -1.1184405027580853, -0.15825630783310934, 0.05673112277765671, 0.07147419010243035, -0.3644628486419135, 0.17448285284941129, -0.9934845464165444, -0.2934489953134275, -1.1511959051855722, -0.5732909667244408, -1.5136918861385404, -0.8323430613111166, 0.7116469195796357, 1.5490775535806802, 0.889546463321769, -0.5477416593484461, 0.41519085386565613, 0.5337401277761412, 0.3246920175018314, 0.3534489617977568, -0.3135375640624861, 0.6586296615099057], \"yaxis\": \"y14\"}, {\"line\": {\"color\": \"rgba(128, 128, 128, 1.0)\", \"dash\": \"solid\", \"shape\": \"linear\", \"width\": 1.3}, \"marker\": {\"size\": 2, \"symbol\": \"circle\"}, \"mode\": \"markers\", \"name\": \"D\", \"text\": \"\", \"type\": \"scatter\", \"x\": [0.8073790894073575, -1.6973745783272012, 0.40996595680297215, 1.2854685768379357, 0.6361501047598149, 0.13207783078145027, -0.0020709143364442727, 0.4451459796608686, 0.8251129522487409, 0.006522721413051997, 0.5744547415306136, -0.23390836845042268, 0.35092461072975084, -1.8502004940584358, -1.0898345711235922, -0.6733032733746575, -0.30508348400321167, 0.982080041824776, 0.39522895584606593, -0.4626664306644632, -0.4251881901075147, 0.08488056327679125, -1.5709458521178379, 0.4354237254452735, 1.5206781309223758, 0.5385367855642316, 1.361857432131466, 1.243104183872984, -0.030195583818084702, -0.025455490295685803, 1.943802014130842, 0.6691248496463296, -1.1260875280022447, -0.12959143232017442, 1.1883168229750316, 0.5452414012110727, 1.3978891578398336, 3.880222355020218, -0.026660127563018998, 0.5155711606491945, -0.6987898508432406, 0.6854494348600327, 1.3866063406954972, -1.0683739464629358, 1.5251299341728148, -0.9755714647210725, -1.166071211048564, 0.9934447154667686, -0.00580782010240316, -1.4134579244884833, -0.3327859792240411, 0.7262893226528573, 1.4417195815865718, 0.8033789870440091, 0.04298416560588819, -1.5232256206732064, -2.0564434177013857, -1.3700390416646673, 0.10784665230132051, -0.45659657865967124, 1.0211162252720785, -0.44406295667247747, -0.4498387849327105, -1.266759646209519, -1.0557878475953553, -1.4908227215844774, 0.7187802887621351, 0.5134492477902115, 1.232530069805916, 0.14658470541515586, 0.2845252974811109, -0.03085846786930771, 0.26099220484364655, -1.1620164489458757, -0.48952010017451403, 0.2144407294609408, -0.6563376779371715, 1.3488104267604788, 2.178668867660278, -0.42308493083280807, 0.5625882679846936, 1.0060349799862895, -1.6591320629590325, 0.5214272616516344, 0.3285369223086435, -0.13366691432202746, 1.2685035737492887, -0.9555401141886736, -0.785189731858127, 1.163860152188834, 0.9441623706006071, 0.4295636322755884, -1.2129064702146728, 1.261787760948596, -0.8407234928184393, -0.10489098021002438, -1.0786867129279152, 0.36090066239956864, 0.2428837984572731, -0.3455822271375725], \"xaxis\": \"x15\", \"y\": [0.49043496267422065, -0.16020921175057304, 0.5600223844660832, -1.6457740265135181, 0.4963057508329218, 0.7113347687697275, 0.6207571227104429, -0.4802989504272413, -0.9169943731946518, -0.5399619902807821, 0.25173279018907857, 1.736098597955177, -0.5216083631800642, 1.1601150050333258, 0.06354010557184407, 0.13568600125567723, 0.4720520030531927, 1.762677213689081, -2.7172780203829925, 0.651345001424072, 0.8210729776516448, -1.7796776837975599, -1.4278461252975478, 0.2880833849979308, 0.11467586164572477, -1.461987434305653, 2.1564421937560203, -0.5827887727082924, 0.5248738036943954, 0.3954397310087084, 2.031970115169177, -0.6582012871278141, -0.4433818797837318, 0.3860631304779137, 1.544433750193125, -0.09213284490442124, 0.7108078408272241, -0.30176764260776073, -0.36847269469679667, -1.4188301927110463, -0.3221256569142103, 1.0367364922416362, -0.009353263347798041, -0.05443211157828485, -0.11893288118924607, 1.8796350349498958, 0.11014794610153036, 0.889472124374632, 0.27267097046214994, -1.0981785042841463, 0.9997723744067619, -0.4738638780925631, -0.2557443956657543, 0.48975280862243953, 0.3639552791805878, -0.7923190119911142, 0.06611370838280393, -0.8900010948159683, 0.8297172777486412, 1.3854313901521784, 2.7293284352632896, -0.7300632422534966, -0.6164948006487315, -0.9980511217793661, 0.6133896983942836, -0.39706173921478877, 0.3298000089747955, -0.2555913053069534, 0.7587563531931069, 0.6610231298035647, -0.32700532650427927, 0.6858829048770517, -0.24162613930041255, -0.2871143325239671, -0.9147726883519713, 0.3840404048386791, 0.8109418489749756, -0.056249138180367836, -1.1184405027580853, -0.15825630783310934, 0.05673112277765671, 0.07147419010243035, -0.3644628486419135, 0.17448285284941129, -0.9934845464165444, -0.2934489953134275, -1.1511959051855722, -0.5732909667244408, -1.5136918861385404, -0.8323430613111166, 0.7116469195796357, 1.5490775535806802, 0.889546463321769, -0.5477416593484461, 0.41519085386565613, 0.5337401277761412, 0.3246920175018314, 0.3534489617977568, -0.3135375640624861, 0.6586296615099057], \"yaxis\": \"y15\"}, {\"histfunc\": \"count\", \"histnorm\": \"\", \"marker\": {\"color\": \"rgba(128, 0, 128, 1.0)\", \"line\": {\"color\": \"#4D5663\", \"width\": 1.3}}, \"name\": \"D\", \"nbinsx\": 10, \"opacity\": 0.8, \"orientation\": \"v\", \"type\": \"histogram\", \"x\": [0.49043496267422065, -0.16020921175057304, 0.5600223844660832, -1.6457740265135181, 0.4963057508329218, 0.7113347687697275, 0.6207571227104429, -0.4802989504272413, -0.9169943731946518, -0.5399619902807821, 0.25173279018907857, 1.736098597955177, -0.5216083631800642, 1.1601150050333258, 0.06354010557184407, 0.13568600125567723, 0.4720520030531927, 1.762677213689081, -2.7172780203829925, 0.651345001424072, 0.8210729776516448, -1.7796776837975599, -1.4278461252975478, 0.2880833849979308, 0.11467586164572477, -1.461987434305653, 2.1564421937560203, -0.5827887727082924, 0.5248738036943954, 0.3954397310087084, 2.031970115169177, -0.6582012871278141, -0.4433818797837318, 0.3860631304779137, 1.544433750193125, -0.09213284490442124, 0.7108078408272241, -0.30176764260776073, -0.36847269469679667, -1.4188301927110463, -0.3221256569142103, 1.0367364922416362, -0.009353263347798041, -0.05443211157828485, -0.11893288118924607, 1.8796350349498958, 0.11014794610153036, 0.889472124374632, 0.27267097046214994, -1.0981785042841463, 0.9997723744067619, -0.4738638780925631, -0.2557443956657543, 0.48975280862243953, 0.3639552791805878, -0.7923190119911142, 0.06611370838280393, -0.8900010948159683, 0.8297172777486412, 1.3854313901521784, 2.7293284352632896, -0.7300632422534966, -0.6164948006487315, -0.9980511217793661, 0.6133896983942836, -0.39706173921478877, 0.3298000089747955, -0.2555913053069534, 0.7587563531931069, 0.6610231298035647, -0.32700532650427927, 0.6858829048770517, -0.24162613930041255, -0.2871143325239671, -0.9147726883519713, 0.3840404048386791, 0.8109418489749756, -0.056249138180367836, -1.1184405027580853, -0.15825630783310934, 0.05673112277765671, 0.07147419010243035, -0.3644628486419135, 0.17448285284941129, -0.9934845464165444, -0.2934489953134275, -1.1511959051855722, -0.5732909667244408, -1.5136918861385404, -0.8323430613111166, 0.7116469195796357, 1.5490775535806802, 0.889546463321769, -0.5477416593484461, 0.41519085386565613, 0.5337401277761412, 0.3246920175018314, 0.3534489617977568, -0.3135375640624861, 0.6586296615099057], \"xaxis\": \"x16\", \"yaxis\": \"y16\"}],\n",
              "                        {\"bargap\": 0.02, \"legend\": {\"bgcolor\": \"#F5F6F9\", \"font\": {\"color\": \"#4D5663\"}}, \"paper_bgcolor\": \"#F5F6F9\", \"plot_bgcolor\": \"#F5F6F9\", \"showlegend\": false, \"template\": {\"data\": {\"bar\": [{\"error_x\": {\"color\": \"#2a3f5f\"}, \"error_y\": {\"color\": \"#2a3f5f\"}, \"marker\": {\"line\": {\"color\": \"#E5ECF6\", \"width\": 0.5}}, \"type\": \"bar\"}], \"barpolar\": [{\"marker\": {\"line\": {\"color\": \"#E5ECF6\", \"width\": 0.5}}, \"type\": \"barpolar\"}], \"carpet\": [{\"aaxis\": {\"endlinecolor\": \"#2a3f5f\", \"gridcolor\": \"white\", \"linecolor\": \"white\", \"minorgridcolor\": \"white\", \"startlinecolor\": \"#2a3f5f\"}, \"baxis\": {\"endlinecolor\": \"#2a3f5f\", \"gridcolor\": \"white\", \"linecolor\": \"white\", \"minorgridcolor\": \"white\", \"startlinecolor\": \"#2a3f5f\"}, \"type\": \"carpet\"}], \"choropleth\": [{\"colorbar\": {\"outlinewidth\": 0, \"ticks\": \"\"}, \"type\": \"choropleth\"}], \"contour\": [{\"colorbar\": {\"outlinewidth\": 0, \"ticks\": \"\"}, \"colorscale\": [[0.0, \"#0d0887\"], [0.1111111111111111, \"#46039f\"], [0.2222222222222222, \"#7201a8\"], [0.3333333333333333, \"#9c179e\"], [0.4444444444444444, \"#bd3786\"], [0.5555555555555556, \"#d8576b\"], [0.6666666666666666, \"#ed7953\"], [0.7777777777777778, \"#fb9f3a\"], [0.8888888888888888, \"#fdca26\"], [1.0, \"#f0f921\"]], \"type\": \"contour\"}], \"contourcarpet\": [{\"colorbar\": {\"outlinewidth\": 0, \"ticks\": \"\"}, \"type\": \"contourcarpet\"}], \"heatmap\": [{\"colorbar\": {\"outlinewidth\": 0, \"ticks\": \"\"}, \"colorscale\": [[0.0, \"#0d0887\"], [0.1111111111111111, \"#46039f\"], [0.2222222222222222, \"#7201a8\"], [0.3333333333333333, \"#9c179e\"], [0.4444444444444444, \"#bd3786\"], [0.5555555555555556, \"#d8576b\"], [0.6666666666666666, \"#ed7953\"], [0.7777777777777778, \"#fb9f3a\"], [0.8888888888888888, \"#fdca26\"], [1.0, \"#f0f921\"]], \"type\": \"heatmap\"}], \"heatmapgl\": [{\"colorbar\": {\"outlinewidth\": 0, \"ticks\": \"\"}, \"colorscale\": [[0.0, \"#0d0887\"], [0.1111111111111111, \"#46039f\"], [0.2222222222222222, \"#7201a8\"], [0.3333333333333333, \"#9c179e\"], [0.4444444444444444, \"#bd3786\"], [0.5555555555555556, \"#d8576b\"], [0.6666666666666666, \"#ed7953\"], [0.7777777777777778, \"#fb9f3a\"], [0.8888888888888888, \"#fdca26\"], [1.0, \"#f0f921\"]], \"type\": \"heatmapgl\"}], \"histogram\": [{\"marker\": {\"colorbar\": {\"outlinewidth\": 0, \"ticks\": \"\"}}, \"type\": \"histogram\"}], \"histogram2d\": [{\"colorbar\": {\"outlinewidth\": 0, \"ticks\": \"\"}, \"colorscale\": [[0.0, \"#0d0887\"], [0.1111111111111111, \"#46039f\"], [0.2222222222222222, \"#7201a8\"], [0.3333333333333333, \"#9c179e\"], [0.4444444444444444, \"#bd3786\"], [0.5555555555555556, \"#d8576b\"], [0.6666666666666666, \"#ed7953\"], [0.7777777777777778, \"#fb9f3a\"], [0.8888888888888888, \"#fdca26\"], [1.0, \"#f0f921\"]], \"type\": \"histogram2d\"}], \"histogram2dcontour\": [{\"colorbar\": {\"outlinewidth\": 0, \"ticks\": \"\"}, \"colorscale\": [[0.0, \"#0d0887\"], [0.1111111111111111, \"#46039f\"], [0.2222222222222222, \"#7201a8\"], [0.3333333333333333, \"#9c179e\"], [0.4444444444444444, \"#bd3786\"], [0.5555555555555556, \"#d8576b\"], [0.6666666666666666, \"#ed7953\"], [0.7777777777777778, \"#fb9f3a\"], [0.8888888888888888, \"#fdca26\"], [1.0, \"#f0f921\"]], \"type\": \"histogram2dcontour\"}], \"mesh3d\": [{\"colorbar\": {\"outlinewidth\": 0, \"ticks\": \"\"}, \"type\": \"mesh3d\"}], \"parcoords\": [{\"line\": {\"colorbar\": {\"outlinewidth\": 0, \"ticks\": \"\"}}, \"type\": \"parcoords\"}], \"pie\": [{\"automargin\": true, \"type\": \"pie\"}], \"scatter\": [{\"marker\": {\"colorbar\": {\"outlinewidth\": 0, \"ticks\": \"\"}}, \"type\": \"scatter\"}], \"scatter3d\": [{\"line\": {\"colorbar\": {\"outlinewidth\": 0, \"ticks\": \"\"}}, \"marker\": {\"colorbar\": {\"outlinewidth\": 0, \"ticks\": \"\"}}, \"type\": \"scatter3d\"}], \"scattercarpet\": [{\"marker\": {\"colorbar\": {\"outlinewidth\": 0, \"ticks\": \"\"}}, \"type\": \"scattercarpet\"}], \"scattergeo\": [{\"marker\": {\"colorbar\": {\"outlinewidth\": 0, \"ticks\": \"\"}}, \"type\": \"scattergeo\"}], \"scattergl\": [{\"marker\": {\"colorbar\": {\"outlinewidth\": 0, \"ticks\": \"\"}}, \"type\": \"scattergl\"}], \"scattermapbox\": [{\"marker\": {\"colorbar\": {\"outlinewidth\": 0, \"ticks\": \"\"}}, \"type\": \"scattermapbox\"}], \"scatterpolar\": [{\"marker\": {\"colorbar\": {\"outlinewidth\": 0, \"ticks\": \"\"}}, \"type\": \"scatterpolar\"}], \"scatterpolargl\": [{\"marker\": {\"colorbar\": {\"outlinewidth\": 0, \"ticks\": \"\"}}, \"type\": \"scatterpolargl\"}], \"scatterternary\": [{\"marker\": {\"colorbar\": {\"outlinewidth\": 0, \"ticks\": \"\"}}, \"type\": \"scatterternary\"}], \"surface\": [{\"colorbar\": {\"outlinewidth\": 0, \"ticks\": \"\"}, \"colorscale\": [[0.0, \"#0d0887\"], [0.1111111111111111, \"#46039f\"], [0.2222222222222222, \"#7201a8\"], [0.3333333333333333, \"#9c179e\"], [0.4444444444444444, \"#bd3786\"], [0.5555555555555556, \"#d8576b\"], [0.6666666666666666, \"#ed7953\"], [0.7777777777777778, \"#fb9f3a\"], [0.8888888888888888, \"#fdca26\"], [1.0, \"#f0f921\"]], \"type\": \"surface\"}], \"table\": [{\"cells\": {\"fill\": {\"color\": \"#EBF0F8\"}, \"line\": {\"color\": \"white\"}}, \"header\": {\"fill\": {\"color\": \"#C8D4E3\"}, \"line\": {\"color\": \"white\"}}, \"type\": \"table\"}]}, \"layout\": {\"annotationdefaults\": {\"arrowcolor\": \"#2a3f5f\", \"arrowhead\": 0, \"arrowwidth\": 1}, \"coloraxis\": {\"colorbar\": {\"outlinewidth\": 0, \"ticks\": \"\"}}, \"colorscale\": {\"diverging\": [[0, \"#8e0152\"], [0.1, \"#c51b7d\"], [0.2, \"#de77ae\"], [0.3, \"#f1b6da\"], [0.4, \"#fde0ef\"], [0.5, \"#f7f7f7\"], [0.6, \"#e6f5d0\"], [0.7, \"#b8e186\"], [0.8, \"#7fbc41\"], [0.9, \"#4d9221\"], [1, \"#276419\"]], \"sequential\": [[0.0, \"#0d0887\"], [0.1111111111111111, \"#46039f\"], [0.2222222222222222, \"#7201a8\"], [0.3333333333333333, \"#9c179e\"], [0.4444444444444444, \"#bd3786\"], [0.5555555555555556, \"#d8576b\"], [0.6666666666666666, \"#ed7953\"], [0.7777777777777778, \"#fb9f3a\"], [0.8888888888888888, \"#fdca26\"], [1.0, \"#f0f921\"]], \"sequentialminus\": [[0.0, \"#0d0887\"], [0.1111111111111111, \"#46039f\"], [0.2222222222222222, \"#7201a8\"], [0.3333333333333333, \"#9c179e\"], [0.4444444444444444, \"#bd3786\"], [0.5555555555555556, \"#d8576b\"], [0.6666666666666666, \"#ed7953\"], [0.7777777777777778, \"#fb9f3a\"], [0.8888888888888888, \"#fdca26\"], [1.0, \"#f0f921\"]]}, \"colorway\": [\"#636efa\", \"#EF553B\", \"#00cc96\", \"#ab63fa\", \"#FFA15A\", \"#19d3f3\", \"#FF6692\", \"#B6E880\", \"#FF97FF\", \"#FECB52\"], \"font\": {\"color\": \"#2a3f5f\"}, \"geo\": {\"bgcolor\": \"white\", \"lakecolor\": \"white\", \"landcolor\": \"#E5ECF6\", \"showlakes\": true, \"showland\": true, \"subunitcolor\": \"white\"}, \"hoverlabel\": {\"align\": \"left\"}, \"hovermode\": \"closest\", \"mapbox\": {\"style\": \"light\"}, \"paper_bgcolor\": \"white\", \"plot_bgcolor\": \"#E5ECF6\", \"polar\": {\"angularaxis\": {\"gridcolor\": \"white\", \"linecolor\": \"white\", \"ticks\": \"\"}, \"bgcolor\": \"#E5ECF6\", \"radialaxis\": {\"gridcolor\": \"white\", \"linecolor\": \"white\", \"ticks\": \"\"}}, \"scene\": {\"xaxis\": {\"backgroundcolor\": \"#E5ECF6\", \"gridcolor\": \"white\", \"gridwidth\": 2, \"linecolor\": \"white\", \"showbackground\": true, \"ticks\": \"\", \"zerolinecolor\": \"white\"}, \"yaxis\": {\"backgroundcolor\": \"#E5ECF6\", \"gridcolor\": \"white\", \"gridwidth\": 2, \"linecolor\": \"white\", \"showbackground\": true, \"ticks\": \"\", \"zerolinecolor\": \"white\"}, \"zaxis\": {\"backgroundcolor\": \"#E5ECF6\", \"gridcolor\": \"white\", \"gridwidth\": 2, \"linecolor\": \"white\", \"showbackground\": true, \"ticks\": \"\", \"zerolinecolor\": \"white\"}}, \"shapedefaults\": {\"line\": {\"color\": \"#2a3f5f\"}}, \"ternary\": {\"aaxis\": {\"gridcolor\": \"white\", \"linecolor\": \"white\", \"ticks\": \"\"}, \"baxis\": {\"gridcolor\": \"white\", \"linecolor\": \"white\", \"ticks\": \"\"}, \"bgcolor\": \"#E5ECF6\", \"caxis\": {\"gridcolor\": \"white\", \"linecolor\": \"white\", \"ticks\": \"\"}}, \"title\": {\"x\": 0.05}, \"xaxis\": {\"automargin\": true, \"gridcolor\": \"white\", \"linecolor\": \"white\", \"ticks\": \"\", \"title\": {\"standoff\": 15}, \"zerolinecolor\": \"white\", \"zerolinewidth\": 2}, \"yaxis\": {\"automargin\": true, \"gridcolor\": \"white\", \"linecolor\": \"white\", \"ticks\": \"\", \"title\": {\"standoff\": 15}, \"zerolinecolor\": \"white\", \"zerolinewidth\": 2}}}, \"title\": {\"font\": {\"color\": \"#4D5663\"}}, \"xaxis\": {\"anchor\": \"y\", \"domain\": [0.0, 0.2125], \"gridcolor\": \"#E1E5ED\", \"showgrid\": false, \"tickfont\": {\"color\": \"#4D5663\"}, \"title\": {\"font\": {\"color\": \"#4D5663\"}, \"text\": \"\"}, \"zerolinecolor\": \"#E1E5ED\"}, \"xaxis10\": {\"anchor\": \"y10\", \"domain\": [0.2625, 0.475], \"gridcolor\": \"#E1E5ED\", \"showgrid\": false, \"tickfont\": {\"color\": \"#4D5663\"}, \"title\": {\"font\": {\"color\": \"#4D5663\"}, \"text\": \"\"}, \"zerolinecolor\": \"#E1E5ED\"}, \"xaxis11\": {\"anchor\": \"y11\", \"domain\": [0.525, 0.7375], \"gridcolor\": \"#E1E5ED\", \"showgrid\": false, \"tickfont\": {\"color\": \"#4D5663\"}, \"title\": {\"font\": {\"color\": \"#4D5663\"}, \"text\": \"\"}, \"zerolinecolor\": \"#E1E5ED\"}, \"xaxis12\": {\"anchor\": \"y12\", \"domain\": [0.7875, 1.0], \"gridcolor\": \"#E1E5ED\", \"showgrid\": false, \"tickfont\": {\"color\": \"#4D5663\"}, \"title\": {\"font\": {\"color\": \"#4D5663\"}, \"text\": \"\"}, \"zerolinecolor\": \"#E1E5ED\"}, \"xaxis13\": {\"anchor\": \"y13\", \"domain\": [0.0, 0.2125], \"gridcolor\": \"#E1E5ED\", \"showgrid\": false, \"tickfont\": {\"color\": \"#4D5663\"}, \"title\": {\"font\": {\"color\": \"#4D5663\"}, \"text\": \"\"}, \"zerolinecolor\": \"#E1E5ED\"}, \"xaxis14\": {\"anchor\": \"y14\", \"domain\": [0.2625, 0.475], \"gridcolor\": \"#E1E5ED\", \"showgrid\": false, \"tickfont\": {\"color\": \"#4D5663\"}, \"title\": {\"font\": {\"color\": \"#4D5663\"}, \"text\": \"\"}, \"zerolinecolor\": \"#E1E5ED\"}, \"xaxis15\": {\"anchor\": \"y15\", \"domain\": [0.525, 0.7375], \"gridcolor\": \"#E1E5ED\", \"showgrid\": false, \"tickfont\": {\"color\": \"#4D5663\"}, \"title\": {\"font\": {\"color\": \"#4D5663\"}, \"text\": \"\"}, \"zerolinecolor\": \"#E1E5ED\"}, \"xaxis16\": {\"anchor\": \"y16\", \"domain\": [0.7875, 1.0], \"gridcolor\": \"#E1E5ED\", \"showgrid\": false, \"tickfont\": {\"color\": \"#4D5663\"}, \"title\": {\"font\": {\"color\": \"#4D5663\"}, \"text\": \"\"}, \"zerolinecolor\": \"#E1E5ED\"}, \"xaxis2\": {\"anchor\": \"y2\", \"domain\": [0.2625, 0.475], \"gridcolor\": \"#E1E5ED\", \"showgrid\": false, \"tickfont\": {\"color\": \"#4D5663\"}, \"title\": {\"font\": {\"color\": \"#4D5663\"}, \"text\": \"\"}, \"zerolinecolor\": \"#E1E5ED\"}, \"xaxis3\": {\"anchor\": \"y3\", \"domain\": [0.525, 0.7375], \"gridcolor\": \"#E1E5ED\", \"showgrid\": false, \"tickfont\": {\"color\": \"#4D5663\"}, \"title\": {\"font\": {\"color\": \"#4D5663\"}, \"text\": \"\"}, \"zerolinecolor\": \"#E1E5ED\"}, \"xaxis4\": {\"anchor\": \"y4\", \"domain\": [0.7875, 1.0], \"gridcolor\": \"#E1E5ED\", \"showgrid\": false, \"tickfont\": {\"color\": \"#4D5663\"}, \"title\": {\"font\": {\"color\": \"#4D5663\"}, \"text\": \"\"}, \"zerolinecolor\": \"#E1E5ED\"}, \"xaxis5\": {\"anchor\": \"y5\", \"domain\": [0.0, 0.2125], \"gridcolor\": \"#E1E5ED\", \"showgrid\": false, \"tickfont\": {\"color\": \"#4D5663\"}, \"title\": {\"font\": {\"color\": \"#4D5663\"}, \"text\": \"\"}, \"zerolinecolor\": \"#E1E5ED\"}, \"xaxis6\": {\"anchor\": \"y6\", \"domain\": [0.2625, 0.475], \"gridcolor\": \"#E1E5ED\", \"showgrid\": false, \"tickfont\": {\"color\": \"#4D5663\"}, \"title\": {\"font\": {\"color\": \"#4D5663\"}, \"text\": \"\"}, \"zerolinecolor\": \"#E1E5ED\"}, \"xaxis7\": {\"anchor\": \"y7\", \"domain\": [0.525, 0.7375], \"gridcolor\": \"#E1E5ED\", \"showgrid\": false, \"tickfont\": {\"color\": \"#4D5663\"}, \"title\": {\"font\": {\"color\": \"#4D5663\"}, \"text\": \"\"}, \"zerolinecolor\": \"#E1E5ED\"}, \"xaxis8\": {\"anchor\": \"y8\", \"domain\": [0.7875, 1.0], \"gridcolor\": \"#E1E5ED\", \"showgrid\": false, \"tickfont\": {\"color\": \"#4D5663\"}, \"title\": {\"font\": {\"color\": \"#4D5663\"}, \"text\": \"\"}, \"zerolinecolor\": \"#E1E5ED\"}, \"xaxis9\": {\"anchor\": \"y9\", \"domain\": [0.0, 0.2125], \"gridcolor\": \"#E1E5ED\", \"showgrid\": false, \"tickfont\": {\"color\": \"#4D5663\"}, \"title\": {\"font\": {\"color\": \"#4D5663\"}, \"text\": \"\"}, \"zerolinecolor\": \"#E1E5ED\"}, \"yaxis\": {\"anchor\": \"x\", \"domain\": [0.8025, 1.0], \"gridcolor\": \"#E1E5ED\", \"showgrid\": false, \"tickfont\": {\"color\": \"#4D5663\"}, \"title\": {\"font\": {\"color\": \"#4D5663\"}, \"text\": \"\"}, \"zerolinecolor\": \"#E1E5ED\"}, \"yaxis10\": {\"anchor\": \"x10\", \"domain\": [0.2675, 0.465], \"gridcolor\": \"#E1E5ED\", \"showgrid\": false, \"tickfont\": {\"color\": \"#4D5663\"}, \"title\": {\"font\": {\"color\": \"#4D5663\"}, \"text\": \"\"}, \"zerolinecolor\": \"#E1E5ED\"}, \"yaxis11\": {\"anchor\": \"x11\", \"domain\": [0.2675, 0.465], \"gridcolor\": \"#E1E5ED\", \"showgrid\": false, \"tickfont\": {\"color\": \"#4D5663\"}, \"title\": {\"font\": {\"color\": \"#4D5663\"}, \"text\": \"\"}, \"zerolinecolor\": \"#E1E5ED\"}, \"yaxis12\": {\"anchor\": \"x12\", \"domain\": [0.2675, 0.465], \"gridcolor\": \"#E1E5ED\", \"showgrid\": false, \"tickfont\": {\"color\": \"#4D5663\"}, \"title\": {\"font\": {\"color\": \"#4D5663\"}, \"text\": \"\"}, \"zerolinecolor\": \"#E1E5ED\"}, \"yaxis13\": {\"anchor\": \"x13\", \"domain\": [0.0, 0.1975], \"gridcolor\": \"#E1E5ED\", \"showgrid\": false, \"tickfont\": {\"color\": \"#4D5663\"}, \"title\": {\"font\": {\"color\": \"#4D5663\"}, \"text\": \"\"}, \"zerolinecolor\": \"#E1E5ED\"}, \"yaxis14\": {\"anchor\": \"x14\", \"domain\": [0.0, 0.1975], \"gridcolor\": \"#E1E5ED\", \"showgrid\": false, \"tickfont\": {\"color\": \"#4D5663\"}, \"title\": {\"font\": {\"color\": \"#4D5663\"}, \"text\": \"\"}, \"zerolinecolor\": \"#E1E5ED\"}, \"yaxis15\": {\"anchor\": \"x15\", \"domain\": [0.0, 0.1975], \"gridcolor\": \"#E1E5ED\", \"showgrid\": false, \"tickfont\": {\"color\": \"#4D5663\"}, \"title\": {\"font\": {\"color\": \"#4D5663\"}, \"text\": \"\"}, \"zerolinecolor\": \"#E1E5ED\"}, \"yaxis16\": {\"anchor\": \"x16\", \"domain\": [0.0, 0.1975], \"gridcolor\": \"#E1E5ED\", \"showgrid\": false, \"tickfont\": {\"color\": \"#4D5663\"}, \"title\": {\"font\": {\"color\": \"#4D5663\"}, \"text\": \"\"}, \"zerolinecolor\": \"#E1E5ED\"}, \"yaxis2\": {\"anchor\": \"x2\", \"domain\": [0.8025, 1.0], \"gridcolor\": \"#E1E5ED\", \"showgrid\": false, \"tickfont\": {\"color\": \"#4D5663\"}, \"title\": {\"font\": {\"color\": \"#4D5663\"}, \"text\": \"\"}, \"zerolinecolor\": \"#E1E5ED\"}, \"yaxis3\": {\"anchor\": \"x3\", \"domain\": [0.8025, 1.0], \"gridcolor\": \"#E1E5ED\", \"showgrid\": false, \"tickfont\": {\"color\": \"#4D5663\"}, \"title\": {\"font\": {\"color\": \"#4D5663\"}, \"text\": \"\"}, \"zerolinecolor\": \"#E1E5ED\"}, \"yaxis4\": {\"anchor\": \"x4\", \"domain\": [0.8025, 1.0], \"gridcolor\": \"#E1E5ED\", \"showgrid\": false, \"tickfont\": {\"color\": \"#4D5663\"}, \"title\": {\"font\": {\"color\": \"#4D5663\"}, \"text\": \"\"}, \"zerolinecolor\": \"#E1E5ED\"}, \"yaxis5\": {\"anchor\": \"x5\", \"domain\": [0.535, 0.7325], \"gridcolor\": \"#E1E5ED\", \"showgrid\": false, \"tickfont\": {\"color\": \"#4D5663\"}, \"title\": {\"font\": {\"color\": \"#4D5663\"}, \"text\": \"\"}, \"zerolinecolor\": \"#E1E5ED\"}, \"yaxis6\": {\"anchor\": \"x6\", \"domain\": [0.535, 0.7325], \"gridcolor\": \"#E1E5ED\", \"showgrid\": false, \"tickfont\": {\"color\": \"#4D5663\"}, \"title\": {\"font\": {\"color\": \"#4D5663\"}, \"text\": \"\"}, \"zerolinecolor\": \"#E1E5ED\"}, \"yaxis7\": {\"anchor\": \"x7\", \"domain\": [0.535, 0.7325], \"gridcolor\": \"#E1E5ED\", \"showgrid\": false, \"tickfont\": {\"color\": \"#4D5663\"}, \"title\": {\"font\": {\"color\": \"#4D5663\"}, \"text\": \"\"}, \"zerolinecolor\": \"#E1E5ED\"}, \"yaxis8\": {\"anchor\": \"x8\", \"domain\": [0.535, 0.7325], \"gridcolor\": \"#E1E5ED\", \"showgrid\": false, \"tickfont\": {\"color\": \"#4D5663\"}, \"title\": {\"font\": {\"color\": \"#4D5663\"}, \"text\": \"\"}, \"zerolinecolor\": \"#E1E5ED\"}, \"yaxis9\": {\"anchor\": \"x9\", \"domain\": [0.2675, 0.465], \"gridcolor\": \"#E1E5ED\", \"showgrid\": false, \"tickfont\": {\"color\": \"#4D5663\"}, \"title\": {\"font\": {\"color\": \"#4D5663\"}, \"text\": \"\"}, \"zerolinecolor\": \"#E1E5ED\"}},\n",
              "                        {\"showLink\": true, \"linkText\": \"Export to plot.ly\", \"plotlyServerURL\": \"https://plot.ly\", \"responsive\": true}\n",
              "                    ).then(function(){\n",
              "                            \n",
              "var gd = document.getElementById('d84ef71e-7652-4b35-aa49-8c99ba5e2dd3');\n",
              "var x = new MutationObserver(function (mutations, observer) {{\n",
              "        var display = window.getComputedStyle(gd).display;\n",
              "        if (!display || display === 'none') {{\n",
              "            console.log([gd, 'removed!']);\n",
              "            Plotly.purge(gd);\n",
              "            observer.disconnect();\n",
              "        }}\n",
              "}});\n",
              "\n",
              "// Listen for the removal of the full notebook cells\n",
              "var notebookContainer = gd.closest('#notebook-container');\n",
              "if (notebookContainer) {{\n",
              "    x.observe(notebookContainer, {childList: true});\n",
              "}}\n",
              "\n",
              "// Listen for the clearing of the current output cell\n",
              "var outputEl = gd.closest('.output');\n",
              "if (outputEl) {{\n",
              "    x.observe(outputEl, {childList: true});\n",
              "}}\n",
              "\n",
              "                        })\n",
              "                };\n",
              "                });\n",
              "            </script>\n",
              "        </div>"
            ],
            "application/vnd.plotly.v1+json": {
              "data": [
                {
                  "opacity": 0.8,
                  "name": "A",
                  "yaxis": "y",
                  "histnorm": "",
                  "xaxis": "x",
                  "nbinsx": 10,
                  "histfunc": "count",
                  "marker": {
                    "color": "rgba(255, 153, 51, 1.0)",
                    "line": {
                      "color": "#4D5663",
                      "width": 1.3
                    }
                  },
                  "x": [
                    0.4809701935493859,
                    0.4116729178913381,
                    1.1612311441707954,
                    -0.18468056275121433,
                    0.9090774237963971,
                    0.7155295610600954,
                    2.4143993611926065,
                    0.9505246940290157,
                    1.2862829720564983,
                    0.38739916681965425,
                    -0.5559949574997097,
                    -0.2876571146729969,
                    0.04332105658260201,
                    -0.10684403020173029,
                    -0.08101579381912599,
                    -0.2588657600236738,
                    0.44471314686174085,
                    0.5262278446570668,
                    0.359504689528226,
                    0.9644749580926572,
                    0.14378697938205376,
                    0.7174810745195355,
                    -0.0572119658591329,
                    -0.34103249862246,
                    -1.6468537107942458,
                    -1.7536239389417574,
                    0.3107494541276593,
                    0.5835751556771911,
                    -1.3882153946847293,
                    -0.6617819945671465,
                    -0.902168515610066,
                    -0.037499797228010785,
                    -1.9859908587287407,
                    1.2773232639897405,
                    -1.823464500848794,
                    0.08856079093540273,
                    -0.1160386988766657,
                    0.9263865981369626,
                    1.0334844463462762,
                    -0.6485879509576661,
                    -0.5307861884940688,
                    0.26851076831149745,
                    0.4880342471227147,
                    -0.4132485713637769,
                    -0.175550779002986,
                    -0.19668134024524547,
                    -1.5742598158923207,
                    -0.43051290133408665,
                    0.3551540809716284,
                    -1.0468982923676715,
                    -1.2097455022569614,
                    -1.0830892264441045,
                    -0.4240727587348824,
                    -0.36101820172921684,
                    -0.7086916007987767,
                    1.20564716373758,
                    0.08388583507857213,
                    -0.23395520296966282,
                    0.5882395481234644,
                    1.3914716517764198,
                    -0.5526623411968891,
                    1.3476293420232048,
                    0.371648247401281,
                    -1.542663112097233,
                    0.041684369817531534,
                    -0.7562874622330439,
                    0.09139101578253948,
                    0.14198606005505496,
                    -0.7291167788372935,
                    -1.489501802966314,
                    1.0756534984369919,
                    0.10822597747743917,
                    -2.5681607273177205,
                    -0.11854957165422264,
                    -0.581799169673086,
                    0.02952004053330378,
                    0.5844068227097681,
                    -0.28003674200521805,
                    -1.1217434500123566,
                    0.22208325880794239,
                    -0.5521828335280894,
                    -0.6658728645678693,
                    0.08364797509809636,
                    0.06101846085596903,
                    0.20960137239211812,
                    -0.2511550690415435,
                    0.7228562083392375,
                    -0.7426073165522215,
                    0.06535789463341556,
                    -1.619965420257936,
                    2.3383350837584116,
                    -1.0380395675707528,
                    0.6961674198490935,
                    -0.4907707081292996,
                    0.08365687141110476,
                    -0.9805769203128746,
                    0.17087766541919566,
                    0.13527837766073814,
                    -0.04432882931625158,
                    0.09112912055088439
                  ],
                  "type": "histogram",
                  "orientation": "v"
                },
                {
                  "name": "A",
                  "yaxis": "y2",
                  "text": "",
                  "y": [
                    0.4809701935493859,
                    0.4116729178913381,
                    1.1612311441707954,
                    -0.18468056275121433,
                    0.9090774237963971,
                    0.7155295610600954,
                    2.4143993611926065,
                    0.9505246940290157,
                    1.2862829720564983,
                    0.38739916681965425,
                    -0.5559949574997097,
                    -0.2876571146729969,
                    0.04332105658260201,
                    -0.10684403020173029,
                    -0.08101579381912599,
                    -0.2588657600236738,
                    0.44471314686174085,
                    0.5262278446570668,
                    0.359504689528226,
                    0.9644749580926572,
                    0.14378697938205376,
                    0.7174810745195355,
                    -0.0572119658591329,
                    -0.34103249862246,
                    -1.6468537107942458,
                    -1.7536239389417574,
                    0.3107494541276593,
                    0.5835751556771911,
                    -1.3882153946847293,
                    -0.6617819945671465,
                    -0.902168515610066,
                    -0.037499797228010785,
                    -1.9859908587287407,
                    1.2773232639897405,
                    -1.823464500848794,
                    0.08856079093540273,
                    -0.1160386988766657,
                    0.9263865981369626,
                    1.0334844463462762,
                    -0.6485879509576661,
                    -0.5307861884940688,
                    0.26851076831149745,
                    0.4880342471227147,
                    -0.4132485713637769,
                    -0.175550779002986,
                    -0.19668134024524547,
                    -1.5742598158923207,
                    -0.43051290133408665,
                    0.3551540809716284,
                    -1.0468982923676715,
                    -1.2097455022569614,
                    -1.0830892264441045,
                    -0.4240727587348824,
                    -0.36101820172921684,
                    -0.7086916007987767,
                    1.20564716373758,
                    0.08388583507857213,
                    -0.23395520296966282,
                    0.5882395481234644,
                    1.3914716517764198,
                    -0.5526623411968891,
                    1.3476293420232048,
                    0.371648247401281,
                    -1.542663112097233,
                    0.041684369817531534,
                    -0.7562874622330439,
                    0.09139101578253948,
                    0.14198606005505496,
                    -0.7291167788372935,
                    -1.489501802966314,
                    1.0756534984369919,
                    0.10822597747743917,
                    -2.5681607273177205,
                    -0.11854957165422264,
                    -0.581799169673086,
                    0.02952004053330378,
                    0.5844068227097681,
                    -0.28003674200521805,
                    -1.1217434500123566,
                    0.22208325880794239,
                    -0.5521828335280894,
                    -0.6658728645678693,
                    0.08364797509809636,
                    0.06101846085596903,
                    0.20960137239211812,
                    -0.2511550690415435,
                    0.7228562083392375,
                    -0.7426073165522215,
                    0.06535789463341556,
                    -1.619965420257936,
                    2.3383350837584116,
                    -1.0380395675707528,
                    0.6961674198490935,
                    -0.4907707081292996,
                    0.08365687141110476,
                    -0.9805769203128746,
                    0.17087766541919566,
                    0.13527837766073814,
                    -0.04432882931625158,
                    0.09112912055088439
                  ],
                  "mode": "markers",
                  "xaxis": "x2",
                  "marker": {
                    "symbol": "circle",
                    "size": 2
                  },
                  "x": [
                    1.0016309158276646,
                    -1.1278855713690346,
                    0.19207394848142736,
                    -0.7442232312188846,
                    -0.3742764242164646,
                    -0.47282061256527685,
                    0.11511345730273821,
                    -0.3815946864419323,
                    0.5661663153310913,
                    0.19115973899268535,
                    1.2418448462453666,
                    -0.35835072871695345,
                    0.3167032594362774,
                    0.38432359307617747,
                    0.01132332790171385,
                    -1.076664389090397,
                    -0.030603696939953372,
                    -0.7770874095887204,
                    -1.563276537560789,
                    0.6116446805882689,
                    0.37325647099378134,
                    0.4795233338711024,
                    0.06758880431969937,
                    1.7494909081092405,
                    1.7003949052998308,
                    0.6877995493896727,
                    -1.1884553476341009,
                    -1.3969761827594405,
                    -0.060535085503600906,
                    0.01786420971760971,
                    0.7792913673413099,
                    -0.4748578274004933,
                    -1.3468996690651613,
                    -0.6418794944529772,
                    -0.09325718202909286,
                    -0.35495483692145224,
                    0.8214407620191938,
                    -0.16269000997772126,
                    0.15122057259594643,
                    -0.2775199283409806,
                    0.014948573313217004,
                    -0.7917027395596026,
                    -0.8314568248169648,
                    1.00319788469958,
                    -0.33783718400004126,
                    0.482752528125746,
                    -1.5591328575945262,
                    -0.461799723189396,
                    0.6232788182806367,
                    0.05928565973909051,
                    1.0044780211427415,
                    0.45697312549222147,
                    -1.6799120696389576,
                    -2.199526704123433,
                    -2.5754961060069945,
                    0.6953688285174284,
                    -0.29865186057138543,
                    -0.1923240104371137,
                    -1.853173120835297,
                    0.005325829895539349,
                    0.5926150187685867,
                    0.9120917700251885,
                    0.9607773064740242,
                    -0.40019151179669626,
                    -0.8229732516990017,
                    -0.39022846338665457,
                    0.6989226767757823,
                    -0.08659649448579616,
                    0.37707493645619083,
                    -1.1387478065480252,
                    -1.3275268809931826,
                    -0.6910617644680611,
                    -0.07867004321818699,
                    -1.0657472824545973,
                    -0.6924256053219089,
                    2.3909257521521696,
                    -1.0379677745820457,
                    -0.18461723650493886,
                    -0.4308585551359617,
                    0.24653998365093582,
                    -0.4641880980512829,
                    0.008065996986652533,
                    -0.8718769871859442,
                    -0.48444125332822063,
                    -0.08264764842014195,
                    0.1003981086187131,
                    0.5571639958209236,
                    0.20741869530613466,
                    -0.3054431848198178,
                    -1.0694746154308614,
                    -0.1921234292756839,
                    -0.06409085922362544,
                    1.6178691190507066,
                    -1.7000970387894139,
                    0.7330671644205731,
                    0.08580212494029932,
                    -1.5354138884235813,
                    0.09822973927892187,
                    0.06104733618356545,
                    2.165567992092975
                  ],
                  "line": {
                    "color": "rgba(128, 128, 128, 1.0)",
                    "dash": "solid",
                    "shape": "linear",
                    "width": 1.3
                  },
                  "type": "scatter"
                },
                {
                  "name": "A",
                  "yaxis": "y3",
                  "text": "",
                  "y": [
                    0.4809701935493859,
                    0.4116729178913381,
                    1.1612311441707954,
                    -0.18468056275121433,
                    0.9090774237963971,
                    0.7155295610600954,
                    2.4143993611926065,
                    0.9505246940290157,
                    1.2862829720564983,
                    0.38739916681965425,
                    -0.5559949574997097,
                    -0.2876571146729969,
                    0.04332105658260201,
                    -0.10684403020173029,
                    -0.08101579381912599,
                    -0.2588657600236738,
                    0.44471314686174085,
                    0.5262278446570668,
                    0.359504689528226,
                    0.9644749580926572,
                    0.14378697938205376,
                    0.7174810745195355,
                    -0.0572119658591329,
                    -0.34103249862246,
                    -1.6468537107942458,
                    -1.7536239389417574,
                    0.3107494541276593,
                    0.5835751556771911,
                    -1.3882153946847293,
                    -0.6617819945671465,
                    -0.902168515610066,
                    -0.037499797228010785,
                    -1.9859908587287407,
                    1.2773232639897405,
                    -1.823464500848794,
                    0.08856079093540273,
                    -0.1160386988766657,
                    0.9263865981369626,
                    1.0334844463462762,
                    -0.6485879509576661,
                    -0.5307861884940688,
                    0.26851076831149745,
                    0.4880342471227147,
                    -0.4132485713637769,
                    -0.175550779002986,
                    -0.19668134024524547,
                    -1.5742598158923207,
                    -0.43051290133408665,
                    0.3551540809716284,
                    -1.0468982923676715,
                    -1.2097455022569614,
                    -1.0830892264441045,
                    -0.4240727587348824,
                    -0.36101820172921684,
                    -0.7086916007987767,
                    1.20564716373758,
                    0.08388583507857213,
                    -0.23395520296966282,
                    0.5882395481234644,
                    1.3914716517764198,
                    -0.5526623411968891,
                    1.3476293420232048,
                    0.371648247401281,
                    -1.542663112097233,
                    0.041684369817531534,
                    -0.7562874622330439,
                    0.09139101578253948,
                    0.14198606005505496,
                    -0.7291167788372935,
                    -1.489501802966314,
                    1.0756534984369919,
                    0.10822597747743917,
                    -2.5681607273177205,
                    -0.11854957165422264,
                    -0.581799169673086,
                    0.02952004053330378,
                    0.5844068227097681,
                    -0.28003674200521805,
                    -1.1217434500123566,
                    0.22208325880794239,
                    -0.5521828335280894,
                    -0.6658728645678693,
                    0.08364797509809636,
                    0.06101846085596903,
                    0.20960137239211812,
                    -0.2511550690415435,
                    0.7228562083392375,
                    -0.7426073165522215,
                    0.06535789463341556,
                    -1.619965420257936,
                    2.3383350837584116,
                    -1.0380395675707528,
                    0.6961674198490935,
                    -0.4907707081292996,
                    0.08365687141110476,
                    -0.9805769203128746,
                    0.17087766541919566,
                    0.13527837766073814,
                    -0.04432882931625158,
                    0.09112912055088439
                  ],
                  "mode": "markers",
                  "xaxis": "x3",
                  "marker": {
                    "symbol": "circle",
                    "size": 2
                  },
                  "x": [
                    0.8073790894073575,
                    -1.6973745783272012,
                    0.40996595680297215,
                    1.2854685768379357,
                    0.6361501047598149,
                    0.13207783078145027,
                    -0.0020709143364442727,
                    0.4451459796608686,
                    0.8251129522487409,
                    0.006522721413051997,
                    0.5744547415306136,
                    -0.23390836845042268,
                    0.35092461072975084,
                    -1.8502004940584358,
                    -1.0898345711235922,
                    -0.6733032733746575,
                    -0.30508348400321167,
                    0.982080041824776,
                    0.39522895584606593,
                    -0.4626664306644632,
                    -0.4251881901075147,
                    0.08488056327679125,
                    -1.5709458521178379,
                    0.4354237254452735,
                    1.5206781309223758,
                    0.5385367855642316,
                    1.361857432131466,
                    1.243104183872984,
                    -0.030195583818084702,
                    -0.025455490295685803,
                    1.943802014130842,
                    0.6691248496463296,
                    -1.1260875280022447,
                    -0.12959143232017442,
                    1.1883168229750316,
                    0.5452414012110727,
                    1.3978891578398336,
                    3.880222355020218,
                    -0.026660127563018998,
                    0.5155711606491945,
                    -0.6987898508432406,
                    0.6854494348600327,
                    1.3866063406954972,
                    -1.0683739464629358,
                    1.5251299341728148,
                    -0.9755714647210725,
                    -1.166071211048564,
                    0.9934447154667686,
                    -0.00580782010240316,
                    -1.4134579244884833,
                    -0.3327859792240411,
                    0.7262893226528573,
                    1.4417195815865718,
                    0.8033789870440091,
                    0.04298416560588819,
                    -1.5232256206732064,
                    -2.0564434177013857,
                    -1.3700390416646673,
                    0.10784665230132051,
                    -0.45659657865967124,
                    1.0211162252720785,
                    -0.44406295667247747,
                    -0.4498387849327105,
                    -1.266759646209519,
                    -1.0557878475953553,
                    -1.4908227215844774,
                    0.7187802887621351,
                    0.5134492477902115,
                    1.232530069805916,
                    0.14658470541515586,
                    0.2845252974811109,
                    -0.03085846786930771,
                    0.26099220484364655,
                    -1.1620164489458757,
                    -0.48952010017451403,
                    0.2144407294609408,
                    -0.6563376779371715,
                    1.3488104267604788,
                    2.178668867660278,
                    -0.42308493083280807,
                    0.5625882679846936,
                    1.0060349799862895,
                    -1.6591320629590325,
                    0.5214272616516344,
                    0.3285369223086435,
                    -0.13366691432202746,
                    1.2685035737492887,
                    -0.9555401141886736,
                    -0.785189731858127,
                    1.163860152188834,
                    0.9441623706006071,
                    0.4295636322755884,
                    -1.2129064702146728,
                    1.261787760948596,
                    -0.8407234928184393,
                    -0.10489098021002438,
                    -1.0786867129279152,
                    0.36090066239956864,
                    0.2428837984572731,
                    -0.3455822271375725
                  ],
                  "line": {
                    "color": "rgba(128, 128, 128, 1.0)",
                    "dash": "solid",
                    "shape": "linear",
                    "width": 1.3
                  },
                  "type": "scatter"
                },
                {
                  "name": "A",
                  "yaxis": "y4",
                  "text": "",
                  "y": [
                    0.4809701935493859,
                    0.4116729178913381,
                    1.1612311441707954,
                    -0.18468056275121433,
                    0.9090774237963971,
                    0.7155295610600954,
                    2.4143993611926065,
                    0.9505246940290157,
                    1.2862829720564983,
                    0.38739916681965425,
                    -0.5559949574997097,
                    -0.2876571146729969,
                    0.04332105658260201,
                    -0.10684403020173029,
                    -0.08101579381912599,
                    -0.2588657600236738,
                    0.44471314686174085,
                    0.5262278446570668,
                    0.359504689528226,
                    0.9644749580926572,
                    0.14378697938205376,
                    0.7174810745195355,
                    -0.0572119658591329,
                    -0.34103249862246,
                    -1.6468537107942458,
                    -1.7536239389417574,
                    0.3107494541276593,
                    0.5835751556771911,
                    -1.3882153946847293,
                    -0.6617819945671465,
                    -0.902168515610066,
                    -0.037499797228010785,
                    -1.9859908587287407,
                    1.2773232639897405,
                    -1.823464500848794,
                    0.08856079093540273,
                    -0.1160386988766657,
                    0.9263865981369626,
                    1.0334844463462762,
                    -0.6485879509576661,
                    -0.5307861884940688,
                    0.26851076831149745,
                    0.4880342471227147,
                    -0.4132485713637769,
                    -0.175550779002986,
                    -0.19668134024524547,
                    -1.5742598158923207,
                    -0.43051290133408665,
                    0.3551540809716284,
                    -1.0468982923676715,
                    -1.2097455022569614,
                    -1.0830892264441045,
                    -0.4240727587348824,
                    -0.36101820172921684,
                    -0.7086916007987767,
                    1.20564716373758,
                    0.08388583507857213,
                    -0.23395520296966282,
                    0.5882395481234644,
                    1.3914716517764198,
                    -0.5526623411968891,
                    1.3476293420232048,
                    0.371648247401281,
                    -1.542663112097233,
                    0.041684369817531534,
                    -0.7562874622330439,
                    0.09139101578253948,
                    0.14198606005505496,
                    -0.7291167788372935,
                    -1.489501802966314,
                    1.0756534984369919,
                    0.10822597747743917,
                    -2.5681607273177205,
                    -0.11854957165422264,
                    -0.581799169673086,
                    0.02952004053330378,
                    0.5844068227097681,
                    -0.28003674200521805,
                    -1.1217434500123566,
                    0.22208325880794239,
                    -0.5521828335280894,
                    -0.6658728645678693,
                    0.08364797509809636,
                    0.06101846085596903,
                    0.20960137239211812,
                    -0.2511550690415435,
                    0.7228562083392375,
                    -0.7426073165522215,
                    0.06535789463341556,
                    -1.619965420257936,
                    2.3383350837584116,
                    -1.0380395675707528,
                    0.6961674198490935,
                    -0.4907707081292996,
                    0.08365687141110476,
                    -0.9805769203128746,
                    0.17087766541919566,
                    0.13527837766073814,
                    -0.04432882931625158,
                    0.09112912055088439
                  ],
                  "mode": "markers",
                  "xaxis": "x4",
                  "marker": {
                    "symbol": "circle",
                    "size": 2
                  },
                  "x": [
                    0.49043496267422065,
                    -0.16020921175057304,
                    0.5600223844660832,
                    -1.6457740265135181,
                    0.4963057508329218,
                    0.7113347687697275,
                    0.6207571227104429,
                    -0.4802989504272413,
                    -0.9169943731946518,
                    -0.5399619902807821,
                    0.25173279018907857,
                    1.736098597955177,
                    -0.5216083631800642,
                    1.1601150050333258,
                    0.06354010557184407,
                    0.13568600125567723,
                    0.4720520030531927,
                    1.762677213689081,
                    -2.7172780203829925,
                    0.651345001424072,
                    0.8210729776516448,
                    -1.7796776837975599,
                    -1.4278461252975478,
                    0.2880833849979308,
                    0.11467586164572477,
                    -1.461987434305653,
                    2.1564421937560203,
                    -0.5827887727082924,
                    0.5248738036943954,
                    0.3954397310087084,
                    2.031970115169177,
                    -0.6582012871278141,
                    -0.4433818797837318,
                    0.3860631304779137,
                    1.544433750193125,
                    -0.09213284490442124,
                    0.7108078408272241,
                    -0.30176764260776073,
                    -0.36847269469679667,
                    -1.4188301927110463,
                    -0.3221256569142103,
                    1.0367364922416362,
                    -0.009353263347798041,
                    -0.05443211157828485,
                    -0.11893288118924607,
                    1.8796350349498958,
                    0.11014794610153036,
                    0.889472124374632,
                    0.27267097046214994,
                    -1.0981785042841463,
                    0.9997723744067619,
                    -0.4738638780925631,
                    -0.2557443956657543,
                    0.48975280862243953,
                    0.3639552791805878,
                    -0.7923190119911142,
                    0.06611370838280393,
                    -0.8900010948159683,
                    0.8297172777486412,
                    1.3854313901521784,
                    2.7293284352632896,
                    -0.7300632422534966,
                    -0.6164948006487315,
                    -0.9980511217793661,
                    0.6133896983942836,
                    -0.39706173921478877,
                    0.3298000089747955,
                    -0.2555913053069534,
                    0.7587563531931069,
                    0.6610231298035647,
                    -0.32700532650427927,
                    0.6858829048770517,
                    -0.24162613930041255,
                    -0.2871143325239671,
                    -0.9147726883519713,
                    0.3840404048386791,
                    0.8109418489749756,
                    -0.056249138180367836,
                    -1.1184405027580853,
                    -0.15825630783310934,
                    0.05673112277765671,
                    0.07147419010243035,
                    -0.3644628486419135,
                    0.17448285284941129,
                    -0.9934845464165444,
                    -0.2934489953134275,
                    -1.1511959051855722,
                    -0.5732909667244408,
                    -1.5136918861385404,
                    -0.8323430613111166,
                    0.7116469195796357,
                    1.5490775535806802,
                    0.889546463321769,
                    -0.5477416593484461,
                    0.41519085386565613,
                    0.5337401277761412,
                    0.3246920175018314,
                    0.3534489617977568,
                    -0.3135375640624861,
                    0.6586296615099057
                  ],
                  "line": {
                    "color": "rgba(128, 128, 128, 1.0)",
                    "dash": "solid",
                    "shape": "linear",
                    "width": 1.3
                  },
                  "type": "scatter"
                },
                {
                  "name": "B",
                  "yaxis": "y5",
                  "text": "",
                  "y": [
                    1.0016309158276646,
                    -1.1278855713690346,
                    0.19207394848142736,
                    -0.7442232312188846,
                    -0.3742764242164646,
                    -0.47282061256527685,
                    0.11511345730273821,
                    -0.3815946864419323,
                    0.5661663153310913,
                    0.19115973899268535,
                    1.2418448462453666,
                    -0.35835072871695345,
                    0.3167032594362774,
                    0.38432359307617747,
                    0.01132332790171385,
                    -1.076664389090397,
                    -0.030603696939953372,
                    -0.7770874095887204,
                    -1.563276537560789,
                    0.6116446805882689,
                    0.37325647099378134,
                    0.4795233338711024,
                    0.06758880431969937,
                    1.7494909081092405,
                    1.7003949052998308,
                    0.6877995493896727,
                    -1.1884553476341009,
                    -1.3969761827594405,
                    -0.060535085503600906,
                    0.01786420971760971,
                    0.7792913673413099,
                    -0.4748578274004933,
                    -1.3468996690651613,
                    -0.6418794944529772,
                    -0.09325718202909286,
                    -0.35495483692145224,
                    0.8214407620191938,
                    -0.16269000997772126,
                    0.15122057259594643,
                    -0.2775199283409806,
                    0.014948573313217004,
                    -0.7917027395596026,
                    -0.8314568248169648,
                    1.00319788469958,
                    -0.33783718400004126,
                    0.482752528125746,
                    -1.5591328575945262,
                    -0.461799723189396,
                    0.6232788182806367,
                    0.05928565973909051,
                    1.0044780211427415,
                    0.45697312549222147,
                    -1.6799120696389576,
                    -2.199526704123433,
                    -2.5754961060069945,
                    0.6953688285174284,
                    -0.29865186057138543,
                    -0.1923240104371137,
                    -1.853173120835297,
                    0.005325829895539349,
                    0.5926150187685867,
                    0.9120917700251885,
                    0.9607773064740242,
                    -0.40019151179669626,
                    -0.8229732516990017,
                    -0.39022846338665457,
                    0.6989226767757823,
                    -0.08659649448579616,
                    0.37707493645619083,
                    -1.1387478065480252,
                    -1.3275268809931826,
                    -0.6910617644680611,
                    -0.07867004321818699,
                    -1.0657472824545973,
                    -0.6924256053219089,
                    2.3909257521521696,
                    -1.0379677745820457,
                    -0.18461723650493886,
                    -0.4308585551359617,
                    0.24653998365093582,
                    -0.4641880980512829,
                    0.008065996986652533,
                    -0.8718769871859442,
                    -0.48444125332822063,
                    -0.08264764842014195,
                    0.1003981086187131,
                    0.5571639958209236,
                    0.20741869530613466,
                    -0.3054431848198178,
                    -1.0694746154308614,
                    -0.1921234292756839,
                    -0.06409085922362544,
                    1.6178691190507066,
                    -1.7000970387894139,
                    0.7330671644205731,
                    0.08580212494029932,
                    -1.5354138884235813,
                    0.09822973927892187,
                    0.06104733618356545,
                    2.165567992092975
                  ],
                  "mode": "markers",
                  "xaxis": "x5",
                  "marker": {
                    "symbol": "circle",
                    "size": 2
                  },
                  "x": [
                    0.4809701935493859,
                    0.4116729178913381,
                    1.1612311441707954,
                    -0.18468056275121433,
                    0.9090774237963971,
                    0.7155295610600954,
                    2.4143993611926065,
                    0.9505246940290157,
                    1.2862829720564983,
                    0.38739916681965425,
                    -0.5559949574997097,
                    -0.2876571146729969,
                    0.04332105658260201,
                    -0.10684403020173029,
                    -0.08101579381912599,
                    -0.2588657600236738,
                    0.44471314686174085,
                    0.5262278446570668,
                    0.359504689528226,
                    0.9644749580926572,
                    0.14378697938205376,
                    0.7174810745195355,
                    -0.0572119658591329,
                    -0.34103249862246,
                    -1.6468537107942458,
                    -1.7536239389417574,
                    0.3107494541276593,
                    0.5835751556771911,
                    -1.3882153946847293,
                    -0.6617819945671465,
                    -0.902168515610066,
                    -0.037499797228010785,
                    -1.9859908587287407,
                    1.2773232639897405,
                    -1.823464500848794,
                    0.08856079093540273,
                    -0.1160386988766657,
                    0.9263865981369626,
                    1.0334844463462762,
                    -0.6485879509576661,
                    -0.5307861884940688,
                    0.26851076831149745,
                    0.4880342471227147,
                    -0.4132485713637769,
                    -0.175550779002986,
                    -0.19668134024524547,
                    -1.5742598158923207,
                    -0.43051290133408665,
                    0.3551540809716284,
                    -1.0468982923676715,
                    -1.2097455022569614,
                    -1.0830892264441045,
                    -0.4240727587348824,
                    -0.36101820172921684,
                    -0.7086916007987767,
                    1.20564716373758,
                    0.08388583507857213,
                    -0.23395520296966282,
                    0.5882395481234644,
                    1.3914716517764198,
                    -0.5526623411968891,
                    1.3476293420232048,
                    0.371648247401281,
                    -1.542663112097233,
                    0.041684369817531534,
                    -0.7562874622330439,
                    0.09139101578253948,
                    0.14198606005505496,
                    -0.7291167788372935,
                    -1.489501802966314,
                    1.0756534984369919,
                    0.10822597747743917,
                    -2.5681607273177205,
                    -0.11854957165422264,
                    -0.581799169673086,
                    0.02952004053330378,
                    0.5844068227097681,
                    -0.28003674200521805,
                    -1.1217434500123566,
                    0.22208325880794239,
                    -0.5521828335280894,
                    -0.6658728645678693,
                    0.08364797509809636,
                    0.06101846085596903,
                    0.20960137239211812,
                    -0.2511550690415435,
                    0.7228562083392375,
                    -0.7426073165522215,
                    0.06535789463341556,
                    -1.619965420257936,
                    2.3383350837584116,
                    -1.0380395675707528,
                    0.6961674198490935,
                    -0.4907707081292996,
                    0.08365687141110476,
                    -0.9805769203128746,
                    0.17087766541919566,
                    0.13527837766073814,
                    -0.04432882931625158,
                    0.09112912055088439
                  ],
                  "line": {
                    "color": "rgba(128, 128, 128, 1.0)",
                    "dash": "solid",
                    "shape": "linear",
                    "width": 1.3
                  },
                  "type": "scatter"
                },
                {
                  "opacity": 0.8,
                  "name": "B",
                  "yaxis": "y6",
                  "histnorm": "",
                  "xaxis": "x6",
                  "nbinsx": 10,
                  "histfunc": "count",
                  "marker": {
                    "color": "rgba(55, 128, 191, 1.0)",
                    "line": {
                      "color": "#4D5663",
                      "width": 1.3
                    }
                  },
                  "x": [
                    1.0016309158276646,
                    -1.1278855713690346,
                    0.19207394848142736,
                    -0.7442232312188846,
                    -0.3742764242164646,
                    -0.47282061256527685,
                    0.11511345730273821,
                    -0.3815946864419323,
                    0.5661663153310913,
                    0.19115973899268535,
                    1.2418448462453666,
                    -0.35835072871695345,
                    0.3167032594362774,
                    0.38432359307617747,
                    0.01132332790171385,
                    -1.076664389090397,
                    -0.030603696939953372,
                    -0.7770874095887204,
                    -1.563276537560789,
                    0.6116446805882689,
                    0.37325647099378134,
                    0.4795233338711024,
                    0.06758880431969937,
                    1.7494909081092405,
                    1.7003949052998308,
                    0.6877995493896727,
                    -1.1884553476341009,
                    -1.3969761827594405,
                    -0.060535085503600906,
                    0.01786420971760971,
                    0.7792913673413099,
                    -0.4748578274004933,
                    -1.3468996690651613,
                    -0.6418794944529772,
                    -0.09325718202909286,
                    -0.35495483692145224,
                    0.8214407620191938,
                    -0.16269000997772126,
                    0.15122057259594643,
                    -0.2775199283409806,
                    0.014948573313217004,
                    -0.7917027395596026,
                    -0.8314568248169648,
                    1.00319788469958,
                    -0.33783718400004126,
                    0.482752528125746,
                    -1.5591328575945262,
                    -0.461799723189396,
                    0.6232788182806367,
                    0.05928565973909051,
                    1.0044780211427415,
                    0.45697312549222147,
                    -1.6799120696389576,
                    -2.199526704123433,
                    -2.5754961060069945,
                    0.6953688285174284,
                    -0.29865186057138543,
                    -0.1923240104371137,
                    -1.853173120835297,
                    0.005325829895539349,
                    0.5926150187685867,
                    0.9120917700251885,
                    0.9607773064740242,
                    -0.40019151179669626,
                    -0.8229732516990017,
                    -0.39022846338665457,
                    0.6989226767757823,
                    -0.08659649448579616,
                    0.37707493645619083,
                    -1.1387478065480252,
                    -1.3275268809931826,
                    -0.6910617644680611,
                    -0.07867004321818699,
                    -1.0657472824545973,
                    -0.6924256053219089,
                    2.3909257521521696,
                    -1.0379677745820457,
                    -0.18461723650493886,
                    -0.4308585551359617,
                    0.24653998365093582,
                    -0.4641880980512829,
                    0.008065996986652533,
                    -0.8718769871859442,
                    -0.48444125332822063,
                    -0.08264764842014195,
                    0.1003981086187131,
                    0.5571639958209236,
                    0.20741869530613466,
                    -0.3054431848198178,
                    -1.0694746154308614,
                    -0.1921234292756839,
                    -0.06409085922362544,
                    1.6178691190507066,
                    -1.7000970387894139,
                    0.7330671644205731,
                    0.08580212494029932,
                    -1.5354138884235813,
                    0.09822973927892187,
                    0.06104733618356545,
                    2.165567992092975
                  ],
                  "type": "histogram",
                  "orientation": "v"
                },
                {
                  "name": "B",
                  "yaxis": "y7",
                  "text": "",
                  "y": [
                    1.0016309158276646,
                    -1.1278855713690346,
                    0.19207394848142736,
                    -0.7442232312188846,
                    -0.3742764242164646,
                    -0.47282061256527685,
                    0.11511345730273821,
                    -0.3815946864419323,
                    0.5661663153310913,
                    0.19115973899268535,
                    1.2418448462453666,
                    -0.35835072871695345,
                    0.3167032594362774,
                    0.38432359307617747,
                    0.01132332790171385,
                    -1.076664389090397,
                    -0.030603696939953372,
                    -0.7770874095887204,
                    -1.563276537560789,
                    0.6116446805882689,
                    0.37325647099378134,
                    0.4795233338711024,
                    0.06758880431969937,
                    1.7494909081092405,
                    1.7003949052998308,
                    0.6877995493896727,
                    -1.1884553476341009,
                    -1.3969761827594405,
                    -0.060535085503600906,
                    0.01786420971760971,
                    0.7792913673413099,
                    -0.4748578274004933,
                    -1.3468996690651613,
                    -0.6418794944529772,
                    -0.09325718202909286,
                    -0.35495483692145224,
                    0.8214407620191938,
                    -0.16269000997772126,
                    0.15122057259594643,
                    -0.2775199283409806,
                    0.014948573313217004,
                    -0.7917027395596026,
                    -0.8314568248169648,
                    1.00319788469958,
                    -0.33783718400004126,
                    0.482752528125746,
                    -1.5591328575945262,
                    -0.461799723189396,
                    0.6232788182806367,
                    0.05928565973909051,
                    1.0044780211427415,
                    0.45697312549222147,
                    -1.6799120696389576,
                    -2.199526704123433,
                    -2.5754961060069945,
                    0.6953688285174284,
                    -0.29865186057138543,
                    -0.1923240104371137,
                    -1.853173120835297,
                    0.005325829895539349,
                    0.5926150187685867,
                    0.9120917700251885,
                    0.9607773064740242,
                    -0.40019151179669626,
                    -0.8229732516990017,
                    -0.39022846338665457,
                    0.6989226767757823,
                    -0.08659649448579616,
                    0.37707493645619083,
                    -1.1387478065480252,
                    -1.3275268809931826,
                    -0.6910617644680611,
                    -0.07867004321818699,
                    -1.0657472824545973,
                    -0.6924256053219089,
                    2.3909257521521696,
                    -1.0379677745820457,
                    -0.18461723650493886,
                    -0.4308585551359617,
                    0.24653998365093582,
                    -0.4641880980512829,
                    0.008065996986652533,
                    -0.8718769871859442,
                    -0.48444125332822063,
                    -0.08264764842014195,
                    0.1003981086187131,
                    0.5571639958209236,
                    0.20741869530613466,
                    -0.3054431848198178,
                    -1.0694746154308614,
                    -0.1921234292756839,
                    -0.06409085922362544,
                    1.6178691190507066,
                    -1.7000970387894139,
                    0.7330671644205731,
                    0.08580212494029932,
                    -1.5354138884235813,
                    0.09822973927892187,
                    0.06104733618356545,
                    2.165567992092975
                  ],
                  "mode": "markers",
                  "xaxis": "x7",
                  "marker": {
                    "symbol": "circle",
                    "size": 2
                  },
                  "x": [
                    0.8073790894073575,
                    -1.6973745783272012,
                    0.40996595680297215,
                    1.2854685768379357,
                    0.6361501047598149,
                    0.13207783078145027,
                    -0.0020709143364442727,
                    0.4451459796608686,
                    0.8251129522487409,
                    0.006522721413051997,
                    0.5744547415306136,
                    -0.23390836845042268,
                    0.35092461072975084,
                    -1.8502004940584358,
                    -1.0898345711235922,
                    -0.6733032733746575,
                    -0.30508348400321167,
                    0.982080041824776,
                    0.39522895584606593,
                    -0.4626664306644632,
                    -0.4251881901075147,
                    0.08488056327679125,
                    -1.5709458521178379,
                    0.4354237254452735,
                    1.5206781309223758,
                    0.5385367855642316,
                    1.361857432131466,
                    1.243104183872984,
                    -0.030195583818084702,
                    -0.025455490295685803,
                    1.943802014130842,
                    0.6691248496463296,
                    -1.1260875280022447,
                    -0.12959143232017442,
                    1.1883168229750316,
                    0.5452414012110727,
                    1.3978891578398336,
                    3.880222355020218,
                    -0.026660127563018998,
                    0.5155711606491945,
                    -0.6987898508432406,
                    0.6854494348600327,
                    1.3866063406954972,
                    -1.0683739464629358,
                    1.5251299341728148,
                    -0.9755714647210725,
                    -1.166071211048564,
                    0.9934447154667686,
                    -0.00580782010240316,
                    -1.4134579244884833,
                    -0.3327859792240411,
                    0.7262893226528573,
                    1.4417195815865718,
                    0.8033789870440091,
                    0.04298416560588819,
                    -1.5232256206732064,
                    -2.0564434177013857,
                    -1.3700390416646673,
                    0.10784665230132051,
                    -0.45659657865967124,
                    1.0211162252720785,
                    -0.44406295667247747,
                    -0.4498387849327105,
                    -1.266759646209519,
                    -1.0557878475953553,
                    -1.4908227215844774,
                    0.7187802887621351,
                    0.5134492477902115,
                    1.232530069805916,
                    0.14658470541515586,
                    0.2845252974811109,
                    -0.03085846786930771,
                    0.26099220484364655,
                    -1.1620164489458757,
                    -0.48952010017451403,
                    0.2144407294609408,
                    -0.6563376779371715,
                    1.3488104267604788,
                    2.178668867660278,
                    -0.42308493083280807,
                    0.5625882679846936,
                    1.0060349799862895,
                    -1.6591320629590325,
                    0.5214272616516344,
                    0.3285369223086435,
                    -0.13366691432202746,
                    1.2685035737492887,
                    -0.9555401141886736,
                    -0.785189731858127,
                    1.163860152188834,
                    0.9441623706006071,
                    0.4295636322755884,
                    -1.2129064702146728,
                    1.261787760948596,
                    -0.8407234928184393,
                    -0.10489098021002438,
                    -1.0786867129279152,
                    0.36090066239956864,
                    0.2428837984572731,
                    -0.3455822271375725
                  ],
                  "line": {
                    "color": "rgba(128, 128, 128, 1.0)",
                    "dash": "solid",
                    "shape": "linear",
                    "width": 1.3
                  },
                  "type": "scatter"
                },
                {
                  "name": "B",
                  "yaxis": "y8",
                  "text": "",
                  "y": [
                    1.0016309158276646,
                    -1.1278855713690346,
                    0.19207394848142736,
                    -0.7442232312188846,
                    -0.3742764242164646,
                    -0.47282061256527685,
                    0.11511345730273821,
                    -0.3815946864419323,
                    0.5661663153310913,
                    0.19115973899268535,
                    1.2418448462453666,
                    -0.35835072871695345,
                    0.3167032594362774,
                    0.38432359307617747,
                    0.01132332790171385,
                    -1.076664389090397,
                    -0.030603696939953372,
                    -0.7770874095887204,
                    -1.563276537560789,
                    0.6116446805882689,
                    0.37325647099378134,
                    0.4795233338711024,
                    0.06758880431969937,
                    1.7494909081092405,
                    1.7003949052998308,
                    0.6877995493896727,
                    -1.1884553476341009,
                    -1.3969761827594405,
                    -0.060535085503600906,
                    0.01786420971760971,
                    0.7792913673413099,
                    -0.4748578274004933,
                    -1.3468996690651613,
                    -0.6418794944529772,
                    -0.09325718202909286,
                    -0.35495483692145224,
                    0.8214407620191938,
                    -0.16269000997772126,
                    0.15122057259594643,
                    -0.2775199283409806,
                    0.014948573313217004,
                    -0.7917027395596026,
                    -0.8314568248169648,
                    1.00319788469958,
                    -0.33783718400004126,
                    0.482752528125746,
                    -1.5591328575945262,
                    -0.461799723189396,
                    0.6232788182806367,
                    0.05928565973909051,
                    1.0044780211427415,
                    0.45697312549222147,
                    -1.6799120696389576,
                    -2.199526704123433,
                    -2.5754961060069945,
                    0.6953688285174284,
                    -0.29865186057138543,
                    -0.1923240104371137,
                    -1.853173120835297,
                    0.005325829895539349,
                    0.5926150187685867,
                    0.9120917700251885,
                    0.9607773064740242,
                    -0.40019151179669626,
                    -0.8229732516990017,
                    -0.39022846338665457,
                    0.6989226767757823,
                    -0.08659649448579616,
                    0.37707493645619083,
                    -1.1387478065480252,
                    -1.3275268809931826,
                    -0.6910617644680611,
                    -0.07867004321818699,
                    -1.0657472824545973,
                    -0.6924256053219089,
                    2.3909257521521696,
                    -1.0379677745820457,
                    -0.18461723650493886,
                    -0.4308585551359617,
                    0.24653998365093582,
                    -0.4641880980512829,
                    0.008065996986652533,
                    -0.8718769871859442,
                    -0.48444125332822063,
                    -0.08264764842014195,
                    0.1003981086187131,
                    0.5571639958209236,
                    0.20741869530613466,
                    -0.3054431848198178,
                    -1.0694746154308614,
                    -0.1921234292756839,
                    -0.06409085922362544,
                    1.6178691190507066,
                    -1.7000970387894139,
                    0.7330671644205731,
                    0.08580212494029932,
                    -1.5354138884235813,
                    0.09822973927892187,
                    0.06104733618356545,
                    2.165567992092975
                  ],
                  "mode": "markers",
                  "xaxis": "x8",
                  "marker": {
                    "symbol": "circle",
                    "size": 2
                  },
                  "x": [
                    0.49043496267422065,
                    -0.16020921175057304,
                    0.5600223844660832,
                    -1.6457740265135181,
                    0.4963057508329218,
                    0.7113347687697275,
                    0.6207571227104429,
                    -0.4802989504272413,
                    -0.9169943731946518,
                    -0.5399619902807821,
                    0.25173279018907857,
                    1.736098597955177,
                    -0.5216083631800642,
                    1.1601150050333258,
                    0.06354010557184407,
                    0.13568600125567723,
                    0.4720520030531927,
                    1.762677213689081,
                    -2.7172780203829925,
                    0.651345001424072,
                    0.8210729776516448,
                    -1.7796776837975599,
                    -1.4278461252975478,
                    0.2880833849979308,
                    0.11467586164572477,
                    -1.461987434305653,
                    2.1564421937560203,
                    -0.5827887727082924,
                    0.5248738036943954,
                    0.3954397310087084,
                    2.031970115169177,
                    -0.6582012871278141,
                    -0.4433818797837318,
                    0.3860631304779137,
                    1.544433750193125,
                    -0.09213284490442124,
                    0.7108078408272241,
                    -0.30176764260776073,
                    -0.36847269469679667,
                    -1.4188301927110463,
                    -0.3221256569142103,
                    1.0367364922416362,
                    -0.009353263347798041,
                    -0.05443211157828485,
                    -0.11893288118924607,
                    1.8796350349498958,
                    0.11014794610153036,
                    0.889472124374632,
                    0.27267097046214994,
                    -1.0981785042841463,
                    0.9997723744067619,
                    -0.4738638780925631,
                    -0.2557443956657543,
                    0.48975280862243953,
                    0.3639552791805878,
                    -0.7923190119911142,
                    0.06611370838280393,
                    -0.8900010948159683,
                    0.8297172777486412,
                    1.3854313901521784,
                    2.7293284352632896,
                    -0.7300632422534966,
                    -0.6164948006487315,
                    -0.9980511217793661,
                    0.6133896983942836,
                    -0.39706173921478877,
                    0.3298000089747955,
                    -0.2555913053069534,
                    0.7587563531931069,
                    0.6610231298035647,
                    -0.32700532650427927,
                    0.6858829048770517,
                    -0.24162613930041255,
                    -0.2871143325239671,
                    -0.9147726883519713,
                    0.3840404048386791,
                    0.8109418489749756,
                    -0.056249138180367836,
                    -1.1184405027580853,
                    -0.15825630783310934,
                    0.05673112277765671,
                    0.07147419010243035,
                    -0.3644628486419135,
                    0.17448285284941129,
                    -0.9934845464165444,
                    -0.2934489953134275,
                    -1.1511959051855722,
                    -0.5732909667244408,
                    -1.5136918861385404,
                    -0.8323430613111166,
                    0.7116469195796357,
                    1.5490775535806802,
                    0.889546463321769,
                    -0.5477416593484461,
                    0.41519085386565613,
                    0.5337401277761412,
                    0.3246920175018314,
                    0.3534489617977568,
                    -0.3135375640624861,
                    0.6586296615099057
                  ],
                  "line": {
                    "color": "rgba(128, 128, 128, 1.0)",
                    "dash": "solid",
                    "shape": "linear",
                    "width": 1.3
                  },
                  "type": "scatter"
                },
                {
                  "name": "C",
                  "yaxis": "y9",
                  "text": "",
                  "y": [
                    0.8073790894073575,
                    -1.6973745783272012,
                    0.40996595680297215,
                    1.2854685768379357,
                    0.6361501047598149,
                    0.13207783078145027,
                    -0.0020709143364442727,
                    0.4451459796608686,
                    0.8251129522487409,
                    0.006522721413051997,
                    0.5744547415306136,
                    -0.23390836845042268,
                    0.35092461072975084,
                    -1.8502004940584358,
                    -1.0898345711235922,
                    -0.6733032733746575,
                    -0.30508348400321167,
                    0.982080041824776,
                    0.39522895584606593,
                    -0.4626664306644632,
                    -0.4251881901075147,
                    0.08488056327679125,
                    -1.5709458521178379,
                    0.4354237254452735,
                    1.5206781309223758,
                    0.5385367855642316,
                    1.361857432131466,
                    1.243104183872984,
                    -0.030195583818084702,
                    -0.025455490295685803,
                    1.943802014130842,
                    0.6691248496463296,
                    -1.1260875280022447,
                    -0.12959143232017442,
                    1.1883168229750316,
                    0.5452414012110727,
                    1.3978891578398336,
                    3.880222355020218,
                    -0.026660127563018998,
                    0.5155711606491945,
                    -0.6987898508432406,
                    0.6854494348600327,
                    1.3866063406954972,
                    -1.0683739464629358,
                    1.5251299341728148,
                    -0.9755714647210725,
                    -1.166071211048564,
                    0.9934447154667686,
                    -0.00580782010240316,
                    -1.4134579244884833,
                    -0.3327859792240411,
                    0.7262893226528573,
                    1.4417195815865718,
                    0.8033789870440091,
                    0.04298416560588819,
                    -1.5232256206732064,
                    -2.0564434177013857,
                    -1.3700390416646673,
                    0.10784665230132051,
                    -0.45659657865967124,
                    1.0211162252720785,
                    -0.44406295667247747,
                    -0.4498387849327105,
                    -1.266759646209519,
                    -1.0557878475953553,
                    -1.4908227215844774,
                    0.7187802887621351,
                    0.5134492477902115,
                    1.232530069805916,
                    0.14658470541515586,
                    0.2845252974811109,
                    -0.03085846786930771,
                    0.26099220484364655,
                    -1.1620164489458757,
                    -0.48952010017451403,
                    0.2144407294609408,
                    -0.6563376779371715,
                    1.3488104267604788,
                    2.178668867660278,
                    -0.42308493083280807,
                    0.5625882679846936,
                    1.0060349799862895,
                    -1.6591320629590325,
                    0.5214272616516344,
                    0.3285369223086435,
                    -0.13366691432202746,
                    1.2685035737492887,
                    -0.9555401141886736,
                    -0.785189731858127,
                    1.163860152188834,
                    0.9441623706006071,
                    0.4295636322755884,
                    -1.2129064702146728,
                    1.261787760948596,
                    -0.8407234928184393,
                    -0.10489098021002438,
                    -1.0786867129279152,
                    0.36090066239956864,
                    0.2428837984572731,
                    -0.3455822271375725
                  ],
                  "mode": "markers",
                  "xaxis": "x9",
                  "marker": {
                    "symbol": "circle",
                    "size": 2
                  },
                  "x": [
                    0.4809701935493859,
                    0.4116729178913381,
                    1.1612311441707954,
                    -0.18468056275121433,
                    0.9090774237963971,
                    0.7155295610600954,
                    2.4143993611926065,
                    0.9505246940290157,
                    1.2862829720564983,
                    0.38739916681965425,
                    -0.5559949574997097,
                    -0.2876571146729969,
                    0.04332105658260201,
                    -0.10684403020173029,
                    -0.08101579381912599,
                    -0.2588657600236738,
                    0.44471314686174085,
                    0.5262278446570668,
                    0.359504689528226,
                    0.9644749580926572,
                    0.14378697938205376,
                    0.7174810745195355,
                    -0.0572119658591329,
                    -0.34103249862246,
                    -1.6468537107942458,
                    -1.7536239389417574,
                    0.3107494541276593,
                    0.5835751556771911,
                    -1.3882153946847293,
                    -0.6617819945671465,
                    -0.902168515610066,
                    -0.037499797228010785,
                    -1.9859908587287407,
                    1.2773232639897405,
                    -1.823464500848794,
                    0.08856079093540273,
                    -0.1160386988766657,
                    0.9263865981369626,
                    1.0334844463462762,
                    -0.6485879509576661,
                    -0.5307861884940688,
                    0.26851076831149745,
                    0.4880342471227147,
                    -0.4132485713637769,
                    -0.175550779002986,
                    -0.19668134024524547,
                    -1.5742598158923207,
                    -0.43051290133408665,
                    0.3551540809716284,
                    -1.0468982923676715,
                    -1.2097455022569614,
                    -1.0830892264441045,
                    -0.4240727587348824,
                    -0.36101820172921684,
                    -0.7086916007987767,
                    1.20564716373758,
                    0.08388583507857213,
                    -0.23395520296966282,
                    0.5882395481234644,
                    1.3914716517764198,
                    -0.5526623411968891,
                    1.3476293420232048,
                    0.371648247401281,
                    -1.542663112097233,
                    0.041684369817531534,
                    -0.7562874622330439,
                    0.09139101578253948,
                    0.14198606005505496,
                    -0.7291167788372935,
                    -1.489501802966314,
                    1.0756534984369919,
                    0.10822597747743917,
                    -2.5681607273177205,
                    -0.11854957165422264,
                    -0.581799169673086,
                    0.02952004053330378,
                    0.5844068227097681,
                    -0.28003674200521805,
                    -1.1217434500123566,
                    0.22208325880794239,
                    -0.5521828335280894,
                    -0.6658728645678693,
                    0.08364797509809636,
                    0.06101846085596903,
                    0.20960137239211812,
                    -0.2511550690415435,
                    0.7228562083392375,
                    -0.7426073165522215,
                    0.06535789463341556,
                    -1.619965420257936,
                    2.3383350837584116,
                    -1.0380395675707528,
                    0.6961674198490935,
                    -0.4907707081292996,
                    0.08365687141110476,
                    -0.9805769203128746,
                    0.17087766541919566,
                    0.13527837766073814,
                    -0.04432882931625158,
                    0.09112912055088439
                  ],
                  "line": {
                    "color": "rgba(128, 128, 128, 1.0)",
                    "dash": "solid",
                    "shape": "linear",
                    "width": 1.3
                  },
                  "type": "scatter"
                },
                {
                  "name": "C",
                  "yaxis": "y10",
                  "text": "",
                  "y": [
                    0.8073790894073575,
                    -1.6973745783272012,
                    0.40996595680297215,
                    1.2854685768379357,
                    0.6361501047598149,
                    0.13207783078145027,
                    -0.0020709143364442727,
                    0.4451459796608686,
                    0.8251129522487409,
                    0.006522721413051997,
                    0.5744547415306136,
                    -0.23390836845042268,
                    0.35092461072975084,
                    -1.8502004940584358,
                    -1.0898345711235922,
                    -0.6733032733746575,
                    -0.30508348400321167,
                    0.982080041824776,
                    0.39522895584606593,
                    -0.4626664306644632,
                    -0.4251881901075147,
                    0.08488056327679125,
                    -1.5709458521178379,
                    0.4354237254452735,
                    1.5206781309223758,
                    0.5385367855642316,
                    1.361857432131466,
                    1.243104183872984,
                    -0.030195583818084702,
                    -0.025455490295685803,
                    1.943802014130842,
                    0.6691248496463296,
                    -1.1260875280022447,
                    -0.12959143232017442,
                    1.1883168229750316,
                    0.5452414012110727,
                    1.3978891578398336,
                    3.880222355020218,
                    -0.026660127563018998,
                    0.5155711606491945,
                    -0.6987898508432406,
                    0.6854494348600327,
                    1.3866063406954972,
                    -1.0683739464629358,
                    1.5251299341728148,
                    -0.9755714647210725,
                    -1.166071211048564,
                    0.9934447154667686,
                    -0.00580782010240316,
                    -1.4134579244884833,
                    -0.3327859792240411,
                    0.7262893226528573,
                    1.4417195815865718,
                    0.8033789870440091,
                    0.04298416560588819,
                    -1.5232256206732064,
                    -2.0564434177013857,
                    -1.3700390416646673,
                    0.10784665230132051,
                    -0.45659657865967124,
                    1.0211162252720785,
                    -0.44406295667247747,
                    -0.4498387849327105,
                    -1.266759646209519,
                    -1.0557878475953553,
                    -1.4908227215844774,
                    0.7187802887621351,
                    0.5134492477902115,
                    1.232530069805916,
                    0.14658470541515586,
                    0.2845252974811109,
                    -0.03085846786930771,
                    0.26099220484364655,
                    -1.1620164489458757,
                    -0.48952010017451403,
                    0.2144407294609408,
                    -0.6563376779371715,
                    1.3488104267604788,
                    2.178668867660278,
                    -0.42308493083280807,
                    0.5625882679846936,
                    1.0060349799862895,
                    -1.6591320629590325,
                    0.5214272616516344,
                    0.3285369223086435,
                    -0.13366691432202746,
                    1.2685035737492887,
                    -0.9555401141886736,
                    -0.785189731858127,
                    1.163860152188834,
                    0.9441623706006071,
                    0.4295636322755884,
                    -1.2129064702146728,
                    1.261787760948596,
                    -0.8407234928184393,
                    -0.10489098021002438,
                    -1.0786867129279152,
                    0.36090066239956864,
                    0.2428837984572731,
                    -0.3455822271375725
                  ],
                  "mode": "markers",
                  "xaxis": "x10",
                  "marker": {
                    "symbol": "circle",
                    "size": 2
                  },
                  "x": [
                    1.0016309158276646,
                    -1.1278855713690346,
                    0.19207394848142736,
                    -0.7442232312188846,
                    -0.3742764242164646,
                    -0.47282061256527685,
                    0.11511345730273821,
                    -0.3815946864419323,
                    0.5661663153310913,
                    0.19115973899268535,
                    1.2418448462453666,
                    -0.35835072871695345,
                    0.3167032594362774,
                    0.38432359307617747,
                    0.01132332790171385,
                    -1.076664389090397,
                    -0.030603696939953372,
                    -0.7770874095887204,
                    -1.563276537560789,
                    0.6116446805882689,
                    0.37325647099378134,
                    0.4795233338711024,
                    0.06758880431969937,
                    1.7494909081092405,
                    1.7003949052998308,
                    0.6877995493896727,
                    -1.1884553476341009,
                    -1.3969761827594405,
                    -0.060535085503600906,
                    0.01786420971760971,
                    0.7792913673413099,
                    -0.4748578274004933,
                    -1.3468996690651613,
                    -0.6418794944529772,
                    -0.09325718202909286,
                    -0.35495483692145224,
                    0.8214407620191938,
                    -0.16269000997772126,
                    0.15122057259594643,
                    -0.2775199283409806,
                    0.014948573313217004,
                    -0.7917027395596026,
                    -0.8314568248169648,
                    1.00319788469958,
                    -0.33783718400004126,
                    0.482752528125746,
                    -1.5591328575945262,
                    -0.461799723189396,
                    0.6232788182806367,
                    0.05928565973909051,
                    1.0044780211427415,
                    0.45697312549222147,
                    -1.6799120696389576,
                    -2.199526704123433,
                    -2.5754961060069945,
                    0.6953688285174284,
                    -0.29865186057138543,
                    -0.1923240104371137,
                    -1.853173120835297,
                    0.005325829895539349,
                    0.5926150187685867,
                    0.9120917700251885,
                    0.9607773064740242,
                    -0.40019151179669626,
                    -0.8229732516990017,
                    -0.39022846338665457,
                    0.6989226767757823,
                    -0.08659649448579616,
                    0.37707493645619083,
                    -1.1387478065480252,
                    -1.3275268809931826,
                    -0.6910617644680611,
                    -0.07867004321818699,
                    -1.0657472824545973,
                    -0.6924256053219089,
                    2.3909257521521696,
                    -1.0379677745820457,
                    -0.18461723650493886,
                    -0.4308585551359617,
                    0.24653998365093582,
                    -0.4641880980512829,
                    0.008065996986652533,
                    -0.8718769871859442,
                    -0.48444125332822063,
                    -0.08264764842014195,
                    0.1003981086187131,
                    0.5571639958209236,
                    0.20741869530613466,
                    -0.3054431848198178,
                    -1.0694746154308614,
                    -0.1921234292756839,
                    -0.06409085922362544,
                    1.6178691190507066,
                    -1.7000970387894139,
                    0.7330671644205731,
                    0.08580212494029932,
                    -1.5354138884235813,
                    0.09822973927892187,
                    0.06104733618356545,
                    2.165567992092975
                  ],
                  "line": {
                    "color": "rgba(128, 128, 128, 1.0)",
                    "dash": "solid",
                    "shape": "linear",
                    "width": 1.3
                  },
                  "type": "scatter"
                },
                {
                  "opacity": 0.8,
                  "name": "C",
                  "yaxis": "y11",
                  "histnorm": "",
                  "xaxis": "x11",
                  "nbinsx": 10,
                  "histfunc": "count",
                  "marker": {
                    "color": "rgba(50, 171, 96, 1.0)",
                    "line": {
                      "color": "#4D5663",
                      "width": 1.3
                    }
                  },
                  "x": [
                    0.8073790894073575,
                    -1.6973745783272012,
                    0.40996595680297215,
                    1.2854685768379357,
                    0.6361501047598149,
                    0.13207783078145027,
                    -0.0020709143364442727,
                    0.4451459796608686,
                    0.8251129522487409,
                    0.006522721413051997,
                    0.5744547415306136,
                    -0.23390836845042268,
                    0.35092461072975084,
                    -1.8502004940584358,
                    -1.0898345711235922,
                    -0.6733032733746575,
                    -0.30508348400321167,
                    0.982080041824776,
                    0.39522895584606593,
                    -0.4626664306644632,
                    -0.4251881901075147,
                    0.08488056327679125,
                    -1.5709458521178379,
                    0.4354237254452735,
                    1.5206781309223758,
                    0.5385367855642316,
                    1.361857432131466,
                    1.243104183872984,
                    -0.030195583818084702,
                    -0.025455490295685803,
                    1.943802014130842,
                    0.6691248496463296,
                    -1.1260875280022447,
                    -0.12959143232017442,
                    1.1883168229750316,
                    0.5452414012110727,
                    1.3978891578398336,
                    3.880222355020218,
                    -0.026660127563018998,
                    0.5155711606491945,
                    -0.6987898508432406,
                    0.6854494348600327,
                    1.3866063406954972,
                    -1.0683739464629358,
                    1.5251299341728148,
                    -0.9755714647210725,
                    -1.166071211048564,
                    0.9934447154667686,
                    -0.00580782010240316,
                    -1.4134579244884833,
                    -0.3327859792240411,
                    0.7262893226528573,
                    1.4417195815865718,
                    0.8033789870440091,
                    0.04298416560588819,
                    -1.5232256206732064,
                    -2.0564434177013857,
                    -1.3700390416646673,
                    0.10784665230132051,
                    -0.45659657865967124,
                    1.0211162252720785,
                    -0.44406295667247747,
                    -0.4498387849327105,
                    -1.266759646209519,
                    -1.0557878475953553,
                    -1.4908227215844774,
                    0.7187802887621351,
                    0.5134492477902115,
                    1.232530069805916,
                    0.14658470541515586,
                    0.2845252974811109,
                    -0.03085846786930771,
                    0.26099220484364655,
                    -1.1620164489458757,
                    -0.48952010017451403,
                    0.2144407294609408,
                    -0.6563376779371715,
                    1.3488104267604788,
                    2.178668867660278,
                    -0.42308493083280807,
                    0.5625882679846936,
                    1.0060349799862895,
                    -1.6591320629590325,
                    0.5214272616516344,
                    0.3285369223086435,
                    -0.13366691432202746,
                    1.2685035737492887,
                    -0.9555401141886736,
                    -0.785189731858127,
                    1.163860152188834,
                    0.9441623706006071,
                    0.4295636322755884,
                    -1.2129064702146728,
                    1.261787760948596,
                    -0.8407234928184393,
                    -0.10489098021002438,
                    -1.0786867129279152,
                    0.36090066239956864,
                    0.2428837984572731,
                    -0.3455822271375725
                  ],
                  "type": "histogram",
                  "orientation": "v"
                },
                {
                  "name": "C",
                  "yaxis": "y12",
                  "text": "",
                  "y": [
                    0.8073790894073575,
                    -1.6973745783272012,
                    0.40996595680297215,
                    1.2854685768379357,
                    0.6361501047598149,
                    0.13207783078145027,
                    -0.0020709143364442727,
                    0.4451459796608686,
                    0.8251129522487409,
                    0.006522721413051997,
                    0.5744547415306136,
                    -0.23390836845042268,
                    0.35092461072975084,
                    -1.8502004940584358,
                    -1.0898345711235922,
                    -0.6733032733746575,
                    -0.30508348400321167,
                    0.982080041824776,
                    0.39522895584606593,
                    -0.4626664306644632,
                    -0.4251881901075147,
                    0.08488056327679125,
                    -1.5709458521178379,
                    0.4354237254452735,
                    1.5206781309223758,
                    0.5385367855642316,
                    1.361857432131466,
                    1.243104183872984,
                    -0.030195583818084702,
                    -0.025455490295685803,
                    1.943802014130842,
                    0.6691248496463296,
                    -1.1260875280022447,
                    -0.12959143232017442,
                    1.1883168229750316,
                    0.5452414012110727,
                    1.3978891578398336,
                    3.880222355020218,
                    -0.026660127563018998,
                    0.5155711606491945,
                    -0.6987898508432406,
                    0.6854494348600327,
                    1.3866063406954972,
                    -1.0683739464629358,
                    1.5251299341728148,
                    -0.9755714647210725,
                    -1.166071211048564,
                    0.9934447154667686,
                    -0.00580782010240316,
                    -1.4134579244884833,
                    -0.3327859792240411,
                    0.7262893226528573,
                    1.4417195815865718,
                    0.8033789870440091,
                    0.04298416560588819,
                    -1.5232256206732064,
                    -2.0564434177013857,
                    -1.3700390416646673,
                    0.10784665230132051,
                    -0.45659657865967124,
                    1.0211162252720785,
                    -0.44406295667247747,
                    -0.4498387849327105,
                    -1.266759646209519,
                    -1.0557878475953553,
                    -1.4908227215844774,
                    0.7187802887621351,
                    0.5134492477902115,
                    1.232530069805916,
                    0.14658470541515586,
                    0.2845252974811109,
                    -0.03085846786930771,
                    0.26099220484364655,
                    -1.1620164489458757,
                    -0.48952010017451403,
                    0.2144407294609408,
                    -0.6563376779371715,
                    1.3488104267604788,
                    2.178668867660278,
                    -0.42308493083280807,
                    0.5625882679846936,
                    1.0060349799862895,
                    -1.6591320629590325,
                    0.5214272616516344,
                    0.3285369223086435,
                    -0.13366691432202746,
                    1.2685035737492887,
                    -0.9555401141886736,
                    -0.785189731858127,
                    1.163860152188834,
                    0.9441623706006071,
                    0.4295636322755884,
                    -1.2129064702146728,
                    1.261787760948596,
                    -0.8407234928184393,
                    -0.10489098021002438,
                    -1.0786867129279152,
                    0.36090066239956864,
                    0.2428837984572731,
                    -0.3455822271375725
                  ],
                  "mode": "markers",
                  "xaxis": "x12",
                  "marker": {
                    "symbol": "circle",
                    "size": 2
                  },
                  "x": [
                    0.49043496267422065,
                    -0.16020921175057304,
                    0.5600223844660832,
                    -1.6457740265135181,
                    0.4963057508329218,
                    0.7113347687697275,
                    0.6207571227104429,
                    -0.4802989504272413,
                    -0.9169943731946518,
                    -0.5399619902807821,
                    0.25173279018907857,
                    1.736098597955177,
                    -0.5216083631800642,
                    1.1601150050333258,
                    0.06354010557184407,
                    0.13568600125567723,
                    0.4720520030531927,
                    1.762677213689081,
                    -2.7172780203829925,
                    0.651345001424072,
                    0.8210729776516448,
                    -1.7796776837975599,
                    -1.4278461252975478,
                    0.2880833849979308,
                    0.11467586164572477,
                    -1.461987434305653,
                    2.1564421937560203,
                    -0.5827887727082924,
                    0.5248738036943954,
                    0.3954397310087084,
                    2.031970115169177,
                    -0.6582012871278141,
                    -0.4433818797837318,
                    0.3860631304779137,
                    1.544433750193125,
                    -0.09213284490442124,
                    0.7108078408272241,
                    -0.30176764260776073,
                    -0.36847269469679667,
                    -1.4188301927110463,
                    -0.3221256569142103,
                    1.0367364922416362,
                    -0.009353263347798041,
                    -0.05443211157828485,
                    -0.11893288118924607,
                    1.8796350349498958,
                    0.11014794610153036,
                    0.889472124374632,
                    0.27267097046214994,
                    -1.0981785042841463,
                    0.9997723744067619,
                    -0.4738638780925631,
                    -0.2557443956657543,
                    0.48975280862243953,
                    0.3639552791805878,
                    -0.7923190119911142,
                    0.06611370838280393,
                    -0.8900010948159683,
                    0.8297172777486412,
                    1.3854313901521784,
                    2.7293284352632896,
                    -0.7300632422534966,
                    -0.6164948006487315,
                    -0.9980511217793661,
                    0.6133896983942836,
                    -0.39706173921478877,
                    0.3298000089747955,
                    -0.2555913053069534,
                    0.7587563531931069,
                    0.6610231298035647,
                    -0.32700532650427927,
                    0.6858829048770517,
                    -0.24162613930041255,
                    -0.2871143325239671,
                    -0.9147726883519713,
                    0.3840404048386791,
                    0.8109418489749756,
                    -0.056249138180367836,
                    -1.1184405027580853,
                    -0.15825630783310934,
                    0.05673112277765671,
                    0.07147419010243035,
                    -0.3644628486419135,
                    0.17448285284941129,
                    -0.9934845464165444,
                    -0.2934489953134275,
                    -1.1511959051855722,
                    -0.5732909667244408,
                    -1.5136918861385404,
                    -0.8323430613111166,
                    0.7116469195796357,
                    1.5490775535806802,
                    0.889546463321769,
                    -0.5477416593484461,
                    0.41519085386565613,
                    0.5337401277761412,
                    0.3246920175018314,
                    0.3534489617977568,
                    -0.3135375640624861,
                    0.6586296615099057
                  ],
                  "line": {
                    "color": "rgba(128, 128, 128, 1.0)",
                    "dash": "solid",
                    "shape": "linear",
                    "width": 1.3
                  },
                  "type": "scatter"
                },
                {
                  "name": "D",
                  "yaxis": "y13",
                  "text": "",
                  "y": [
                    0.49043496267422065,
                    -0.16020921175057304,
                    0.5600223844660832,
                    -1.6457740265135181,
                    0.4963057508329218,
                    0.7113347687697275,
                    0.6207571227104429,
                    -0.4802989504272413,
                    -0.9169943731946518,
                    -0.5399619902807821,
                    0.25173279018907857,
                    1.736098597955177,
                    -0.5216083631800642,
                    1.1601150050333258,
                    0.06354010557184407,
                    0.13568600125567723,
                    0.4720520030531927,
                    1.762677213689081,
                    -2.7172780203829925,
                    0.651345001424072,
                    0.8210729776516448,
                    -1.7796776837975599,
                    -1.4278461252975478,
                    0.2880833849979308,
                    0.11467586164572477,
                    -1.461987434305653,
                    2.1564421937560203,
                    -0.5827887727082924,
                    0.5248738036943954,
                    0.3954397310087084,
                    2.031970115169177,
                    -0.6582012871278141,
                    -0.4433818797837318,
                    0.3860631304779137,
                    1.544433750193125,
                    -0.09213284490442124,
                    0.7108078408272241,
                    -0.30176764260776073,
                    -0.36847269469679667,
                    -1.4188301927110463,
                    -0.3221256569142103,
                    1.0367364922416362,
                    -0.009353263347798041,
                    -0.05443211157828485,
                    -0.11893288118924607,
                    1.8796350349498958,
                    0.11014794610153036,
                    0.889472124374632,
                    0.27267097046214994,
                    -1.0981785042841463,
                    0.9997723744067619,
                    -0.4738638780925631,
                    -0.2557443956657543,
                    0.48975280862243953,
                    0.3639552791805878,
                    -0.7923190119911142,
                    0.06611370838280393,
                    -0.8900010948159683,
                    0.8297172777486412,
                    1.3854313901521784,
                    2.7293284352632896,
                    -0.7300632422534966,
                    -0.6164948006487315,
                    -0.9980511217793661,
                    0.6133896983942836,
                    -0.39706173921478877,
                    0.3298000089747955,
                    -0.2555913053069534,
                    0.7587563531931069,
                    0.6610231298035647,
                    -0.32700532650427927,
                    0.6858829048770517,
                    -0.24162613930041255,
                    -0.2871143325239671,
                    -0.9147726883519713,
                    0.3840404048386791,
                    0.8109418489749756,
                    -0.056249138180367836,
                    -1.1184405027580853,
                    -0.15825630783310934,
                    0.05673112277765671,
                    0.07147419010243035,
                    -0.3644628486419135,
                    0.17448285284941129,
                    -0.9934845464165444,
                    -0.2934489953134275,
                    -1.1511959051855722,
                    -0.5732909667244408,
                    -1.5136918861385404,
                    -0.8323430613111166,
                    0.7116469195796357,
                    1.5490775535806802,
                    0.889546463321769,
                    -0.5477416593484461,
                    0.41519085386565613,
                    0.5337401277761412,
                    0.3246920175018314,
                    0.3534489617977568,
                    -0.3135375640624861,
                    0.6586296615099057
                  ],
                  "mode": "markers",
                  "xaxis": "x13",
                  "marker": {
                    "symbol": "circle",
                    "size": 2
                  },
                  "x": [
                    0.4809701935493859,
                    0.4116729178913381,
                    1.1612311441707954,
                    -0.18468056275121433,
                    0.9090774237963971,
                    0.7155295610600954,
                    2.4143993611926065,
                    0.9505246940290157,
                    1.2862829720564983,
                    0.38739916681965425,
                    -0.5559949574997097,
                    -0.2876571146729969,
                    0.04332105658260201,
                    -0.10684403020173029,
                    -0.08101579381912599,
                    -0.2588657600236738,
                    0.44471314686174085,
                    0.5262278446570668,
                    0.359504689528226,
                    0.9644749580926572,
                    0.14378697938205376,
                    0.7174810745195355,
                    -0.0572119658591329,
                    -0.34103249862246,
                    -1.6468537107942458,
                    -1.7536239389417574,
                    0.3107494541276593,
                    0.5835751556771911,
                    -1.3882153946847293,
                    -0.6617819945671465,
                    -0.902168515610066,
                    -0.037499797228010785,
                    -1.9859908587287407,
                    1.2773232639897405,
                    -1.823464500848794,
                    0.08856079093540273,
                    -0.1160386988766657,
                    0.9263865981369626,
                    1.0334844463462762,
                    -0.6485879509576661,
                    -0.5307861884940688,
                    0.26851076831149745,
                    0.4880342471227147,
                    -0.4132485713637769,
                    -0.175550779002986,
                    -0.19668134024524547,
                    -1.5742598158923207,
                    -0.43051290133408665,
                    0.3551540809716284,
                    -1.0468982923676715,
                    -1.2097455022569614,
                    -1.0830892264441045,
                    -0.4240727587348824,
                    -0.36101820172921684,
                    -0.7086916007987767,
                    1.20564716373758,
                    0.08388583507857213,
                    -0.23395520296966282,
                    0.5882395481234644,
                    1.3914716517764198,
                    -0.5526623411968891,
                    1.3476293420232048,
                    0.371648247401281,
                    -1.542663112097233,
                    0.041684369817531534,
                    -0.7562874622330439,
                    0.09139101578253948,
                    0.14198606005505496,
                    -0.7291167788372935,
                    -1.489501802966314,
                    1.0756534984369919,
                    0.10822597747743917,
                    -2.5681607273177205,
                    -0.11854957165422264,
                    -0.581799169673086,
                    0.02952004053330378,
                    0.5844068227097681,
                    -0.28003674200521805,
                    -1.1217434500123566,
                    0.22208325880794239,
                    -0.5521828335280894,
                    -0.6658728645678693,
                    0.08364797509809636,
                    0.06101846085596903,
                    0.20960137239211812,
                    -0.2511550690415435,
                    0.7228562083392375,
                    -0.7426073165522215,
                    0.06535789463341556,
                    -1.619965420257936,
                    2.3383350837584116,
                    -1.0380395675707528,
                    0.6961674198490935,
                    -0.4907707081292996,
                    0.08365687141110476,
                    -0.9805769203128746,
                    0.17087766541919566,
                    0.13527837766073814,
                    -0.04432882931625158,
                    0.09112912055088439
                  ],
                  "line": {
                    "color": "rgba(128, 128, 128, 1.0)",
                    "dash": "solid",
                    "shape": "linear",
                    "width": 1.3
                  },
                  "type": "scatter"
                },
                {
                  "name": "D",
                  "yaxis": "y14",
                  "text": "",
                  "y": [
                    0.49043496267422065,
                    -0.16020921175057304,
                    0.5600223844660832,
                    -1.6457740265135181,
                    0.4963057508329218,
                    0.7113347687697275,
                    0.6207571227104429,
                    -0.4802989504272413,
                    -0.9169943731946518,
                    -0.5399619902807821,
                    0.25173279018907857,
                    1.736098597955177,
                    -0.5216083631800642,
                    1.1601150050333258,
                    0.06354010557184407,
                    0.13568600125567723,
                    0.4720520030531927,
                    1.762677213689081,
                    -2.7172780203829925,
                    0.651345001424072,
                    0.8210729776516448,
                    -1.7796776837975599,
                    -1.4278461252975478,
                    0.2880833849979308,
                    0.11467586164572477,
                    -1.461987434305653,
                    2.1564421937560203,
                    -0.5827887727082924,
                    0.5248738036943954,
                    0.3954397310087084,
                    2.031970115169177,
                    -0.6582012871278141,
                    -0.4433818797837318,
                    0.3860631304779137,
                    1.544433750193125,
                    -0.09213284490442124,
                    0.7108078408272241,
                    -0.30176764260776073,
                    -0.36847269469679667,
                    -1.4188301927110463,
                    -0.3221256569142103,
                    1.0367364922416362,
                    -0.009353263347798041,
                    -0.05443211157828485,
                    -0.11893288118924607,
                    1.8796350349498958,
                    0.11014794610153036,
                    0.889472124374632,
                    0.27267097046214994,
                    -1.0981785042841463,
                    0.9997723744067619,
                    -0.4738638780925631,
                    -0.2557443956657543,
                    0.48975280862243953,
                    0.3639552791805878,
                    -0.7923190119911142,
                    0.06611370838280393,
                    -0.8900010948159683,
                    0.8297172777486412,
                    1.3854313901521784,
                    2.7293284352632896,
                    -0.7300632422534966,
                    -0.6164948006487315,
                    -0.9980511217793661,
                    0.6133896983942836,
                    -0.39706173921478877,
                    0.3298000089747955,
                    -0.2555913053069534,
                    0.7587563531931069,
                    0.6610231298035647,
                    -0.32700532650427927,
                    0.6858829048770517,
                    -0.24162613930041255,
                    -0.2871143325239671,
                    -0.9147726883519713,
                    0.3840404048386791,
                    0.8109418489749756,
                    -0.056249138180367836,
                    -1.1184405027580853,
                    -0.15825630783310934,
                    0.05673112277765671,
                    0.07147419010243035,
                    -0.3644628486419135,
                    0.17448285284941129,
                    -0.9934845464165444,
                    -0.2934489953134275,
                    -1.1511959051855722,
                    -0.5732909667244408,
                    -1.5136918861385404,
                    -0.8323430613111166,
                    0.7116469195796357,
                    1.5490775535806802,
                    0.889546463321769,
                    -0.5477416593484461,
                    0.41519085386565613,
                    0.5337401277761412,
                    0.3246920175018314,
                    0.3534489617977568,
                    -0.3135375640624861,
                    0.6586296615099057
                  ],
                  "mode": "markers",
                  "xaxis": "x14",
                  "marker": {
                    "symbol": "circle",
                    "size": 2
                  },
                  "x": [
                    1.0016309158276646,
                    -1.1278855713690346,
                    0.19207394848142736,
                    -0.7442232312188846,
                    -0.3742764242164646,
                    -0.47282061256527685,
                    0.11511345730273821,
                    -0.3815946864419323,
                    0.5661663153310913,
                    0.19115973899268535,
                    1.2418448462453666,
                    -0.35835072871695345,
                    0.3167032594362774,
                    0.38432359307617747,
                    0.01132332790171385,
                    -1.076664389090397,
                    -0.030603696939953372,
                    -0.7770874095887204,
                    -1.563276537560789,
                    0.6116446805882689,
                    0.37325647099378134,
                    0.4795233338711024,
                    0.06758880431969937,
                    1.7494909081092405,
                    1.7003949052998308,
                    0.6877995493896727,
                    -1.1884553476341009,
                    -1.3969761827594405,
                    -0.060535085503600906,
                    0.01786420971760971,
                    0.7792913673413099,
                    -0.4748578274004933,
                    -1.3468996690651613,
                    -0.6418794944529772,
                    -0.09325718202909286,
                    -0.35495483692145224,
                    0.8214407620191938,
                    -0.16269000997772126,
                    0.15122057259594643,
                    -0.2775199283409806,
                    0.014948573313217004,
                    -0.7917027395596026,
                    -0.8314568248169648,
                    1.00319788469958,
                    -0.33783718400004126,
                    0.482752528125746,
                    -1.5591328575945262,
                    -0.461799723189396,
                    0.6232788182806367,
                    0.05928565973909051,
                    1.0044780211427415,
                    0.45697312549222147,
                    -1.6799120696389576,
                    -2.199526704123433,
                    -2.5754961060069945,
                    0.6953688285174284,
                    -0.29865186057138543,
                    -0.1923240104371137,
                    -1.853173120835297,
                    0.005325829895539349,
                    0.5926150187685867,
                    0.9120917700251885,
                    0.9607773064740242,
                    -0.40019151179669626,
                    -0.8229732516990017,
                    -0.39022846338665457,
                    0.6989226767757823,
                    -0.08659649448579616,
                    0.37707493645619083,
                    -1.1387478065480252,
                    -1.3275268809931826,
                    -0.6910617644680611,
                    -0.07867004321818699,
                    -1.0657472824545973,
                    -0.6924256053219089,
                    2.3909257521521696,
                    -1.0379677745820457,
                    -0.18461723650493886,
                    -0.4308585551359617,
                    0.24653998365093582,
                    -0.4641880980512829,
                    0.008065996986652533,
                    -0.8718769871859442,
                    -0.48444125332822063,
                    -0.08264764842014195,
                    0.1003981086187131,
                    0.5571639958209236,
                    0.20741869530613466,
                    -0.3054431848198178,
                    -1.0694746154308614,
                    -0.1921234292756839,
                    -0.06409085922362544,
                    1.6178691190507066,
                    -1.7000970387894139,
                    0.7330671644205731,
                    0.08580212494029932,
                    -1.5354138884235813,
                    0.09822973927892187,
                    0.06104733618356545,
                    2.165567992092975
                  ],
                  "line": {
                    "color": "rgba(128, 128, 128, 1.0)",
                    "dash": "solid",
                    "shape": "linear",
                    "width": 1.3
                  },
                  "type": "scatter"
                },
                {
                  "name": "D",
                  "yaxis": "y15",
                  "text": "",
                  "y": [
                    0.49043496267422065,
                    -0.16020921175057304,
                    0.5600223844660832,
                    -1.6457740265135181,
                    0.4963057508329218,
                    0.7113347687697275,
                    0.6207571227104429,
                    -0.4802989504272413,
                    -0.9169943731946518,
                    -0.5399619902807821,
                    0.25173279018907857,
                    1.736098597955177,
                    -0.5216083631800642,
                    1.1601150050333258,
                    0.06354010557184407,
                    0.13568600125567723,
                    0.4720520030531927,
                    1.762677213689081,
                    -2.7172780203829925,
                    0.651345001424072,
                    0.8210729776516448,
                    -1.7796776837975599,
                    -1.4278461252975478,
                    0.2880833849979308,
                    0.11467586164572477,
                    -1.461987434305653,
                    2.1564421937560203,
                    -0.5827887727082924,
                    0.5248738036943954,
                    0.3954397310087084,
                    2.031970115169177,
                    -0.6582012871278141,
                    -0.4433818797837318,
                    0.3860631304779137,
                    1.544433750193125,
                    -0.09213284490442124,
                    0.7108078408272241,
                    -0.30176764260776073,
                    -0.36847269469679667,
                    -1.4188301927110463,
                    -0.3221256569142103,
                    1.0367364922416362,
                    -0.009353263347798041,
                    -0.05443211157828485,
                    -0.11893288118924607,
                    1.8796350349498958,
                    0.11014794610153036,
                    0.889472124374632,
                    0.27267097046214994,
                    -1.0981785042841463,
                    0.9997723744067619,
                    -0.4738638780925631,
                    -0.2557443956657543,
                    0.48975280862243953,
                    0.3639552791805878,
                    -0.7923190119911142,
                    0.06611370838280393,
                    -0.8900010948159683,
                    0.8297172777486412,
                    1.3854313901521784,
                    2.7293284352632896,
                    -0.7300632422534966,
                    -0.6164948006487315,
                    -0.9980511217793661,
                    0.6133896983942836,
                    -0.39706173921478877,
                    0.3298000089747955,
                    -0.2555913053069534,
                    0.7587563531931069,
                    0.6610231298035647,
                    -0.32700532650427927,
                    0.6858829048770517,
                    -0.24162613930041255,
                    -0.2871143325239671,
                    -0.9147726883519713,
                    0.3840404048386791,
                    0.8109418489749756,
                    -0.056249138180367836,
                    -1.1184405027580853,
                    -0.15825630783310934,
                    0.05673112277765671,
                    0.07147419010243035,
                    -0.3644628486419135,
                    0.17448285284941129,
                    -0.9934845464165444,
                    -0.2934489953134275,
                    -1.1511959051855722,
                    -0.5732909667244408,
                    -1.5136918861385404,
                    -0.8323430613111166,
                    0.7116469195796357,
                    1.5490775535806802,
                    0.889546463321769,
                    -0.5477416593484461,
                    0.41519085386565613,
                    0.5337401277761412,
                    0.3246920175018314,
                    0.3534489617977568,
                    -0.3135375640624861,
                    0.6586296615099057
                  ],
                  "mode": "markers",
                  "xaxis": "x15",
                  "marker": {
                    "symbol": "circle",
                    "size": 2
                  },
                  "x": [
                    0.8073790894073575,
                    -1.6973745783272012,
                    0.40996595680297215,
                    1.2854685768379357,
                    0.6361501047598149,
                    0.13207783078145027,
                    -0.0020709143364442727,
                    0.4451459796608686,
                    0.8251129522487409,
                    0.006522721413051997,
                    0.5744547415306136,
                    -0.23390836845042268,
                    0.35092461072975084,
                    -1.8502004940584358,
                    -1.0898345711235922,
                    -0.6733032733746575,
                    -0.30508348400321167,
                    0.982080041824776,
                    0.39522895584606593,
                    -0.4626664306644632,
                    -0.4251881901075147,
                    0.08488056327679125,
                    -1.5709458521178379,
                    0.4354237254452735,
                    1.5206781309223758,
                    0.5385367855642316,
                    1.361857432131466,
                    1.243104183872984,
                    -0.030195583818084702,
                    -0.025455490295685803,
                    1.943802014130842,
                    0.6691248496463296,
                    -1.1260875280022447,
                    -0.12959143232017442,
                    1.1883168229750316,
                    0.5452414012110727,
                    1.3978891578398336,
                    3.880222355020218,
                    -0.026660127563018998,
                    0.5155711606491945,
                    -0.6987898508432406,
                    0.6854494348600327,
                    1.3866063406954972,
                    -1.0683739464629358,
                    1.5251299341728148,
                    -0.9755714647210725,
                    -1.166071211048564,
                    0.9934447154667686,
                    -0.00580782010240316,
                    -1.4134579244884833,
                    -0.3327859792240411,
                    0.7262893226528573,
                    1.4417195815865718,
                    0.8033789870440091,
                    0.04298416560588819,
                    -1.5232256206732064,
                    -2.0564434177013857,
                    -1.3700390416646673,
                    0.10784665230132051,
                    -0.45659657865967124,
                    1.0211162252720785,
                    -0.44406295667247747,
                    -0.4498387849327105,
                    -1.266759646209519,
                    -1.0557878475953553,
                    -1.4908227215844774,
                    0.7187802887621351,
                    0.5134492477902115,
                    1.232530069805916,
                    0.14658470541515586,
                    0.2845252974811109,
                    -0.03085846786930771,
                    0.26099220484364655,
                    -1.1620164489458757,
                    -0.48952010017451403,
                    0.2144407294609408,
                    -0.6563376779371715,
                    1.3488104267604788,
                    2.178668867660278,
                    -0.42308493083280807,
                    0.5625882679846936,
                    1.0060349799862895,
                    -1.6591320629590325,
                    0.5214272616516344,
                    0.3285369223086435,
                    -0.13366691432202746,
                    1.2685035737492887,
                    -0.9555401141886736,
                    -0.785189731858127,
                    1.163860152188834,
                    0.9441623706006071,
                    0.4295636322755884,
                    -1.2129064702146728,
                    1.261787760948596,
                    -0.8407234928184393,
                    -0.10489098021002438,
                    -1.0786867129279152,
                    0.36090066239956864,
                    0.2428837984572731,
                    -0.3455822271375725
                  ],
                  "line": {
                    "color": "rgba(128, 128, 128, 1.0)",
                    "dash": "solid",
                    "shape": "linear",
                    "width": 1.3
                  },
                  "type": "scatter"
                },
                {
                  "opacity": 0.8,
                  "name": "D",
                  "yaxis": "y16",
                  "histnorm": "",
                  "xaxis": "x16",
                  "nbinsx": 10,
                  "histfunc": "count",
                  "marker": {
                    "color": "rgba(128, 0, 128, 1.0)",
                    "line": {
                      "color": "#4D5663",
                      "width": 1.3
                    }
                  },
                  "x": [
                    0.49043496267422065,
                    -0.16020921175057304,
                    0.5600223844660832,
                    -1.6457740265135181,
                    0.4963057508329218,
                    0.7113347687697275,
                    0.6207571227104429,
                    -0.4802989504272413,
                    -0.9169943731946518,
                    -0.5399619902807821,
                    0.25173279018907857,
                    1.736098597955177,
                    -0.5216083631800642,
                    1.1601150050333258,
                    0.06354010557184407,
                    0.13568600125567723,
                    0.4720520030531927,
                    1.762677213689081,
                    -2.7172780203829925,
                    0.651345001424072,
                    0.8210729776516448,
                    -1.7796776837975599,
                    -1.4278461252975478,
                    0.2880833849979308,
                    0.11467586164572477,
                    -1.461987434305653,
                    2.1564421937560203,
                    -0.5827887727082924,
                    0.5248738036943954,
                    0.3954397310087084,
                    2.031970115169177,
                    -0.6582012871278141,
                    -0.4433818797837318,
                    0.3860631304779137,
                    1.544433750193125,
                    -0.09213284490442124,
                    0.7108078408272241,
                    -0.30176764260776073,
                    -0.36847269469679667,
                    -1.4188301927110463,
                    -0.3221256569142103,
                    1.0367364922416362,
                    -0.009353263347798041,
                    -0.05443211157828485,
                    -0.11893288118924607,
                    1.8796350349498958,
                    0.11014794610153036,
                    0.889472124374632,
                    0.27267097046214994,
                    -1.0981785042841463,
                    0.9997723744067619,
                    -0.4738638780925631,
                    -0.2557443956657543,
                    0.48975280862243953,
                    0.3639552791805878,
                    -0.7923190119911142,
                    0.06611370838280393,
                    -0.8900010948159683,
                    0.8297172777486412,
                    1.3854313901521784,
                    2.7293284352632896,
                    -0.7300632422534966,
                    -0.6164948006487315,
                    -0.9980511217793661,
                    0.6133896983942836,
                    -0.39706173921478877,
                    0.3298000089747955,
                    -0.2555913053069534,
                    0.7587563531931069,
                    0.6610231298035647,
                    -0.32700532650427927,
                    0.6858829048770517,
                    -0.24162613930041255,
                    -0.2871143325239671,
                    -0.9147726883519713,
                    0.3840404048386791,
                    0.8109418489749756,
                    -0.056249138180367836,
                    -1.1184405027580853,
                    -0.15825630783310934,
                    0.05673112277765671,
                    0.07147419010243035,
                    -0.3644628486419135,
                    0.17448285284941129,
                    -0.9934845464165444,
                    -0.2934489953134275,
                    -1.1511959051855722,
                    -0.5732909667244408,
                    -1.5136918861385404,
                    -0.8323430613111166,
                    0.7116469195796357,
                    1.5490775535806802,
                    0.889546463321769,
                    -0.5477416593484461,
                    0.41519085386565613,
                    0.5337401277761412,
                    0.3246920175018314,
                    0.3534489617977568,
                    -0.3135375640624861,
                    0.6586296615099057
                  ],
                  "type": "histogram",
                  "orientation": "v"
                }
              ],
              "config": {
                "plotlyServerURL": "https://plot.ly",
                "linkText": "Export to plot.ly",
                "showLink": true
              },
              "layout": {
                "paper_bgcolor": "#F5F6F9",
                "xaxis16": {
                  "tickfont": {
                    "color": "#4D5663"
                  },
                  "domain": [
                    0.7875,
                    1
                  ],
                  "title": {
                    "text": "",
                    "font": {
                      "color": "#4D5663"
                    }
                  },
                  "showgrid": false,
                  "zerolinecolor": "#E1E5ED",
                  "gridcolor": "#E1E5ED",
                  "anchor": "y16"
                },
                "xaxis15": {
                  "tickfont": {
                    "color": "#4D5663"
                  },
                  "domain": [
                    0.525,
                    0.7375
                  ],
                  "title": {
                    "text": "",
                    "font": {
                      "color": "#4D5663"
                    }
                  },
                  "showgrid": false,
                  "zerolinecolor": "#E1E5ED",
                  "gridcolor": "#E1E5ED",
                  "anchor": "y15"
                },
                "xaxis14": {
                  "tickfont": {
                    "color": "#4D5663"
                  },
                  "domain": [
                    0.2625,
                    0.475
                  ],
                  "title": {
                    "text": "",
                    "font": {
                      "color": "#4D5663"
                    }
                  },
                  "showgrid": false,
                  "zerolinecolor": "#E1E5ED",
                  "gridcolor": "#E1E5ED",
                  "anchor": "y14"
                },
                "xaxis13": {
                  "tickfont": {
                    "color": "#4D5663"
                  },
                  "domain": [
                    0,
                    0.2125
                  ],
                  "title": {
                    "text": "",
                    "font": {
                      "color": "#4D5663"
                    }
                  },
                  "showgrid": false,
                  "zerolinecolor": "#E1E5ED",
                  "gridcolor": "#E1E5ED",
                  "anchor": "y13"
                },
                "xaxis12": {
                  "tickfont": {
                    "color": "#4D5663"
                  },
                  "domain": [
                    0.7875,
                    1
                  ],
                  "title": {
                    "text": "",
                    "font": {
                      "color": "#4D5663"
                    }
                  },
                  "showgrid": false,
                  "zerolinecolor": "#E1E5ED",
                  "gridcolor": "#E1E5ED",
                  "anchor": "y12"
                },
                "xaxis11": {
                  "tickfont": {
                    "color": "#4D5663"
                  },
                  "domain": [
                    0.525,
                    0.7375
                  ],
                  "title": {
                    "text": "",
                    "font": {
                      "color": "#4D5663"
                    }
                  },
                  "showgrid": false,
                  "zerolinecolor": "#E1E5ED",
                  "gridcolor": "#E1E5ED",
                  "anchor": "y11"
                },
                "xaxis10": {
                  "tickfont": {
                    "color": "#4D5663"
                  },
                  "domain": [
                    0.2625,
                    0.475
                  ],
                  "title": {
                    "text": "",
                    "font": {
                      "color": "#4D5663"
                    }
                  },
                  "showgrid": false,
                  "zerolinecolor": "#E1E5ED",
                  "gridcolor": "#E1E5ED",
                  "anchor": "y10"
                },
                "yaxis2": {
                  "tickfont": {
                    "color": "#4D5663"
                  },
                  "domain": [
                    0.8025,
                    1
                  ],
                  "title": {
                    "text": "",
                    "font": {
                      "color": "#4D5663"
                    }
                  },
                  "showgrid": false,
                  "zerolinecolor": "#E1E5ED",
                  "gridcolor": "#E1E5ED",
                  "anchor": "x2"
                },
                "yaxis3": {
                  "tickfont": {
                    "color": "#4D5663"
                  },
                  "domain": [
                    0.8025,
                    1
                  ],
                  "title": {
                    "text": "",
                    "font": {
                      "color": "#4D5663"
                    }
                  },
                  "showgrid": false,
                  "zerolinecolor": "#E1E5ED",
                  "gridcolor": "#E1E5ED",
                  "anchor": "x3"
                },
                "yaxis4": {
                  "tickfont": {
                    "color": "#4D5663"
                  },
                  "domain": [
                    0.8025,
                    1
                  ],
                  "title": {
                    "text": "",
                    "font": {
                      "color": "#4D5663"
                    }
                  },
                  "showgrid": false,
                  "zerolinecolor": "#E1E5ED",
                  "gridcolor": "#E1E5ED",
                  "anchor": "x4"
                },
                "yaxis5": {
                  "tickfont": {
                    "color": "#4D5663"
                  },
                  "domain": [
                    0.535,
                    0.7325
                  ],
                  "title": {
                    "text": "",
                    "font": {
                      "color": "#4D5663"
                    }
                  },
                  "showgrid": false,
                  "zerolinecolor": "#E1E5ED",
                  "gridcolor": "#E1E5ED",
                  "anchor": "x5"
                },
                "yaxis6": {
                  "tickfont": {
                    "color": "#4D5663"
                  },
                  "domain": [
                    0.535,
                    0.7325
                  ],
                  "title": {
                    "text": "",
                    "font": {
                      "color": "#4D5663"
                    }
                  },
                  "showgrid": false,
                  "zerolinecolor": "#E1E5ED",
                  "gridcolor": "#E1E5ED",
                  "anchor": "x6"
                },
                "yaxis7": {
                  "tickfont": {
                    "color": "#4D5663"
                  },
                  "domain": [
                    0.535,
                    0.7325
                  ],
                  "title": {
                    "text": "",
                    "font": {
                      "color": "#4D5663"
                    }
                  },
                  "showgrid": false,
                  "zerolinecolor": "#E1E5ED",
                  "gridcolor": "#E1E5ED",
                  "anchor": "x7"
                },
                "yaxis8": {
                  "tickfont": {
                    "color": "#4D5663"
                  },
                  "domain": [
                    0.535,
                    0.7325
                  ],
                  "title": {
                    "text": "",
                    "font": {
                      "color": "#4D5663"
                    }
                  },
                  "showgrid": false,
                  "zerolinecolor": "#E1E5ED",
                  "gridcolor": "#E1E5ED",
                  "anchor": "x8"
                },
                "yaxis11": {
                  "tickfont": {
                    "color": "#4D5663"
                  },
                  "domain": [
                    0.2675,
                    0.465
                  ],
                  "title": {
                    "text": "",
                    "font": {
                      "color": "#4D5663"
                    }
                  },
                  "showgrid": false,
                  "zerolinecolor": "#E1E5ED",
                  "gridcolor": "#E1E5ED",
                  "anchor": "x11"
                },
                "yaxis9": {
                  "tickfont": {
                    "color": "#4D5663"
                  },
                  "domain": [
                    0.2675,
                    0.465
                  ],
                  "title": {
                    "text": "",
                    "font": {
                      "color": "#4D5663"
                    }
                  },
                  "showgrid": false,
                  "zerolinecolor": "#E1E5ED",
                  "gridcolor": "#E1E5ED",
                  "anchor": "x9"
                },
                "showlegend": false,
                "title": {
                  "font": {
                    "color": "#4D5663"
                  }
                },
                "plot_bgcolor": "#F5F6F9",
                "yaxis": {
                  "tickfont": {
                    "color": "#4D5663"
                  },
                  "domain": [
                    0.8025,
                    1
                  ],
                  "title": {
                    "text": "",
                    "font": {
                      "color": "#4D5663"
                    }
                  },
                  "showgrid": false,
                  "zerolinecolor": "#E1E5ED",
                  "gridcolor": "#E1E5ED",
                  "anchor": "x"
                },
                "yaxis12": {
                  "tickfont": {
                    "color": "#4D5663"
                  },
                  "domain": [
                    0.2675,
                    0.465
                  ],
                  "title": {
                    "text": "",
                    "font": {
                      "color": "#4D5663"
                    }
                  },
                  "showgrid": false,
                  "zerolinecolor": "#E1E5ED",
                  "gridcolor": "#E1E5ED",
                  "anchor": "x12"
                },
                "yaxis13": {
                  "tickfont": {
                    "color": "#4D5663"
                  },
                  "domain": [
                    0,
                    0.1975
                  ],
                  "title": {
                    "text": "",
                    "font": {
                      "color": "#4D5663"
                    }
                  },
                  "showgrid": false,
                  "zerolinecolor": "#E1E5ED",
                  "gridcolor": "#E1E5ED",
                  "anchor": "x13"
                },
                "yaxis10": {
                  "tickfont": {
                    "color": "#4D5663"
                  },
                  "domain": [
                    0.2675,
                    0.465
                  ],
                  "title": {
                    "text": "",
                    "font": {
                      "color": "#4D5663"
                    }
                  },
                  "showgrid": false,
                  "zerolinecolor": "#E1E5ED",
                  "gridcolor": "#E1E5ED",
                  "anchor": "x10"
                },
                "bargap": 0.02,
                "yaxis16": {
                  "tickfont": {
                    "color": "#4D5663"
                  },
                  "domain": [
                    0,
                    0.1975
                  ],
                  "title": {
                    "text": "",
                    "font": {
                      "color": "#4D5663"
                    }
                  },
                  "showgrid": false,
                  "zerolinecolor": "#E1E5ED",
                  "gridcolor": "#E1E5ED",
                  "anchor": "x16"
                },
                "xaxis": {
                  "tickfont": {
                    "color": "#4D5663"
                  },
                  "domain": [
                    0,
                    0.2125
                  ],
                  "title": {
                    "text": "",
                    "font": {
                      "color": "#4D5663"
                    }
                  },
                  "showgrid": false,
                  "zerolinecolor": "#E1E5ED",
                  "gridcolor": "#E1E5ED",
                  "anchor": "y"
                },
                "yaxis15": {
                  "tickfont": {
                    "color": "#4D5663"
                  },
                  "domain": [
                    0,
                    0.1975
                  ],
                  "title": {
                    "text": "",
                    "font": {
                      "color": "#4D5663"
                    }
                  },
                  "showgrid": false,
                  "zerolinecolor": "#E1E5ED",
                  "gridcolor": "#E1E5ED",
                  "anchor": "x15"
                },
                "template": {
                  "layout": {
                    "shapedefaults": {
                      "line": {
                        "color": "#2a3f5f"
                      }
                    },
                    "polar": {
                      "radialaxis": {
                        "ticks": "",
                        "gridcolor": "white",
                        "linecolor": "white"
                      },
                      "bgcolor": "#E5ECF6",
                      "angularaxis": {
                        "ticks": "",
                        "gridcolor": "white",
                        "linecolor": "white"
                      }
                    },
                    "colorway": [
                      "#636efa",
                      "#EF553B",
                      "#00cc96",
                      "#ab63fa",
                      "#FFA15A",
                      "#19d3f3",
                      "#FF6692",
                      "#B6E880",
                      "#FF97FF",
                      "#FECB52"
                    ],
                    "xaxis": {
                      "automargin": true,
                      "title": {
                        "standoff": 15
                      },
                      "zerolinewidth": 2,
                      "ticks": "",
                      "zerolinecolor": "white",
                      "gridcolor": "white",
                      "linecolor": "white"
                    },
                    "colorscale": {
                      "diverging": [
                        [
                          0,
                          "#8e0152"
                        ],
                        [
                          0.1,
                          "#c51b7d"
                        ],
                        [
                          0.2,
                          "#de77ae"
                        ],
                        [
                          0.3,
                          "#f1b6da"
                        ],
                        [
                          0.4,
                          "#fde0ef"
                        ],
                        [
                          0.5,
                          "#f7f7f7"
                        ],
                        [
                          0.6,
                          "#e6f5d0"
                        ],
                        [
                          0.7,
                          "#b8e186"
                        ],
                        [
                          0.8,
                          "#7fbc41"
                        ],
                        [
                          0.9,
                          "#4d9221"
                        ],
                        [
                          1,
                          "#276419"
                        ]
                      ],
                      "sequential": [
                        [
                          0,
                          "#0d0887"
                        ],
                        [
                          0.1111111111111111,
                          "#46039f"
                        ],
                        [
                          0.2222222222222222,
                          "#7201a8"
                        ],
                        [
                          0.3333333333333333,
                          "#9c179e"
                        ],
                        [
                          0.4444444444444444,
                          "#bd3786"
                        ],
                        [
                          0.5555555555555556,
                          "#d8576b"
                        ],
                        [
                          0.6666666666666666,
                          "#ed7953"
                        ],
                        [
                          0.7777777777777778,
                          "#fb9f3a"
                        ],
                        [
                          0.8888888888888888,
                          "#fdca26"
                        ],
                        [
                          1,
                          "#f0f921"
                        ]
                      ],
                      "sequentialminus": [
                        [
                          0,
                          "#0d0887"
                        ],
                        [
                          0.1111111111111111,
                          "#46039f"
                        ],
                        [
                          0.2222222222222222,
                          "#7201a8"
                        ],
                        [
                          0.3333333333333333,
                          "#9c179e"
                        ],
                        [
                          0.4444444444444444,
                          "#bd3786"
                        ],
                        [
                          0.5555555555555556,
                          "#d8576b"
                        ],
                        [
                          0.6666666666666666,
                          "#ed7953"
                        ],
                        [
                          0.7777777777777778,
                          "#fb9f3a"
                        ],
                        [
                          0.8888888888888888,
                          "#fdca26"
                        ],
                        [
                          1,
                          "#f0f921"
                        ]
                      ]
                    },
                    "paper_bgcolor": "white",
                    "plot_bgcolor": "#E5ECF6",
                    "title": {
                      "x": 0.05
                    },
                    "scene": {
                      "zaxis": {
                        "backgroundcolor": "#E5ECF6",
                        "ticks": "",
                        "gridwidth": 2,
                        "showbackground": true,
                        "zerolinecolor": "white",
                        "gridcolor": "white",
                        "linecolor": "white"
                      },
                      "xaxis": {
                        "backgroundcolor": "#E5ECF6",
                        "ticks": "",
                        "gridwidth": 2,
                        "showbackground": true,
                        "zerolinecolor": "white",
                        "gridcolor": "white",
                        "linecolor": "white"
                      },
                      "yaxis": {
                        "backgroundcolor": "#E5ECF6",
                        "ticks": "",
                        "gridwidth": 2,
                        "showbackground": true,
                        "zerolinecolor": "white",
                        "gridcolor": "white",
                        "linecolor": "white"
                      }
                    },
                    "yaxis": {
                      "automargin": true,
                      "title": {
                        "standoff": 15
                      },
                      "zerolinewidth": 2,
                      "ticks": "",
                      "zerolinecolor": "white",
                      "gridcolor": "white",
                      "linecolor": "white"
                    },
                    "annotationdefaults": {
                      "arrowwidth": 1,
                      "arrowhead": 0,
                      "arrowcolor": "#2a3f5f"
                    },
                    "hoverlabel": {
                      "align": "left"
                    },
                    "ternary": {
                      "bgcolor": "#E5ECF6",
                      "baxis": {
                        "ticks": "",
                        "gridcolor": "white",
                        "linecolor": "white"
                      },
                      "caxis": {
                        "ticks": "",
                        "gridcolor": "white",
                        "linecolor": "white"
                      },
                      "aaxis": {
                        "ticks": "",
                        "gridcolor": "white",
                        "linecolor": "white"
                      }
                    },
                    "mapbox": {
                      "style": "light"
                    },
                    "hovermode": "closest",
                    "font": {
                      "color": "#2a3f5f"
                    },
                    "geo": {
                      "showland": true,
                      "landcolor": "#E5ECF6",
                      "showlakes": true,
                      "bgcolor": "white",
                      "subunitcolor": "white",
                      "lakecolor": "white"
                    },
                    "coloraxis": {
                      "colorbar": {
                        "outlinewidth": 0,
                        "ticks": ""
                      }
                    }
                  },
                  "data": {
                    "mesh3d": [
                      {
                        "colorbar": {
                          "outlinewidth": 0,
                          "ticks": ""
                        },
                        "type": "mesh3d"
                      }
                    ],
                    "scattercarpet": [
                      {
                        "marker": {
                          "colorbar": {
                            "outlinewidth": 0,
                            "ticks": ""
                          }
                        },
                        "type": "scattercarpet"
                      }
                    ],
                    "pie": [
                      {
                        "automargin": true,
                        "type": "pie"
                      }
                    ],
                    "surface": [
                      {
                        "colorbar": {
                          "outlinewidth": 0,
                          "ticks": ""
                        },
                        "type": "surface",
                        "colorscale": [
                          [
                            0,
                            "#0d0887"
                          ],
                          [
                            0.1111111111111111,
                            "#46039f"
                          ],
                          [
                            0.2222222222222222,
                            "#7201a8"
                          ],
                          [
                            0.3333333333333333,
                            "#9c179e"
                          ],
                          [
                            0.4444444444444444,
                            "#bd3786"
                          ],
                          [
                            0.5555555555555556,
                            "#d8576b"
                          ],
                          [
                            0.6666666666666666,
                            "#ed7953"
                          ],
                          [
                            0.7777777777777778,
                            "#fb9f3a"
                          ],
                          [
                            0.8888888888888888,
                            "#fdca26"
                          ],
                          [
                            1,
                            "#f0f921"
                          ]
                        ]
                      }
                    ],
                    "table": [
                      {
                        "header": {
                          "line": {
                            "color": "white"
                          },
                          "fill": {
                            "color": "#C8D4E3"
                          }
                        },
                        "cells": {
                          "line": {
                            "color": "white"
                          },
                          "fill": {
                            "color": "#EBF0F8"
                          }
                        },
                        "type": "table"
                      }
                    ],
                    "scatterpolargl": [
                      {
                        "marker": {
                          "colorbar": {
                            "outlinewidth": 0,
                            "ticks": ""
                          }
                        },
                        "type": "scatterpolargl"
                      }
                    ],
                    "contour": [
                      {
                        "colorbar": {
                          "outlinewidth": 0,
                          "ticks": ""
                        },
                        "type": "contour",
                        "colorscale": [
                          [
                            0,
                            "#0d0887"
                          ],
                          [
                            0.1111111111111111,
                            "#46039f"
                          ],
                          [
                            0.2222222222222222,
                            "#7201a8"
                          ],
                          [
                            0.3333333333333333,
                            "#9c179e"
                          ],
                          [
                            0.4444444444444444,
                            "#bd3786"
                          ],
                          [
                            0.5555555555555556,
                            "#d8576b"
                          ],
                          [
                            0.6666666666666666,
                            "#ed7953"
                          ],
                          [
                            0.7777777777777778,
                            "#fb9f3a"
                          ],
                          [
                            0.8888888888888888,
                            "#fdca26"
                          ],
                          [
                            1,
                            "#f0f921"
                          ]
                        ]
                      }
                    ],
                    "carpet": [
                      {
                        "type": "carpet",
                        "baxis": {
                          "minorgridcolor": "white",
                          "gridcolor": "white",
                          "linecolor": "white",
                          "endlinecolor": "#2a3f5f",
                          "startlinecolor": "#2a3f5f"
                        },
                        "aaxis": {
                          "minorgridcolor": "white",
                          "gridcolor": "white",
                          "linecolor": "white",
                          "endlinecolor": "#2a3f5f",
                          "startlinecolor": "#2a3f5f"
                        }
                      }
                    ],
                    "contourcarpet": [
                      {
                        "colorbar": {
                          "outlinewidth": 0,
                          "ticks": ""
                        },
                        "type": "contourcarpet"
                      }
                    ],
                    "heatmap": [
                      {
                        "colorbar": {
                          "outlinewidth": 0,
                          "ticks": ""
                        },
                        "type": "heatmap",
                        "colorscale": [
                          [
                            0,
                            "#0d0887"
                          ],
                          [
                            0.1111111111111111,
                            "#46039f"
                          ],
                          [
                            0.2222222222222222,
                            "#7201a8"
                          ],
                          [
                            0.3333333333333333,
                            "#9c179e"
                          ],
                          [
                            0.4444444444444444,
                            "#bd3786"
                          ],
                          [
                            0.5555555555555556,
                            "#d8576b"
                          ],
                          [
                            0.6666666666666666,
                            "#ed7953"
                          ],
                          [
                            0.7777777777777778,
                            "#fb9f3a"
                          ],
                          [
                            0.8888888888888888,
                            "#fdca26"
                          ],
                          [
                            1,
                            "#f0f921"
                          ]
                        ]
                      }
                    ],
                    "scattermapbox": [
                      {
                        "marker": {
                          "colorbar": {
                            "outlinewidth": 0,
                            "ticks": ""
                          }
                        },
                        "type": "scattermapbox"
                      }
                    ],
                    "scatter3d": [
                      {
                        "marker": {
                          "colorbar": {
                            "outlinewidth": 0,
                            "ticks": ""
                          }
                        },
                        "line": {
                          "colorbar": {
                            "outlinewidth": 0,
                            "ticks": ""
                          }
                        },
                        "type": "scatter3d"
                      }
                    ],
                    "scattergl": [
                      {
                        "marker": {
                          "colorbar": {
                            "outlinewidth": 0,
                            "ticks": ""
                          }
                        },
                        "type": "scattergl"
                      }
                    ],
                    "scatterternary": [
                      {
                        "marker": {
                          "colorbar": {
                            "outlinewidth": 0,
                            "ticks": ""
                          }
                        },
                        "type": "scatterternary"
                      }
                    ],
                    "histogram": [
                      {
                        "marker": {
                          "colorbar": {
                            "outlinewidth": 0,
                            "ticks": ""
                          }
                        },
                        "type": "histogram"
                      }
                    ],
                    "heatmapgl": [
                      {
                        "colorbar": {
                          "outlinewidth": 0,
                          "ticks": ""
                        },
                        "type": "heatmapgl",
                        "colorscale": [
                          [
                            0,
                            "#0d0887"
                          ],
                          [
                            0.1111111111111111,
                            "#46039f"
                          ],
                          [
                            0.2222222222222222,
                            "#7201a8"
                          ],
                          [
                            0.3333333333333333,
                            "#9c179e"
                          ],
                          [
                            0.4444444444444444,
                            "#bd3786"
                          ],
                          [
                            0.5555555555555556,
                            "#d8576b"
                          ],
                          [
                            0.6666666666666666,
                            "#ed7953"
                          ],
                          [
                            0.7777777777777778,
                            "#fb9f3a"
                          ],
                          [
                            0.8888888888888888,
                            "#fdca26"
                          ],
                          [
                            1,
                            "#f0f921"
                          ]
                        ]
                      }
                    ],
                    "scatterpolar": [
                      {
                        "marker": {
                          "colorbar": {
                            "outlinewidth": 0,
                            "ticks": ""
                          }
                        },
                        "type": "scatterpolar"
                      }
                    ],
                    "histogram2d": [
                      {
                        "colorbar": {
                          "outlinewidth": 0,
                          "ticks": ""
                        },
                        "type": "histogram2d",
                        "colorscale": [
                          [
                            0,
                            "#0d0887"
                          ],
                          [
                            0.1111111111111111,
                            "#46039f"
                          ],
                          [
                            0.2222222222222222,
                            "#7201a8"
                          ],
                          [
                            0.3333333333333333,
                            "#9c179e"
                          ],
                          [
                            0.4444444444444444,
                            "#bd3786"
                          ],
                          [
                            0.5555555555555556,
                            "#d8576b"
                          ],
                          [
                            0.6666666666666666,
                            "#ed7953"
                          ],
                          [
                            0.7777777777777778,
                            "#fb9f3a"
                          ],
                          [
                            0.8888888888888888,
                            "#fdca26"
                          ],
                          [
                            1,
                            "#f0f921"
                          ]
                        ]
                      }
                    ],
                    "scattergeo": [
                      {
                        "marker": {
                          "colorbar": {
                            "outlinewidth": 0,
                            "ticks": ""
                          }
                        },
                        "type": "scattergeo"
                      }
                    ],
                    "bar": [
                      {
                        "marker": {
                          "line": {
                            "color": "#E5ECF6",
                            "width": 0.5
                          }
                        },
                        "type": "bar",
                        "error_x": {
                          "color": "#2a3f5f"
                        },
                        "error_y": {
                          "color": "#2a3f5f"
                        }
                      }
                    ],
                    "choropleth": [
                      {
                        "colorbar": {
                          "outlinewidth": 0,
                          "ticks": ""
                        },
                        "type": "choropleth"
                      }
                    ],
                    "parcoords": [
                      {
                        "line": {
                          "colorbar": {
                            "outlinewidth": 0,
                            "ticks": ""
                          }
                        },
                        "type": "parcoords"
                      }
                    ],
                    "barpolar": [
                      {
                        "marker": {
                          "line": {
                            "color": "#E5ECF6",
                            "width": 0.5
                          }
                        },
                        "type": "barpolar"
                      }
                    ],
                    "histogram2dcontour": [
                      {
                        "colorbar": {
                          "outlinewidth": 0,
                          "ticks": ""
                        },
                        "type": "histogram2dcontour",
                        "colorscale": [
                          [
                            0,
                            "#0d0887"
                          ],
                          [
                            0.1111111111111111,
                            "#46039f"
                          ],
                          [
                            0.2222222222222222,
                            "#7201a8"
                          ],
                          [
                            0.3333333333333333,
                            "#9c179e"
                          ],
                          [
                            0.4444444444444444,
                            "#bd3786"
                          ],
                          [
                            0.5555555555555556,
                            "#d8576b"
                          ],
                          [
                            0.6666666666666666,
                            "#ed7953"
                          ],
                          [
                            0.7777777777777778,
                            "#fb9f3a"
                          ],
                          [
                            0.8888888888888888,
                            "#fdca26"
                          ],
                          [
                            1,
                            "#f0f921"
                          ]
                        ]
                      }
                    ],
                    "scatter": [
                      {
                        "marker": {
                          "colorbar": {
                            "outlinewidth": 0,
                            "ticks": ""
                          }
                        },
                        "type": "scatter"
                      }
                    ]
                  }
                },
                "legend": {
                  "bgcolor": "#F5F6F9",
                  "font": {
                    "color": "#4D5663"
                  }
                },
                "xaxis9": {
                  "tickfont": {
                    "color": "#4D5663"
                  },
                  "domain": [
                    0,
                    0.2125
                  ],
                  "title": {
                    "text": "",
                    "font": {
                      "color": "#4D5663"
                    }
                  },
                  "showgrid": false,
                  "zerolinecolor": "#E1E5ED",
                  "gridcolor": "#E1E5ED",
                  "anchor": "y9"
                },
                "xaxis8": {
                  "tickfont": {
                    "color": "#4D5663"
                  },
                  "domain": [
                    0.7875,
                    1
                  ],
                  "title": {
                    "text": "",
                    "font": {
                      "color": "#4D5663"
                    }
                  },
                  "showgrid": false,
                  "zerolinecolor": "#E1E5ED",
                  "gridcolor": "#E1E5ED",
                  "anchor": "y8"
                },
                "xaxis7": {
                  "tickfont": {
                    "color": "#4D5663"
                  },
                  "domain": [
                    0.525,
                    0.7375
                  ],
                  "title": {
                    "text": "",
                    "font": {
                      "color": "#4D5663"
                    }
                  },
                  "showgrid": false,
                  "zerolinecolor": "#E1E5ED",
                  "gridcolor": "#E1E5ED",
                  "anchor": "y7"
                },
                "xaxis6": {
                  "tickfont": {
                    "color": "#4D5663"
                  },
                  "domain": [
                    0.2625,
                    0.475
                  ],
                  "title": {
                    "text": "",
                    "font": {
                      "color": "#4D5663"
                    }
                  },
                  "showgrid": false,
                  "zerolinecolor": "#E1E5ED",
                  "gridcolor": "#E1E5ED",
                  "anchor": "y6"
                },
                "xaxis5": {
                  "tickfont": {
                    "color": "#4D5663"
                  },
                  "domain": [
                    0,
                    0.2125
                  ],
                  "title": {
                    "text": "",
                    "font": {
                      "color": "#4D5663"
                    }
                  },
                  "showgrid": false,
                  "zerolinecolor": "#E1E5ED",
                  "gridcolor": "#E1E5ED",
                  "anchor": "y5"
                },
                "xaxis4": {
                  "tickfont": {
                    "color": "#4D5663"
                  },
                  "domain": [
                    0.7875,
                    1
                  ],
                  "title": {
                    "text": "",
                    "font": {
                      "color": "#4D5663"
                    }
                  },
                  "showgrid": false,
                  "zerolinecolor": "#E1E5ED",
                  "gridcolor": "#E1E5ED",
                  "anchor": "y4"
                },
                "xaxis3": {
                  "tickfont": {
                    "color": "#4D5663"
                  },
                  "domain": [
                    0.525,
                    0.7375
                  ],
                  "title": {
                    "text": "",
                    "font": {
                      "color": "#4D5663"
                    }
                  },
                  "showgrid": false,
                  "zerolinecolor": "#E1E5ED",
                  "gridcolor": "#E1E5ED",
                  "anchor": "y3"
                },
                "xaxis2": {
                  "tickfont": {
                    "color": "#4D5663"
                  },
                  "domain": [
                    0.2625,
                    0.475
                  ],
                  "title": {
                    "text": "",
                    "font": {
                      "color": "#4D5663"
                    }
                  },
                  "showgrid": false,
                  "zerolinecolor": "#E1E5ED",
                  "gridcolor": "#E1E5ED",
                  "anchor": "y2"
                },
                "yaxis14": {
                  "tickfont": {
                    "color": "#4D5663"
                  },
                  "domain": [
                    0,
                    0.1975
                  ],
                  "title": {
                    "text": "",
                    "font": {
                      "color": "#4D5663"
                    }
                  },
                  "showgrid": false,
                  "zerolinecolor": "#E1E5ED",
                  "gridcolor": "#E1E5ED",
                  "anchor": "x14"
                }
              }
            }
          },
          "metadata": {
            "tags": []
          }
        }
      ]
    },
    {
      "cell_type": "code",
      "metadata": {
        "id": "8teFjPt-f7rr",
        "colab_type": "code",
        "colab": {}
      },
      "source": [
        ""
      ],
      "execution_count": 0,
      "outputs": []
    }
  ]
}