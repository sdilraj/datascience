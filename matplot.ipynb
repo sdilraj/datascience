{
  "nbformat": 4,
  "nbformat_minor": 0,
  "metadata": {
    "colab": {
      "name": "matplot.ipynb",
      "provenance": [],
      "authorship_tag": "ABX9TyPx/Z+PCgPnBEuvTI6ErDMU"
    },
    "kernelspec": {
      "name": "python3",
      "display_name": "Python 3"
    }
  },
  "cells": [
    {
      "cell_type": "code",
      "metadata": {
        "id": "RtiFsuAm-Rib",
        "colab_type": "code",
        "colab": {}
      },
      "source": [
        "import matplotlib.pyplot as plt\n",
        "from random import choice\n",
        "%matplotlib inline"
      ],
      "execution_count": 22,
      "outputs": []
    },
    {
      "cell_type": "code",
      "metadata": {
        "id": "rGZnemv_S5ev",
        "colab_type": "code",
        "colab": {}
      },
      "source": [
        "plt.rc('figure',figsize = (12,6))"
      ],
      "execution_count": 2,
      "outputs": []
    },
    {
      "cell_type": "code",
      "metadata": {
        "id": "WzIjKG4JS_AM",
        "colab_type": "code",
        "colab": {
          "base_uri": "https://localhost:8080/",
          "height": 34
        },
        "outputId": "476f1f12-82fe-49df-b5e4-52f403995c72"
      },
      "source": [
        "values = list(range(0,55,5))\n",
        "values"
      ],
      "execution_count": 3,
      "outputs": [
        {
          "output_type": "execute_result",
          "data": {
            "text/plain": [
              "[0, 5, 10, 15, 20, 25, 30, 35, 40, 45, 50]"
            ]
          },
          "metadata": {
            "tags": []
          },
          "execution_count": 3
        }
      ]
    },
    {
      "cell_type": "code",
      "metadata": {
        "id": "9bRfZoe9TCgD",
        "colab_type": "code",
        "colab": {
          "base_uri": "https://localhost:8080/",
          "height": 34
        },
        "outputId": "b109934d-11f3-4fe9-fdee-6ddd85f41b8d"
      },
      "source": [
        "plt.plot(values)\n",
        "plt.show"
      ],
      "execution_count": 8,
      "outputs": [
        {
          "output_type": "execute_result",
          "data": {
            "text/plain": [
              "<function matplotlib.pyplot.show>"
            ]
          },
          "metadata": {
            "tags": []
          },
          "execution_count": 8
        }
      ]
    },
    {
      "cell_type": "code",
      "metadata": {
        "id": "AsoXocajT4ze",
        "colab_type": "code",
        "colab": {}
      },
      "source": [
        "walk = "
      ],
      "execution_count": 13,
      "outputs": []
    },
    {
      "cell_type": "code",
      "metadata": {
        "id": "WAsplp6dTcYD",
        "colab_type": "code",
        "colab": {}
      },
      "source": [
        "def rand_walk(step_num):\n",
        "  walk = []\n",
        "  step_choice = choice([1,-1])\n",
        "  walk.append(step_choice)\n",
        "\n",
        "  for i in range(1, step_num):\n",
        "    step_choice_2 = choice([1,-1])\n",
        "    next_step = walk[i-1] + step_choice_2\n",
        "    walk.append(next_step)\n",
        "  return walk"
      ],
      "execution_count": 14,
      "outputs": []
    },
    {
      "cell_type": "code",
      "metadata": {
        "id": "kWXl7mwiTxC_",
        "colab_type": "code",
        "colab": {}
      },
      "source": [
        "random_w = rand_walk(100)"
      ],
      "execution_count": 15,
      "outputs": []
    },
    {
      "cell_type": "code",
      "metadata": {
        "id": "o3wH3EHqVKRE",
        "colab_type": "code",
        "colab": {
          "base_uri": "https://localhost:8080/",
          "height": 34
        },
        "outputId": "78008a25-94bf-4b3f-da9a-4fe62c461f65"
      },
      "source": [
        "print(len(random_w))"
      ],
      "execution_count": 16,
      "outputs": [
        {
          "output_type": "stream",
          "text": [
            "100\n"
          ],
          "name": "stdout"
        }
      ]
    },
    {
      "cell_type": "code",
      "metadata": {
        "id": "cjYgd3wgVMp4",
        "colab_type": "code",
        "colab": {}
      },
      "source": [
        "def plot_walk(walk):\n",
        "  x = list(range(1, len(walk)+1))\n",
        "\n",
        "  plt.plot(x,walk)\n",
        "  plt.xlabel('# of steps')\n",
        "  plt.ylabel('Distance from origin')\n",
        "  plt.title('random walk')\n",
        "  plt.show()"
      ],
      "execution_count": 17,
      "outputs": []
    },
    {
      "cell_type": "code",
      "metadata": {
        "id": "rSf2Fd88WEwr",
        "colab_type": "code",
        "colab": {
          "base_uri": "https://localhost:8080/",
          "height": 295
        },
        "outputId": "a6e7b70b-defb-4dff-bb8a-0c2b9da146de"
      },
      "source": [
        "plot_walk(rand_walk(10000))"
      ],
      "execution_count": 24,
      "outputs": [
        {
          "output_type": "display_data",
          "data": {
            "image/png": "[encoded data removed]",
            "text/plain": [
              "<Figure size 432x288 with 1 Axes>"
            ]
          },
          "metadata": {
            "tags": [],
            "needs_background": "light"
          }
        }
      ]
    },
    {
      "cell_type": "code",
      "metadata": {
        "id": "PhkUwoxkWHyL",
        "colab_type": "code",
        "colab": {}
      },
      "source": [
        ""
      ],
      "execution_count": null,
      "outputs": []
    }
  ]
}